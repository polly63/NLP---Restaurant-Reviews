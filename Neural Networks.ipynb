{
 "cells": [
  {
   "cell_type": "code",
   "execution_count": 0,
   "metadata": {
    "colab": {
     "base_uri": "https://localhost:8080/",
     "height": 80
    },
    "colab_type": "code",
    "id": "6LePZ_CweM25",
    "outputId": "e32f6fc7-7d4e-4582-d27b-19dcd88345dc"
   },
   "outputs": [
    {
     "name": "stderr",
     "output_type": "stream",
     "text": [
      "Using TensorFlow backend.\n"
     ]
    },
    {
     "data": {
      "text/html": [
       "<p style=\"color: red;\">\n",
       "The default version of TensorFlow in Colab will soon switch to TensorFlow 2.x.<br>\n",
       "We recommend you <a href=\"https://www.tensorflow.org/guide/migrate\" target=\"_blank\">upgrade</a> now \n",
       "or ensure your notebook will continue to use TensorFlow 1.x via the <code>%tensorflow_version 1.x</code> magic:\n",
       "<a href=\"https://colab.research.google.com/notebooks/tensorflow_version.ipynb\" target=\"_blank\">more info</a>.</p>\n"
      ],
      "text/plain": [
       "<IPython.core.display.HTML object>"
      ]
     },
     "metadata": {
      "tags": []
     },
     "output_type": "display_data"
    }
   ],
   "source": [
    "import numpy as np\n",
    "import pandas as pd\n",
    "import seaborn as sns\n",
    "from string import punctuation\n",
    "from os import listdir\n",
    "from nltk.corpus import stopwords\n",
    "from keras.preprocessing.text import Tokenizer\n",
    "from keras.models import Sequential\n",
    "from keras.layers import Dense, Activation\n",
    "from sklearn.preprocessing import StandardScaler\n",
    "from keras import regularizers\n",
    "from keras import optimizers\n",
    "from keras.optimizers import adam"
   ]
  },
  {
   "cell_type": "code",
   "execution_count": 0,
   "metadata": {
    "colab": {
     "base_uri": "https://localhost:8080/",
     "height": 122
    },
    "colab_type": "code",
    "id": "_3x88gjzfWJN",
    "outputId": "57426a5f-2b6a-41cd-a799-1a178d1167b1"
   },
   "outputs": [
    {
     "name": "stdout",
     "output_type": "stream",
     "text": [
      "Go to this URL in a browser: https://accounts.google.com/o/oauth2/auth?client_id=947318989803-6bn6qk8qdgf4n4g3pfee6491hc0brc4i.apps.googleusercontent.com&redirect_uri=urn%3aietf%3awg%3aoauth%3a2.0%3aoob&response_type=code&scope=email%20https%3a%2f%2fwww.googleapis.com%2fauth%2fdocs.test%20https%3a%2f%2fwww.googleapis.com%2fauth%2fdrive%20https%3a%2f%2fwww.googleapis.com%2fauth%2fdrive.photos.readonly%20https%3a%2f%2fwww.googleapis.com%2fauth%2fpeopleapi.readonly\n",
      "\n",
      "Enter your authorization code:\n",
      "··········\n",
      "Mounted at /content/drive\n"
     ]
    }
   ],
   "source": [
    "from google.colab import drive\n",
    "drive.mount('/content/drive')"
   ]
  },
  {
   "cell_type": "markdown",
   "metadata": {
    "colab_type": "text",
    "id": "5Hbv7BqmdM4u"
   },
   "source": [
    "## Preprocessing"
   ]
  },
  {
   "cell_type": "code",
   "execution_count": 0,
   "metadata": {
    "colab": {},
    "colab_type": "code",
    "id": "yusgYGMRfecd"
   },
   "outputs": [],
   "source": [
    "reviews = pd.read_csv(\"/content/drive/My Drive/Colab Notebooks/Project Brian/reviews.csv\")"
   ]
  },
  {
   "cell_type": "code",
   "execution_count": 0,
   "metadata": {
    "colab": {},
    "colab_type": "code",
    "id": "-8OO7H60gNYL"
   },
   "outputs": [],
   "source": [
    "resturant = pd.read_csv(\"/content/drive/My Drive/Colab Notebooks/Project Brian/Restaurant_Reviews.tsv\", sep='\\t')"
   ]
  },
  {
   "cell_type": "code",
   "execution_count": 0,
   "metadata": {
    "colab": {
     "base_uri": "https://localhost:8080/",
     "height": 204
    },
    "colab_type": "code",
    "id": "Y9vysvI2hcsq",
    "outputId": "74de26dd-572b-4082-9a52-6af7e7b675fb"
   },
   "outputs": [
    {
     "data": {
      "text/html": [
       "<div>\n",
       "<style scoped>\n",
       "    .dataframe tbody tr th:only-of-type {\n",
       "        vertical-align: middle;\n",
       "    }\n",
       "\n",
       "    .dataframe tbody tr th {\n",
       "        vertical-align: top;\n",
       "    }\n",
       "\n",
       "    .dataframe thead th {\n",
       "        text-align: right;\n",
       "    }\n",
       "</style>\n",
       "<table border=\"1\" class=\"dataframe\">\n",
       "  <thead>\n",
       "    <tr style=\"text-align: right;\">\n",
       "      <th></th>\n",
       "      <th>Review Text</th>\n",
       "      <th>Review</th>\n",
       "      <th>Recommends</th>\n",
       "    </tr>\n",
       "  </thead>\n",
       "  <tbody>\n",
       "    <tr>\n",
       "      <th>0</th>\n",
       "      <td>Friendly staff, good food and homely environme...</td>\n",
       "      <td>NaN</td>\n",
       "      <td>True</td>\n",
       "    </tr>\n",
       "    <tr>\n",
       "      <th>1</th>\n",
       "      <td>Well...The Food was Good___Intrerior design is...</td>\n",
       "      <td>NaN</td>\n",
       "      <td>True</td>\n",
       "    </tr>\n",
       "    <tr>\n",
       "      <th>2</th>\n",
       "      <td>The man who is foodie like me for him arabian ...</td>\n",
       "      <td>5.0</td>\n",
       "      <td>NaN</td>\n",
       "    </tr>\n",
       "    <tr>\n",
       "      <th>3</th>\n",
       "      <td>ordered pizza and they were unable to serve th...</td>\n",
       "      <td>NaN</td>\n",
       "      <td>False</td>\n",
       "    </tr>\n",
       "    <tr>\n",
       "      <th>4</th>\n",
       "      <td>This place is too much comfortable &amp; food is d...</td>\n",
       "      <td>4.0</td>\n",
       "      <td>NaN</td>\n",
       "    </tr>\n",
       "  </tbody>\n",
       "</table>\n",
       "</div>"
      ],
      "text/plain": [
       "                                         Review Text  Review Recommends\n",
       "0  Friendly staff, good food and homely environme...     NaN       True\n",
       "1  Well...The Food was Good___Intrerior design is...     NaN       True\n",
       "2  The man who is foodie like me for him arabian ...     5.0        NaN\n",
       "3  ordered pizza and they were unable to serve th...     NaN      False\n",
       "4  This place is too much comfortable & food is d...     4.0        NaN"
      ]
     },
     "execution_count": 6,
     "metadata": {
      "tags": []
     },
     "output_type": "execute_result"
    }
   ],
   "source": [
    "reviews.head()"
   ]
  },
  {
   "cell_type": "code",
   "execution_count": 0,
   "metadata": {
    "colab": {
     "base_uri": "https://localhost:8080/",
     "height": 34
    },
    "colab_type": "code",
    "id": "mn0UQAgLm1Fk",
    "outputId": "482d5f66-faf1-47dc-f959-42896d3d20c2"
   },
   "outputs": [
    {
     "data": {
      "text/plain": [
       "5.0"
      ]
     },
     "execution_count": 7,
     "metadata": {
      "tags": []
     },
     "output_type": "execute_result"
    }
   ],
   "source": [
    "reviews.Review[2]"
   ]
  },
  {
   "cell_type": "code",
   "execution_count": 0,
   "metadata": {
    "colab": {
     "base_uri": "https://localhost:8080/",
     "height": 153
    },
    "colab_type": "code",
    "id": "kmPO5t13p3wx",
    "outputId": "df6b9cdd-0624-4759-c4d9-0e2ba14e8628"
   },
   "outputs": [
    {
     "name": "stdout",
     "output_type": "stream",
     "text": [
      "<class 'pandas.core.frame.DataFrame'>\n",
      "RangeIndex: 16597 entries, 0 to 16596\n",
      "Data columns (total 3 columns):\n",
      "Review Text    16597 non-null object\n",
      "Review         14678 non-null float64\n",
      "Recommends     1918 non-null object\n",
      "dtypes: float64(1), object(2)\n",
      "memory usage: 389.1+ KB\n"
     ]
    }
   ],
   "source": [
    "reviews.info()"
   ]
  },
  {
   "cell_type": "code",
   "execution_count": 0,
   "metadata": {
    "colab": {},
    "colab_type": "code",
    "id": "n7K8Bpv5lCoc"
   },
   "outputs": [],
   "source": [
    "reviews['Liked'] = -1\n",
    "reviews['Liked'].loc[reviews['Review'] == 5.0] = 1\n",
    "reviews['Liked'].loc[reviews['Review'] < 5.0] = 0\n",
    "reviews['Liked'].loc[reviews['Recommends'] == True] = 1\n",
    "reviews['Liked'].loc[reviews['Recommends'] == False] = 0"
   ]
  },
  {
   "cell_type": "code",
   "execution_count": 0,
   "metadata": {
    "colab": {},
    "colab_type": "code",
    "id": "ccMQ3W4RqCsl"
   },
   "outputs": [],
   "source": [
    "reviews['Review'] = reviews['Review Text']"
   ]
  },
  {
   "cell_type": "code",
   "execution_count": 0,
   "metadata": {
    "colab": {
     "base_uri": "https://localhost:8080/",
     "height": 204
    },
    "colab_type": "code",
    "id": "g_Z-xtD5mg7G",
    "outputId": "48edd2f4-aa71-4665-caa5-a709ed51b296"
   },
   "outputs": [
    {
     "data": {
      "text/html": [
       "<div>\n",
       "<style scoped>\n",
       "    .dataframe tbody tr th:only-of-type {\n",
       "        vertical-align: middle;\n",
       "    }\n",
       "\n",
       "    .dataframe tbody tr th {\n",
       "        vertical-align: top;\n",
       "    }\n",
       "\n",
       "    .dataframe thead th {\n",
       "        text-align: right;\n",
       "    }\n",
       "</style>\n",
       "<table border=\"1\" class=\"dataframe\">\n",
       "  <thead>\n",
       "    <tr style=\"text-align: right;\">\n",
       "      <th></th>\n",
       "      <th>Review Text</th>\n",
       "      <th>Review</th>\n",
       "      <th>Recommends</th>\n",
       "      <th>Liked</th>\n",
       "    </tr>\n",
       "  </thead>\n",
       "  <tbody>\n",
       "    <tr>\n",
       "      <th>0</th>\n",
       "      <td>Friendly staff, good food and homely environme...</td>\n",
       "      <td>Friendly staff, good food and homely environme...</td>\n",
       "      <td>True</td>\n",
       "      <td>1</td>\n",
       "    </tr>\n",
       "    <tr>\n",
       "      <th>1</th>\n",
       "      <td>Well...The Food was Good___Intrerior design is...</td>\n",
       "      <td>Well...The Food was Good___Intrerior design is...</td>\n",
       "      <td>True</td>\n",
       "      <td>1</td>\n",
       "    </tr>\n",
       "    <tr>\n",
       "      <th>2</th>\n",
       "      <td>The man who is foodie like me for him arabian ...</td>\n",
       "      <td>The man who is foodie like me for him arabian ...</td>\n",
       "      <td>NaN</td>\n",
       "      <td>1</td>\n",
       "    </tr>\n",
       "    <tr>\n",
       "      <th>3</th>\n",
       "      <td>ordered pizza and they were unable to serve th...</td>\n",
       "      <td>ordered pizza and they were unable to serve th...</td>\n",
       "      <td>False</td>\n",
       "      <td>0</td>\n",
       "    </tr>\n",
       "    <tr>\n",
       "      <th>4</th>\n",
       "      <td>This place is too much comfortable &amp; food is d...</td>\n",
       "      <td>This place is too much comfortable &amp; food is d...</td>\n",
       "      <td>NaN</td>\n",
       "      <td>0</td>\n",
       "    </tr>\n",
       "  </tbody>\n",
       "</table>\n",
       "</div>"
      ],
      "text/plain": [
       "                                         Review Text  ... Liked\n",
       "0  Friendly staff, good food and homely environme...  ...     1\n",
       "1  Well...The Food was Good___Intrerior design is...  ...     1\n",
       "2  The man who is foodie like me for him arabian ...  ...     1\n",
       "3  ordered pizza and they were unable to serve th...  ...     0\n",
       "4  This place is too much comfortable & food is d...  ...     0\n",
       "\n",
       "[5 rows x 4 columns]"
      ]
     },
     "execution_count": 59,
     "metadata": {
      "tags": []
     },
     "output_type": "execute_result"
    }
   ],
   "source": [
    "reviews.head(5)"
   ]
  },
  {
   "cell_type": "code",
   "execution_count": 0,
   "metadata": {
    "colab": {},
    "colab_type": "code",
    "id": "0PR2Ie0FjAE8"
   },
   "outputs": [],
   "source": [
    "editedReview = pd.DataFrame()\n",
    "editedReview['Review'] = reviews['Review']\n",
    "editedReview['Liked'] = reviews['Liked']\n",
    "editedReview.head()"
   ]
  },
  {
   "cell_type": "code",
   "execution_count": 0,
   "metadata": {
    "colab": {
     "base_uri": "https://localhost:8080/",
     "height": 204
    },
    "colab_type": "code",
    "id": "_dUPktAthf_0",
    "outputId": "d85d18ec-32e8-4a64-8a92-65310fd02a87"
   },
   "outputs": [
    {
     "data": {
      "text/html": [
       "<div>\n",
       "<style scoped>\n",
       "    .dataframe tbody tr th:only-of-type {\n",
       "        vertical-align: middle;\n",
       "    }\n",
       "\n",
       "    .dataframe tbody tr th {\n",
       "        vertical-align: top;\n",
       "    }\n",
       "\n",
       "    .dataframe thead th {\n",
       "        text-align: right;\n",
       "    }\n",
       "</style>\n",
       "<table border=\"1\" class=\"dataframe\">\n",
       "  <thead>\n",
       "    <tr style=\"text-align: right;\">\n",
       "      <th></th>\n",
       "      <th>Review</th>\n",
       "      <th>Liked</th>\n",
       "    </tr>\n",
       "  </thead>\n",
       "  <tbody>\n",
       "    <tr>\n",
       "      <th>0</th>\n",
       "      <td>Wow... Loved this place.</td>\n",
       "      <td>1</td>\n",
       "    </tr>\n",
       "    <tr>\n",
       "      <th>1</th>\n",
       "      <td>Crust is not good.</td>\n",
       "      <td>0</td>\n",
       "    </tr>\n",
       "    <tr>\n",
       "      <th>2</th>\n",
       "      <td>Not tasty and the texture was just nasty.</td>\n",
       "      <td>0</td>\n",
       "    </tr>\n",
       "    <tr>\n",
       "      <th>3</th>\n",
       "      <td>Stopped by during the late May bank holiday of...</td>\n",
       "      <td>1</td>\n",
       "    </tr>\n",
       "    <tr>\n",
       "      <th>4</th>\n",
       "      <td>The selection on the menu was great and so wer...</td>\n",
       "      <td>1</td>\n",
       "    </tr>\n",
       "  </tbody>\n",
       "</table>\n",
       "</div>"
      ],
      "text/plain": [
       "                                              Review  Liked\n",
       "0                           Wow... Loved this place.      1\n",
       "1                                 Crust is not good.      0\n",
       "2          Not tasty and the texture was just nasty.      0\n",
       "3  Stopped by during the late May bank holiday of...      1\n",
       "4  The selection on the menu was great and so wer...      1"
      ]
     },
     "execution_count": 13,
     "metadata": {
      "tags": []
     },
     "output_type": "execute_result"
    }
   ],
   "source": [
    "resturant.head()"
   ]
  },
  {
   "cell_type": "code",
   "execution_count": 0,
   "metadata": {
    "colab": {},
    "colab_type": "code",
    "id": "Fh3kKA52w-sS"
   },
   "outputs": [],
   "source": [
    "import nltk\n",
    "nltk.download('stopwords')"
   ]
  },
  {
   "cell_type": "code",
   "execution_count": 0,
   "metadata": {
    "colab": {},
    "colab_type": "code",
    "id": "bUhsCUBGwxSC"
   },
   "outputs": [],
   "source": [
    "stop_words = set(stopwords.words('english'))"
   ]
  },
  {
   "cell_type": "code",
   "execution_count": 0,
   "metadata": {
    "colab": {
     "base_uri": "https://localhost:8080/",
     "height": 34
    },
    "colab_type": "code",
    "id": "iMBZpaIk2VJt",
    "outputId": "0700a479-d9fd-42ce-a2aa-939f9ec78536"
   },
   "outputs": [
    {
     "data": {
      "text/plain": [
       "32"
      ]
     },
     "execution_count": 16,
     "metadata": {
      "tags": []
     },
     "output_type": "execute_result"
    }
   ],
   "source": [
    "punctuation\n",
    "len(punctuation)"
   ]
  },
  {
   "cell_type": "code",
   "execution_count": 0,
   "metadata": {
    "colab": {},
    "colab_type": "code",
    "id": "KiZEmyAFvMwA"
   },
   "outputs": [],
   "source": [
    "editedReview['Review'] = editedReview['Review'].str.split()"
   ]
  },
  {
   "cell_type": "code",
   "execution_count": 0,
   "metadata": {
    "colab": {},
    "colab_type": "code",
    "id": "IXGe7K5JxmVO"
   },
   "outputs": [],
   "source": [
    "editedReview['ReviewTokenize'] = tokensList"
   ]
  },
  {
   "cell_type": "code",
   "execution_count": 0,
   "metadata": {
    "colab": {
     "base_uri": "https://localhost:8080/",
     "height": 204
    },
    "colab_type": "code",
    "id": "YmrooGMkvas-",
    "outputId": "9bfb4a6a-19f0-4a24-b013-e530495b2f91"
   },
   "outputs": [
    {
     "data": {
      "text/html": [
       "<div>\n",
       "<style scoped>\n",
       "    .dataframe tbody tr th:only-of-type {\n",
       "        vertical-align: middle;\n",
       "    }\n",
       "\n",
       "    .dataframe tbody tr th {\n",
       "        vertical-align: top;\n",
       "    }\n",
       "\n",
       "    .dataframe thead th {\n",
       "        text-align: right;\n",
       "    }\n",
       "</style>\n",
       "<table border=\"1\" class=\"dataframe\">\n",
       "  <thead>\n",
       "    <tr style=\"text-align: right;\">\n",
       "      <th></th>\n",
       "      <th>Review</th>\n",
       "      <th>Liked</th>\n",
       "      <th>ReviewTokenize</th>\n",
       "    </tr>\n",
       "  </thead>\n",
       "  <tbody>\n",
       "    <tr>\n",
       "      <th>0</th>\n",
       "      <td>[Friendly, staff,, good, food, and, homely, en...</td>\n",
       "      <td>1</td>\n",
       "      <td>[friendly, staff, good, food, homely, environm...</td>\n",
       "    </tr>\n",
       "    <tr>\n",
       "      <th>1</th>\n",
       "      <td>[Well...The, Food, was, Good___Intrerior, desi...</td>\n",
       "      <td>1</td>\n",
       "      <td>[well, food, good, intrerior, design, nice, en...</td>\n",
       "    </tr>\n",
       "    <tr>\n",
       "      <th>2</th>\n",
       "      <td>[The, man, who, is, foodie, like, me, for, him...</td>\n",
       "      <td>1</td>\n",
       "      <td>[man, foodie, like, arabian, master, nice, pla...</td>\n",
       "    </tr>\n",
       "    <tr>\n",
       "      <th>3</th>\n",
       "      <td>[ordered, pizza, and, they, were, unable, to, ...</td>\n",
       "      <td>0</td>\n",
       "      <td>[ordered, pizza, unable, serve, ordered, set, ...</td>\n",
       "    </tr>\n",
       "    <tr>\n",
       "      <th>4</th>\n",
       "      <td>[This, place, is, too, much, comfortable, &amp;, f...</td>\n",
       "      <td>0</td>\n",
       "      <td>[place, much, comfortable, food, delicious, ev...</td>\n",
       "    </tr>\n",
       "  </tbody>\n",
       "</table>\n",
       "</div>"
      ],
      "text/plain": [
       "                                              Review  ...                                     ReviewTokenize\n",
       "0  [Friendly, staff,, good, food, and, homely, en...  ...  [friendly, staff, good, food, homely, environm...\n",
       "1  [Well...The, Food, was, Good___Intrerior, desi...  ...  [well, food, good, intrerior, design, nice, en...\n",
       "2  [The, man, who, is, foodie, like, me, for, him...  ...  [man, foodie, like, arabian, master, nice, pla...\n",
       "3  [ordered, pizza, and, they, were, unable, to, ...  ...  [ordered, pizza, unable, serve, ordered, set, ...\n",
       "4  [This, place, is, too, much, comfortable, &, f...  ...  [place, much, comfortable, food, delicious, ev...\n",
       "\n",
       "[5 rows x 3 columns]"
      ]
     },
     "execution_count": 67,
     "metadata": {
      "tags": []
     },
     "output_type": "execute_result"
    }
   ],
   "source": [
    "editedReview.head()"
   ]
  },
  {
   "cell_type": "code",
   "execution_count": 0,
   "metadata": {
    "colab": {
     "base_uri": "https://localhost:8080/",
     "height": 204
    },
    "colab_type": "code",
    "id": "RYw8hYzIzsKs",
    "outputId": "6b0d4dd3-1db9-49e9-8456-848db4b484d6"
   },
   "outputs": [
    {
     "data": {
      "text/html": [
       "<div>\n",
       "<style scoped>\n",
       "    .dataframe tbody tr th:only-of-type {\n",
       "        vertical-align: middle;\n",
       "    }\n",
       "\n",
       "    .dataframe tbody tr th {\n",
       "        vertical-align: top;\n",
       "    }\n",
       "\n",
       "    .dataframe thead th {\n",
       "        text-align: right;\n",
       "    }\n",
       "</style>\n",
       "<table border=\"1\" class=\"dataframe\">\n",
       "  <thead>\n",
       "    <tr style=\"text-align: right;\">\n",
       "      <th></th>\n",
       "      <th>Review</th>\n",
       "      <th>Liked</th>\n",
       "    </tr>\n",
       "  </thead>\n",
       "  <tbody>\n",
       "    <tr>\n",
       "      <th>0</th>\n",
       "      <td>Wow... Loved this place.</td>\n",
       "      <td>1</td>\n",
       "    </tr>\n",
       "    <tr>\n",
       "      <th>1</th>\n",
       "      <td>Crust is not good.</td>\n",
       "      <td>0</td>\n",
       "    </tr>\n",
       "    <tr>\n",
       "      <th>2</th>\n",
       "      <td>Not tasty and the texture was just nasty.</td>\n",
       "      <td>0</td>\n",
       "    </tr>\n",
       "    <tr>\n",
       "      <th>3</th>\n",
       "      <td>Stopped by during the late May bank holiday of...</td>\n",
       "      <td>1</td>\n",
       "    </tr>\n",
       "    <tr>\n",
       "      <th>4</th>\n",
       "      <td>The selection on the menu was great and so wer...</td>\n",
       "      <td>1</td>\n",
       "    </tr>\n",
       "  </tbody>\n",
       "</table>\n",
       "</div>"
      ],
      "text/plain": [
       "                                              Review  Liked\n",
       "0                           Wow... Loved this place.      1\n",
       "1                                 Crust is not good.      0\n",
       "2          Not tasty and the texture was just nasty.      0\n",
       "3  Stopped by during the late May bank holiday of...      1\n",
       "4  The selection on the menu was great and so wer...      1"
      ]
     },
     "execution_count": 23,
     "metadata": {
      "tags": []
     },
     "output_type": "execute_result"
    }
   ],
   "source": [
    "editedResturant = resturant.copy()\n",
    "editedResturant.head()"
   ]
  },
  {
   "cell_type": "code",
   "execution_count": 0,
   "metadata": {
    "colab": {},
    "colab_type": "code",
    "id": "1YLNUfyNuFJQ"
   },
   "outputs": [],
   "source": [
    "editedResturant['Review'] = editedResturant['Review'].str.split()"
   ]
  },
  {
   "cell_type": "code",
   "execution_count": 0,
   "metadata": {
    "colab": {
     "base_uri": "https://localhost:8080/",
     "height": 204
    },
    "colab_type": "code",
    "id": "tV8m-1jC0dRt",
    "outputId": "08b151d2-8744-422f-8241-7c380dc8b121"
   },
   "outputs": [
    {
     "data": {
      "text/html": [
       "<div>\n",
       "<style scoped>\n",
       "    .dataframe tbody tr th:only-of-type {\n",
       "        vertical-align: middle;\n",
       "    }\n",
       "\n",
       "    .dataframe tbody tr th {\n",
       "        vertical-align: top;\n",
       "    }\n",
       "\n",
       "    .dataframe thead th {\n",
       "        text-align: right;\n",
       "    }\n",
       "</style>\n",
       "<table border=\"1\" class=\"dataframe\">\n",
       "  <thead>\n",
       "    <tr style=\"text-align: right;\">\n",
       "      <th></th>\n",
       "      <th>Review</th>\n",
       "      <th>Liked</th>\n",
       "      <th>ReviewTokenize</th>\n",
       "    </tr>\n",
       "  </thead>\n",
       "  <tbody>\n",
       "    <tr>\n",
       "      <th>0</th>\n",
       "      <td>[Wow..., Loved, this, place.]</td>\n",
       "      <td>1</td>\n",
       "      <td>[wow, loved, place]</td>\n",
       "    </tr>\n",
       "    <tr>\n",
       "      <th>1</th>\n",
       "      <td>[Crust, is, not, good.]</td>\n",
       "      <td>0</td>\n",
       "      <td>[crust, good]</td>\n",
       "    </tr>\n",
       "    <tr>\n",
       "      <th>2</th>\n",
       "      <td>[Not, tasty, and, the, texture, was, just, nas...</td>\n",
       "      <td>0</td>\n",
       "      <td>[tasty, texture, nasty]</td>\n",
       "    </tr>\n",
       "    <tr>\n",
       "      <th>3</th>\n",
       "      <td>[Stopped, by, during, the, late, May, bank, ho...</td>\n",
       "      <td>1</td>\n",
       "      <td>[stopped, late, may, bank, holiday, rick, stev...</td>\n",
       "    </tr>\n",
       "    <tr>\n",
       "      <th>4</th>\n",
       "      <td>[The, selection, on, the, menu, was, great, an...</td>\n",
       "      <td>1</td>\n",
       "      <td>[selection, menu, great, prices]</td>\n",
       "    </tr>\n",
       "  </tbody>\n",
       "</table>\n",
       "</div>"
      ],
      "text/plain": [
       "                                              Review  ...                                     ReviewTokenize\n",
       "0                      [Wow..., Loved, this, place.]  ...                                [wow, loved, place]\n",
       "1                            [Crust, is, not, good.]  ...                                      [crust, good]\n",
       "2  [Not, tasty, and, the, texture, was, just, nas...  ...                            [tasty, texture, nasty]\n",
       "3  [Stopped, by, during, the, late, May, bank, ho...  ...  [stopped, late, may, bank, holiday, rick, stev...\n",
       "4  [The, selection, on, the, menu, was, great, an...  ...                   [selection, menu, great, prices]\n",
       "\n",
       "[5 rows x 3 columns]"
      ]
     },
     "execution_count": 25,
     "metadata": {
      "tags": []
     },
     "output_type": "execute_result"
    }
   ],
   "source": [
    "tokensList = []\n",
    "tokens = []\n",
    "for line in editedResturant['Review']:\n",
    "  tokens = line\n",
    "  table = str.maketrans('😜😊' + punctuation,'                                  ', '')\n",
    "  result = []\n",
    "  for word in tokens:\n",
    "    word = word.lower()\n",
    "    l = word.translate(table)\n",
    "    result = result + l.split(\" \")\n",
    "  tokens =[word.translate(table) for word in result]\n",
    "  table = str.maketrans('','', punctuation)\n",
    "  tokens =[word.translate(table) for word in tokens]\n",
    "  tokens = [word for word in tokens if word.isalpha()]\n",
    "    # filter out stopwords\n",
    "  tokens = [word for word in tokens if not word in stop_words]\n",
    "  tokensList.append(tokens)\n",
    "editedResturant['ReviewTokenize'] = tokensList\n",
    "editedResturant.head()"
   ]
  },
  {
   "cell_type": "markdown",
   "metadata": {
    "colab_type": "text",
    "id": "A0ysF0hMdxvg"
   },
   "source": [
    "# Neural Network "
   ]
  },
  {
   "cell_type": "code",
   "execution_count": 0,
   "metadata": {
    "colab": {},
    "colab_type": "code",
    "id": "kSSHIgnIAh49"
   },
   "outputs": [],
   "source": [
    "#gloveModel Imports\n",
    "import gensim\n",
    "from gensim.models import Word2Vec\n",
    "from gensim.models import KeyedVectors\n",
    "from gensim.scripts.glove2word2vec import glove2word2vec"
   ]
  },
  {
   "cell_type": "code",
   "execution_count": 0,
   "metadata": {
    "colab": {
     "base_uri": "https://localhost:8080/",
     "height": 88
    },
    "colab_type": "code",
    "id": "tOrHpDE2eIu8",
    "outputId": "7c1c64a3-3bbb-42f5-c9f6-4f55a9cc0a84"
   },
   "outputs": [
    {
     "name": "stdout",
     "output_type": "stream",
     "text": [
      "[==================================================] 100.0% 128.1/128.1MB downloaded\n"
     ]
    },
    {
     "name": "stderr",
     "output_type": "stream",
     "text": [
      "/usr/local/lib/python3.6/dist-packages/smart_open/smart_open_lib.py:402: UserWarning: This function is deprecated, use smart_open.open instead. See the migration notes for details: https://github.com/RaRe-Technologies/smart_open/blob/master/README.rst#migrating-to-the-new-open-function\n",
      "  'See the migration notes for details: %s' % _MIGRATION_NOTES_URL\n"
     ]
    }
   ],
   "source": [
    "#Read the predefined package from research \n",
    "import gensim.downloader as api\n",
    "word_vectors = api.load(\"glove-wiki-gigaword-100\")"
   ]
  },
  {
   "cell_type": "code",
   "execution_count": 0,
   "metadata": {
    "colab": {
     "base_uri": "https://localhost:8080/",
     "height": 71
    },
    "colab_type": "code",
    "id": "xurzFOWfAFw7",
    "outputId": "1f57d182-d5a0-4aaf-a6b6-11ff35ea553f"
   },
   "outputs": [
    {
     "name": "stderr",
     "output_type": "stream",
     "text": [
      "/usr/local/lib/python3.6/dist-packages/gensim/matutils.py:737: FutureWarning: Conversion of the second argument of issubdtype from `int` to `np.signedinteger` is deprecated. In future, it will be treated as `np.int64 == np.dtype(int).type`.\n",
      "  if np.issubdtype(vec.dtype, np.int):\n"
     ]
    }
   ],
   "source": [
    "sim = word_vectors.n_similarity(['sushi', 'shop'], ['japanese', 'restaurant'])"
   ]
  },
  {
   "cell_type": "code",
   "execution_count": 0,
   "metadata": {
    "colab": {
     "base_uri": "https://localhost:8080/",
     "height": 34
    },
    "colab_type": "code",
    "id": "Fsj7eHsWFRf8",
    "outputId": "04163174-f185-45ca-86b0-ec7815a24e15"
   },
   "outputs": [
    {
     "data": {
      "text/plain": [
       "0.7066633"
      ]
     },
     "execution_count": 31,
     "metadata": {
      "tags": []
     },
     "output_type": "execute_result"
    }
   ],
   "source": [
    "sim"
   ]
  },
  {
   "cell_type": "code",
   "execution_count": 0,
   "metadata": {
    "colab": {},
    "colab_type": "code",
    "id": "CrzK0QHCF3Sc"
   },
   "outputs": [],
   "source": [
    "poitive = open('/content/drive/My Drive/Colab Notebooks/Project Brian/positive-words.txt').read().split('\\n')\n",
    "#negative = open('/content/drive/My Drive/Colab Notebooks/Project Brian/negative-words.txt').read().split('\\n')"
   ]
  },
  {
   "cell_type": "code",
   "execution_count": 0,
   "metadata": {
    "colab": {
     "base_uri": "https://localhost:8080/",
     "height": 34
    },
    "colab_type": "code",
    "id": "8oxGYCpZJAjV",
    "outputId": "83df8cd6-ba07-4290-c722-5fd5cf3bdd59"
   },
   "outputs": [
    {
     "data": {
      "text/plain": [
       "6.544278576640395"
      ]
     },
     "execution_count": 33,
     "metadata": {
      "tags": []
     },
     "output_type": "execute_result"
    }
   ],
   "source": [
    "sim = word_vectors.wmdistance(editedResturant['ReviewTokenize'][4], poitive)\n",
    "sim"
   ]
  },
  {
   "cell_type": "code",
   "execution_count": 0,
   "metadata": {
    "colab": {
     "base_uri": "https://localhost:8080/",
     "height": 204
    },
    "colab_type": "code",
    "id": "-IS3d6yULpuc",
    "outputId": "e7d71a58-c6b9-4781-a5f5-b31c305714ee"
   },
   "outputs": [
    {
     "data": {
      "text/html": [
       "<div>\n",
       "<style scoped>\n",
       "    .dataframe tbody tr th:only-of-type {\n",
       "        vertical-align: middle;\n",
       "    }\n",
       "\n",
       "    .dataframe tbody tr th {\n",
       "        vertical-align: top;\n",
       "    }\n",
       "\n",
       "    .dataframe thead th {\n",
       "        text-align: right;\n",
       "    }\n",
       "</style>\n",
       "<table border=\"1\" class=\"dataframe\">\n",
       "  <thead>\n",
       "    <tr style=\"text-align: right;\">\n",
       "      <th></th>\n",
       "      <th>y</th>\n",
       "      <th>posScore</th>\n",
       "      <th>posListScore</th>\n",
       "    </tr>\n",
       "  </thead>\n",
       "  <tbody>\n",
       "    <tr>\n",
       "      <th>0</th>\n",
       "      <td>1</td>\n",
       "      <td>6.142225</td>\n",
       "      <td>[7.458121409352472, 7.446665936036574, 7.30616...</td>\n",
       "    </tr>\n",
       "    <tr>\n",
       "      <th>1</th>\n",
       "      <td>0</td>\n",
       "      <td>6.468736</td>\n",
       "      <td>[7.22366408529583, 7.391361957703441]</td>\n",
       "    </tr>\n",
       "    <tr>\n",
       "      <th>2</th>\n",
       "      <td>0</td>\n",
       "      <td>6.155787</td>\n",
       "      <td>[7.113257389235266, 7.329212824743773, 7.10858...</td>\n",
       "    </tr>\n",
       "    <tr>\n",
       "      <th>3</th>\n",
       "      <td>1</td>\n",
       "      <td>6.430529</td>\n",
       "      <td>[7.23008866450216, 7.1403864593157085, 7.41719...</td>\n",
       "    </tr>\n",
       "    <tr>\n",
       "      <th>4</th>\n",
       "      <td>1</td>\n",
       "      <td>6.544279</td>\n",
       "      <td>[7.139057824871522, 7.29461107646869, 7.253130...</td>\n",
       "    </tr>\n",
       "  </tbody>\n",
       "</table>\n",
       "</div>"
      ],
      "text/plain": [
       "   y  posScore                                       posListScore\n",
       "0  1  6.142225  [7.458121409352472, 7.446665936036574, 7.30616...\n",
       "1  0  6.468736              [7.22366408529583, 7.391361957703441]\n",
       "2  0  6.155787  [7.113257389235266, 7.329212824743773, 7.10858...\n",
       "3  1  6.430529  [7.23008866450216, 7.1403864593157085, 7.41719...\n",
       "4  1  6.544279  [7.139057824871522, 7.29461107646869, 7.253130..."
      ]
     },
     "execution_count": 34,
     "metadata": {
      "tags": []
     },
     "output_type": "execute_result"
    }
   ],
   "source": [
    "#convert each word into distances \n",
    "res = pd.DataFrame()\n",
    "res['y'] = editedResturant['Liked']\n",
    "\n",
    "posScore = []\n",
    "poslistScore = []\n",
    "for element in editedResturant['ReviewTokenize']:\n",
    "  posScore.append(word_vectors.wmdistance(element, poitive))\n",
    "  l = []\n",
    "  for word in element:\n",
    "    l.append(word_vectors.wmdistance(word, poitive))\n",
    "  poslistScore.append(l)\n",
    "res['posScore'] = posScore\n",
    "res['posListScore'] = poslistScore\n",
    "res.head()"
   ]
  },
  {
   "cell_type": "code",
   "execution_count": 0,
   "metadata": {
    "colab": {},
    "colab_type": "code",
    "id": "UCrpMnbP-0pl"
   },
   "outputs": [],
   "source": [
    "#convert each word into distances \n",
    "rev = pd.DataFrame()\n",
    "rev['y'] = editedReview['Liked']\n",
    "\n",
    "posScore = []\n",
    "poslistScore = []\n",
    "for element in editedReview['ReviewTokenize']:\n",
    "  posScore.append(word_vectors.wmdistance(element, poitive))\n",
    "  l = []\n",
    "  for word in element:\n",
    "    l.append(word_vectors.wmdistance(word, poitive))\n",
    "  poslistScore.append(l)\n",
    "rev['posScore'] = posScore\n",
    "rev['posListScore'] = poslistScore\n",
    "rev.to_csv(\"/content/drive/My Drive/Colab Notebooks/Project Brian/rev.csv\")\n",
    "rev.head()"
   ]
  },
  {
   "cell_type": "code",
   "execution_count": 0,
   "metadata": {
    "colab": {},
    "colab_type": "code",
    "id": "yjJkpFmLOQE9"
   },
   "outputs": [],
   "source": [
    "res.to_csv(\"/content/drive/My Drive/Colab Notebooks/Project Brian/res.csv\")"
   ]
  },
  {
   "cell_type": "markdown",
   "metadata": {
    "colab_type": "text",
    "id": "9VI5PzGrc-Uj"
   },
   "source": [
    "## Start Training the Model "
   ]
  },
  {
   "cell_type": "code",
   "execution_count": 0,
   "metadata": {
    "colab": {},
    "colab_type": "code",
    "id": "1XFpuUyuc9Te"
   },
   "outputs": [],
   "source": [
    "res = pd.read_csv('/content/drive/My Drive/Colab Notebooks/Project Brian/res.csv')"
   ]
  },
  {
   "cell_type": "code",
   "execution_count": 0,
   "metadata": {
    "colab": {
     "base_uri": "https://localhost:8080/",
     "height": 297
    },
    "colab_type": "code",
    "id": "oNtTsR3Bc2br",
    "outputId": "323c6d83-d447-4e30-b7ff-6c9254868a5b"
   },
   "outputs": [
    {
     "data": {
      "text/html": [
       "<div>\n",
       "<style scoped>\n",
       "    .dataframe tbody tr th:only-of-type {\n",
       "        vertical-align: middle;\n",
       "    }\n",
       "\n",
       "    .dataframe tbody tr th {\n",
       "        vertical-align: top;\n",
       "    }\n",
       "\n",
       "    .dataframe thead th {\n",
       "        text-align: right;\n",
       "    }\n",
       "</style>\n",
       "<table border=\"1\" class=\"dataframe\">\n",
       "  <thead>\n",
       "    <tr style=\"text-align: right;\">\n",
       "      <th></th>\n",
       "      <th>Unnamed: 0</th>\n",
       "      <th>y</th>\n",
       "      <th>posScore</th>\n",
       "    </tr>\n",
       "  </thead>\n",
       "  <tbody>\n",
       "    <tr>\n",
       "      <th>count</th>\n",
       "      <td>999.000000</td>\n",
       "      <td>999.000000</td>\n",
       "      <td>999.000000</td>\n",
       "    </tr>\n",
       "    <tr>\n",
       "      <th>mean</th>\n",
       "      <td>499.859860</td>\n",
       "      <td>0.500501</td>\n",
       "      <td>6.278644</td>\n",
       "    </tr>\n",
       "    <tr>\n",
       "      <th>std</th>\n",
       "      <td>288.739713</td>\n",
       "      <td>0.500250</td>\n",
       "      <td>0.301358</td>\n",
       "    </tr>\n",
       "    <tr>\n",
       "      <th>min</th>\n",
       "      <td>0.000000</td>\n",
       "      <td>0.000000</td>\n",
       "      <td>5.342560</td>\n",
       "    </tr>\n",
       "    <tr>\n",
       "      <th>25%</th>\n",
       "      <td>250.500000</td>\n",
       "      <td>0.000000</td>\n",
       "      <td>6.100271</td>\n",
       "    </tr>\n",
       "    <tr>\n",
       "      <th>50%</th>\n",
       "      <td>500.000000</td>\n",
       "      <td>1.000000</td>\n",
       "      <td>6.255398</td>\n",
       "    </tr>\n",
       "    <tr>\n",
       "      <th>75%</th>\n",
       "      <td>749.500000</td>\n",
       "      <td>1.000000</td>\n",
       "      <td>6.428220</td>\n",
       "    </tr>\n",
       "    <tr>\n",
       "      <th>max</th>\n",
       "      <td>999.000000</td>\n",
       "      <td>1.000000</td>\n",
       "      <td>8.305947</td>\n",
       "    </tr>\n",
       "  </tbody>\n",
       "</table>\n",
       "</div>"
      ],
      "text/plain": [
       "       Unnamed: 0           y    posScore\n",
       "count  999.000000  999.000000  999.000000\n",
       "mean   499.859860    0.500501    6.278644\n",
       "std    288.739713    0.500250    0.301358\n",
       "min      0.000000    0.000000    5.342560\n",
       "25%    250.500000    0.000000    6.100271\n",
       "50%    500.000000    1.000000    6.255398\n",
       "75%    749.500000    1.000000    6.428220\n",
       "max    999.000000    1.000000    8.305947"
      ]
     },
     "execution_count": 4,
     "metadata": {
      "tags": []
     },
     "output_type": "execute_result"
    }
   ],
   "source": [
    "res = res.replace([np.inf, -np.inf], np.nan).dropna()\n",
    "res.describe()"
   ]
  },
  {
   "cell_type": "code",
   "execution_count": 0,
   "metadata": {
    "colab": {
     "base_uri": "https://localhost:8080/",
     "height": 119
    },
    "colab_type": "code",
    "id": "73eGvXNCei9I",
    "outputId": "d6962e7e-f209-468e-ff91-cb5c4fec06f0"
   },
   "outputs": [
    {
     "name": "stdout",
     "output_type": "stream",
     "text": [
      "<class 'pandas.core.frame.DataFrame'>\n",
      "Int64Index: 999 entries, 0 to 999\n",
      "Data columns (total 1 columns):\n",
      "posScore    999 non-null float64\n",
      "dtypes: float64(1)\n",
      "memory usage: 15.6 KB\n"
     ]
    }
   ],
   "source": [
    "y = pd.DataFrame(res['y'])\n",
    "x = pd.DataFrame()\n",
    "x['posScore'] = res['posScore']\n",
    "x.info()"
   ]
  },
  {
   "cell_type": "code",
   "execution_count": 0,
   "metadata": {
    "colab": {},
    "colab_type": "code",
    "id": "0WKE4nPO5IwD"
   },
   "outputs": [],
   "source": [
    "maxA = []\n",
    "minA = []\n",
    "meanA = []\n",
    "d = 0\n",
    "for element in res['posListScore']:\n",
    "  d= d + 1\n",
    "  a = element.strip('[]').split(',')\n",
    "  for i in range(len(a)):\n",
    "    if a == ['']:\n",
    "      a = [0]\n",
    "    else:\n",
    "      a[i] = float(a[i].strip())\n",
    "  maxA.append(max(a))\n",
    "  minA.append(min(a))\n",
    "  meanA.append(sum(a)/len(a))"
   ]
  },
  {
   "cell_type": "code",
   "execution_count": 0,
   "metadata": {
    "colab": {
     "base_uri": "https://localhost:8080/",
     "height": 297
    },
    "colab_type": "code",
    "id": "o3VZXAmw6zgj",
    "outputId": "ccfdff79-2c8e-44c0-8ae1-ce2d0b0ac6b2"
   },
   "outputs": [
    {
     "data": {
      "text/html": [
       "<div>\n",
       "<style scoped>\n",
       "    .dataframe tbody tr th:only-of-type {\n",
       "        vertical-align: middle;\n",
       "    }\n",
       "\n",
       "    .dataframe tbody tr th {\n",
       "        vertical-align: top;\n",
       "    }\n",
       "\n",
       "    .dataframe thead th {\n",
       "        text-align: right;\n",
       "    }\n",
       "</style>\n",
       "<table border=\"1\" class=\"dataframe\">\n",
       "  <thead>\n",
       "    <tr style=\"text-align: right;\">\n",
       "      <th></th>\n",
       "      <th>posScore</th>\n",
       "      <th>max</th>\n",
       "      <th>min</th>\n",
       "      <th>mean</th>\n",
       "    </tr>\n",
       "  </thead>\n",
       "  <tbody>\n",
       "    <tr>\n",
       "      <th>count</th>\n",
       "      <td>999.000000</td>\n",
       "      <td>999.000000</td>\n",
       "      <td>999.000000</td>\n",
       "      <td>999.000000</td>\n",
       "    </tr>\n",
       "    <tr>\n",
       "      <th>mean</th>\n",
       "      <td>6.278644</td>\n",
       "      <td>7.434684</td>\n",
       "      <td>7.076513</td>\n",
       "      <td>7.252922</td>\n",
       "    </tr>\n",
       "    <tr>\n",
       "      <th>std</th>\n",
       "      <td>0.301358</td>\n",
       "      <td>0.141001</td>\n",
       "      <td>0.127778</td>\n",
       "      <td>0.087921</td>\n",
       "    </tr>\n",
       "    <tr>\n",
       "      <th>min</th>\n",
       "      <td>5.342560</td>\n",
       "      <td>6.945787</td>\n",
       "      <td>6.814215</td>\n",
       "      <td>6.945787</td>\n",
       "    </tr>\n",
       "    <tr>\n",
       "      <th>25%</th>\n",
       "      <td>6.100271</td>\n",
       "      <td>7.370653</td>\n",
       "      <td>6.995222</td>\n",
       "      <td>7.199426</td>\n",
       "    </tr>\n",
       "    <tr>\n",
       "      <th>50%</th>\n",
       "      <td>6.255398</td>\n",
       "      <td>7.417377</td>\n",
       "      <td>7.058258</td>\n",
       "      <td>7.254803</td>\n",
       "    </tr>\n",
       "    <tr>\n",
       "      <th>75%</th>\n",
       "      <td>6.428220</td>\n",
       "      <td>7.506137</td>\n",
       "      <td>7.147565</td>\n",
       "      <td>7.307521</td>\n",
       "    </tr>\n",
       "    <tr>\n",
       "      <th>max</th>\n",
       "      <td>8.305947</td>\n",
       "      <td>7.939488</td>\n",
       "      <td>7.545414</td>\n",
       "      <td>7.603868</td>\n",
       "    </tr>\n",
       "  </tbody>\n",
       "</table>\n",
       "</div>"
      ],
      "text/plain": [
       "         posScore         max         min        mean\n",
       "count  999.000000  999.000000  999.000000  999.000000\n",
       "mean     6.278644    7.434684    7.076513    7.252922\n",
       "std      0.301358    0.141001    0.127778    0.087921\n",
       "min      5.342560    6.945787    6.814215    6.945787\n",
       "25%      6.100271    7.370653    6.995222    7.199426\n",
       "50%      6.255398    7.417377    7.058258    7.254803\n",
       "75%      6.428220    7.506137    7.147565    7.307521\n",
       "max      8.305947    7.939488    7.545414    7.603868"
      ]
     },
     "execution_count": 7,
     "metadata": {
      "tags": []
     },
     "output_type": "execute_result"
    }
   ],
   "source": [
    "x['max'] = maxA\n",
    "x['min'] = minA\n",
    "x['mean'] = meanA\n",
    "x.describe()"
   ]
  },
  {
   "cell_type": "code",
   "execution_count": 0,
   "metadata": {
    "colab": {
     "base_uri": "https://localhost:8080/",
     "height": 85
    },
    "colab_type": "code",
    "id": "TMW7CDcvPFUT",
    "outputId": "395f2997-b351-4def-dc2a-95f89fabf7b1"
   },
   "outputs": [
    {
     "name": "stdout",
     "output_type": "stream",
     "text": [
      "Training Dataset Size:  (669, 4)\n",
      "Training Labels Size:  (669, 1)\n",
      "Testing Dataset Size:  (330, 4)\n",
      "Testing Labels Size:  (330, 1)\n"
     ]
    }
   ],
   "source": [
    "#normalize dataset \n",
    "scalar = StandardScaler()\n",
    "x = scalar.fit_transform(x)\n",
    "#reviewssss2 = scalar.transform(reviewssss2)\n",
    "\n",
    "#split training and testing data \n",
    "from sklearn.model_selection import train_test_split\n",
    "x_train, x_test, y_train, y_test = train_test_split(x, y, test_size=0.33, random_state=42)\n",
    "\n",
    "\n",
    "print(\"Training Dataset Size: \", x_train.shape)\n",
    "print(\"Training Labels Size: \", y_train.shape)\n",
    "print(\"Testing Dataset Size: \", x_test.shape)\n",
    "print(\"Testing Labels Size: \", y_test.shape)"
   ]
  },
  {
   "cell_type": "code",
   "execution_count": 0,
   "metadata": {
    "colab": {
     "base_uri": "https://localhost:8080/",
     "height": 377
    },
    "colab_type": "code",
    "id": "UrOz5K9rPST3",
    "outputId": "0b29056a-dcd6-413d-b733-bedf13d72ac0"
   },
   "outputs": [
    {
     "name": "stdout",
     "output_type": "stream",
     "text": [
      "WARNING:tensorflow:From /usr/local/lib/python3.6/dist-packages/keras/backend/tensorflow_backend.py:66: The name tf.get_default_graph is deprecated. Please use tf.compat.v1.get_default_graph instead.\n",
      "\n",
      "WARNING:tensorflow:From /usr/local/lib/python3.6/dist-packages/keras/backend/tensorflow_backend.py:541: The name tf.placeholder is deprecated. Please use tf.compat.v1.placeholder instead.\n",
      "\n",
      "WARNING:tensorflow:From /usr/local/lib/python3.6/dist-packages/keras/backend/tensorflow_backend.py:4432: The name tf.random_uniform is deprecated. Please use tf.random.uniform instead.\n",
      "\n",
      "Model: \"sequential_1\"\n",
      "_________________________________________________________________\n",
      "Layer (type)                 Output Shape              Param #   \n",
      "=================================================================\n",
      "dense_1 (Dense)              (None, 10)                50        \n",
      "_________________________________________________________________\n",
      "dense_2 (Dense)              (None, 20)                220       \n",
      "_________________________________________________________________\n",
      "dense_3 (Dense)              (None, 1)                 21        \n",
      "=================================================================\n",
      "Total params: 291\n",
      "Trainable params: 291\n",
      "Non-trainable params: 0\n",
      "_________________________________________________________________\n"
     ]
    }
   ],
   "source": [
    "#set up the model architecture \n",
    "model1 = Sequential()\n",
    "model1.add(Dense(10, activation='sigmoid', input_shape=(4,)))\n",
    "#model1.add(Dense(40, activation='sigmoid', bias_regularizer=regularizers.l2(0.01)))\n",
    "model1.add(Dense(20, activation='sigmoid'))\n",
    "model1.add(Dense(1,))\n",
    "\n",
    "model1.summary()"
   ]
  },
  {
   "cell_type": "code",
   "execution_count": 0,
   "metadata": {
    "colab": {
     "base_uri": "https://localhost:8080/",
     "height": 683
    },
    "colab_type": "code",
    "id": "IrAQwhCNPd9r",
    "outputId": "15a0e15c-18a3-4c0c-a6be-710473d2cbe7"
   },
   "outputs": [
    {
     "name": "stdout",
     "output_type": "stream",
     "text": [
      "WARNING:tensorflow:From /usr/local/lib/python3.6/dist-packages/keras/optimizers.py:793: The name tf.train.Optimizer is deprecated. Please use tf.compat.v1.train.Optimizer instead.\n",
      "\n",
      "WARNING:tensorflow:From /usr/local/lib/python3.6/dist-packages/keras/backend/tensorflow_backend.py:1033: The name tf.assign_add is deprecated. Please use tf.compat.v1.assign_add instead.\n",
      "\n",
      "WARNING:tensorflow:From /usr/local/lib/python3.6/dist-packages/keras/backend/tensorflow_backend.py:1020: The name tf.assign is deprecated. Please use tf.compat.v1.assign instead.\n",
      "\n",
      "WARNING:tensorflow:From /usr/local/lib/python3.6/dist-packages/keras/backend/tensorflow_backend.py:3005: The name tf.Session is deprecated. Please use tf.compat.v1.Session instead.\n",
      "\n",
      "Epoch 1/10\n",
      "WARNING:tensorflow:From /usr/local/lib/python3.6/dist-packages/keras/backend/tensorflow_backend.py:190: The name tf.get_default_session is deprecated. Please use tf.compat.v1.get_default_session instead.\n",
      "\n",
      "WARNING:tensorflow:From /usr/local/lib/python3.6/dist-packages/keras/backend/tensorflow_backend.py:197: The name tf.ConfigProto is deprecated. Please use tf.compat.v1.ConfigProto instead.\n",
      "\n",
      "WARNING:tensorflow:From /usr/local/lib/python3.6/dist-packages/keras/backend/tensorflow_backend.py:207: The name tf.global_variables is deprecated. Please use tf.compat.v1.global_variables instead.\n",
      "\n",
      "WARNING:tensorflow:From /usr/local/lib/python3.6/dist-packages/keras/backend/tensorflow_backend.py:216: The name tf.is_variable_initialized is deprecated. Please use tf.compat.v1.is_variable_initialized instead.\n",
      "\n",
      "WARNING:tensorflow:From /usr/local/lib/python3.6/dist-packages/keras/backend/tensorflow_backend.py:223: The name tf.variables_initializer is deprecated. Please use tf.compat.v1.variables_initializer instead.\n",
      "\n",
      "669/669 [==============================] - 10s 15ms/step - loss: 0.4813\n",
      "Epoch 2/10\n",
      "669/669 [==============================] - 0s 322us/step - loss: 0.4907\n",
      "Epoch 3/10\n",
      "669/669 [==============================] - 0s 340us/step - loss: 0.5049\n",
      "Epoch 4/10\n",
      "669/669 [==============================] - 0s 294us/step - loss: 0.4985\n",
      "Epoch 5/10\n",
      "669/669 [==============================] - 0s 287us/step - loss: 0.4967\n",
      "Epoch 6/10\n",
      "669/669 [==============================] - 0s 289us/step - loss: 0.4960\n",
      "Epoch 7/10\n",
      "669/669 [==============================] - 0s 295us/step - loss: 0.4926\n",
      "Epoch 8/10\n",
      "669/669 [==============================] - 0s 299us/step - loss: 0.4916\n",
      "Epoch 9/10\n",
      "669/669 [==============================] - 0s 297us/step - loss: 0.4858\n",
      "Epoch 10/10\n",
      "669/669 [==============================] - 0s 286us/step - loss: 0.4765\n"
     ]
    }
   ],
   "source": [
    "#train the model \n",
    "op = optimizers.Adam(lr=0.01)\n",
    "model1.compile(loss='mae', optimizer=op)\n",
    "callbacks = []\n",
    "sample = 10\n",
    "history = model1.fit(x_train, y_train, batch_size=sample, epochs=10, callbacks=callbacks, verbose=1)"
   ]
  },
  {
   "cell_type": "code",
   "execution_count": 0,
   "metadata": {
    "colab": {
     "base_uri": "https://localhost:8080/",
     "height": 51
    },
    "colab_type": "code",
    "id": "AwuCh60KPjAD",
    "outputId": "c4dc3d57-6d38-4953-9cde-704e1f52d87f"
   },
   "outputs": [
    {
     "name": "stdout",
     "output_type": "stream",
     "text": [
      "330/330 [==============================] - 0s 134us/step\n",
      "MAE: 0.5033\n"
     ]
    }
   ],
   "source": [
    "#evaluate the model\n",
    "mae = model1.evaluate(x_test, y_test)\n",
    "\n",
    "print(\"MAE: %.4f\" % mae)"
   ]
  },
  {
   "cell_type": "code",
   "execution_count": 0,
   "metadata": {
    "colab": {
     "base_uri": "https://localhost:8080/",
     "height": 34
    },
    "colab_type": "code",
    "id": "q4sPu-gP3iSh",
    "outputId": "a68eedcb-c281-4273-c152-8848e8771ad0"
   },
   "outputs": [
    {
     "data": {
      "text/plain": [
       "0.48484848484848486"
      ]
     },
     "execution_count": 12,
     "metadata": {
      "tags": []
     },
     "output_type": "execute_result"
    }
   ],
   "source": [
    "y_pred = model1.predict(x_test)\n",
    "y_labelpred = 0\n",
    "y_test1 = y_test.to_numpy()\n",
    "for i in range(len(y_pred)):\n",
    "  if (y_pred[i] < 0.5) and (y_test1[i] < 0.5):\n",
    "    y_labelpred += 1\n",
    "  elif (y_pred[i] >= 0.5) and (y_test1[i] >= 0.5):\n",
    "    y_labelpred += 1\n",
    "  else:\n",
    "    pass\n",
    "y_labelpred/len(y_pred)"
   ]
  },
  {
   "cell_type": "code",
   "execution_count": 0,
   "metadata": {
    "colab": {},
    "colab_type": "code",
    "id": "NqDLgRK77GIq"
   },
   "outputs": [],
   "source": [
    "y_test1 = y_test.to_numpy()\n",
    "y_test1"
   ]
  },
  {
   "cell_type": "markdown",
   "metadata": {
    "colab_type": "text",
    "id": "ulMOqMAUeOES"
   },
   "source": [
    "Test Output"
   ]
  },
  {
   "cell_type": "code",
   "execution_count": 0,
   "metadata": {
    "colab": {},
    "colab_type": "code",
    "id": "QuaSdr5FePNa"
   },
   "outputs": [],
   "source": []
  }
 ],
 "metadata": {
  "accelerator": "GPU",
  "colab": {
   "collapsed_sections": [],
   "name": "Final Project.ipynb",
   "provenance": []
  },
  "kernelspec": {
   "display_name": "Python 3",
   "language": "python",
   "name": "python3"
  },
  "language_info": {
   "codemirror_mode": {
    "name": "ipython",
    "version": 3
   },
   "file_extension": ".py",
   "mimetype": "text/x-python",
   "name": "python",
   "nbconvert_exporter": "python",
   "pygments_lexer": "ipython3",
   "version": "3.7.3"
  }
 },
 "nbformat": 4,
 "nbformat_minor": 1
}
