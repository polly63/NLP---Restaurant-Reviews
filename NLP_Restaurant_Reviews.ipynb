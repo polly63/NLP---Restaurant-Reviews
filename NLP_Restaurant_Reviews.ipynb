{
 "cells": [
  {
   "cell_type": "code",
   "execution_count": 29,
   "metadata": {},
   "outputs": [],
   "source": [
    "import numpy as np\n",
    "import pandas as pd\n",
    "import seaborn as sns\n",
    "from string import punctuation\n",
    "from os import listdir\n",
    "from nltk.corpus import stopwords\n",
    "from nltk.tokenize import word_tokenize\n",
    "from nltk import pos_tag\n",
    "from nltk.stem import WordNetLemmatizer\n",
    "from sklearn.preprocessing import LabelEncoder\n",
    "from collections import defaultdict\n",
    "from nltk.corpus import wordnet as wn\n",
    "from sklearn.feature_extraction.text import TfidfVectorizer\n",
    "from sklearn import model_selection, naive_bayes, svm\n",
    "from sklearn.metrics import accuracy_score\n",
    "from textblob import TextBlob "
   ]
  },
  {
   "cell_type": "code",
   "execution_count": null,
   "metadata": {},
   "outputs": [
    {
     "name": "stdout",
     "output_type": "stream",
     "text": [
      "Requirement already satisfied: textblob in c:\\users\\admin\\anaconda3\\lib\\site-packages (0.15.3)\n",
      "Requirement already satisfied: nltk>=3.1 in c:\\users\\admin\\anaconda3\\lib\\site-packages (from textblob) (3.4.4)\n",
      "Requirement already satisfied: six in c:\\users\\admin\\anaconda3\\lib\\site-packages (from nltk>=3.1->textblob) (1.12.0)\n",
      "Note: you may need to restart the kernel to use updated packages.\n"
     ]
    }
   ],
   "source": [
    "pip install textblob"
   ]
  },
  {
   "cell_type": "code",
   "execution_count": 22,
   "metadata": {},
   "outputs": [],
   "source": [
    "reviews = pd.read_csv(\"C:/Users/admin/Desktop/reviews.csv\")"
   ]
  },
  {
   "cell_type": "code",
   "execution_count": 23,
   "metadata": {},
   "outputs": [],
   "source": [
    "resturant = pd.read_csv(\"C:/Users/admin/Desktop/Restaurant_Reviews.tsv\", sep='\\t')"
   ]
  },
  {
   "cell_type": "code",
   "execution_count": 39,
   "metadata": {},
   "outputs": [],
   "source": [
    "movie = pd.read_csv(\"C:/Users/admin/Desktop/movie_data.csv\")"
   ]
  },
  {
   "cell_type": "code",
   "execution_count": 41,
   "metadata": {},
   "outputs": [],
   "source": [
    "Sentiment = []\n",
    "for item in movie['review']:\n",
    "    analysis = TextBlob(item)\n",
    "    if analysis.sentiment.polarity > 0: \n",
    "        Sentiment.append('positive')\n",
    "    elif analysis.sentiment.polarity == 0: \n",
    "        Sentiment.append('neutral')\n",
    "    else: \n",
    "        Sentiment.append('negative')"
   ]
  },
  {
   "cell_type": "code",
   "execution_count": 47,
   "metadata": {},
   "outputs": [],
   "source": [
    "movie['NewSentiment'] = Sentiment"
   ]
  },
  {
   "cell_type": "code",
   "execution_count": 48,
   "metadata": {},
   "outputs": [],
   "source": [
    "movie['NewSentiment'].loc[movie['NewSentiment'] == 'positive'] = 1\n",
    "movie['NewSentiment'].loc[movie['NewSentiment'] == 'negative'] = 0"
   ]
  },
  {
   "cell_type": "code",
   "execution_count": 49,
   "metadata": {},
   "outputs": [],
   "source": [
    "real = movie['sentiment'].to_list()"
   ]
  },
  {
   "cell_type": "code",
   "execution_count": 50,
   "metadata": {},
   "outputs": [],
   "source": [
    "predict = movie['NewSentiment'].to_list()"
   ]
  },
  {
   "cell_type": "code",
   "execution_count": 51,
   "metadata": {},
   "outputs": [
    {
     "name": "stdout",
     "output_type": "stream",
     "text": [
      "the score is :34387  the accuracy rate is: 0.6881666633312654\n"
     ]
    }
   ],
   "source": [
    "score = 0\n",
    "i = 0\n",
    "for i in range(len(predict)):\n",
    "    if predict[i] == real[i]:\n",
    "        score += 1\n",
    "\n",
    "print(\"the score is :\" + str(score) + \"  the accuracy rate is: \" + str(score/len(predict)))"
   ]
  },
  {
   "cell_type": "code",
   "execution_count": 24,
   "metadata": {},
   "outputs": [
    {
     "data": {
      "text/html": [
       "<div>\n",
       "<style scoped>\n",
       "    .dataframe tbody tr th:only-of-type {\n",
       "        vertical-align: middle;\n",
       "    }\n",
       "\n",
       "    .dataframe tbody tr th {\n",
       "        vertical-align: top;\n",
       "    }\n",
       "\n",
       "    .dataframe thead th {\n",
       "        text-align: right;\n",
       "    }\n",
       "</style>\n",
       "<table border=\"1\" class=\"dataframe\">\n",
       "  <thead>\n",
       "    <tr style=\"text-align: right;\">\n",
       "      <th></th>\n",
       "      <th>Review Text</th>\n",
       "      <th>...</th>\n",
       "    </tr>\n",
       "  </thead>\n",
       "  <tbody>\n",
       "    <tr>\n",
       "      <th>0</th>\n",
       "      <td>Friendly staff, good food and homely environme...</td>\n",
       "      <td>...</td>\n",
       "    </tr>\n",
       "    <tr>\n",
       "      <th>1</th>\n",
       "      <td>Well...The Food was Good___Intrerior design is...</td>\n",
       "      <td>...</td>\n",
       "    </tr>\n",
       "  </tbody>\n",
       "</table>\n",
       "<p>2 rows × 3 columns</p>\n",
       "</div>"
      ],
      "text/plain": [
       "                                         Review Text  ...\n",
       "0  Friendly staff, good food and homely environme...  ...\n",
       "1  Well...The Food was Good___Intrerior design is...  ...\n",
       "\n",
       "[2 rows x 3 columns]"
      ]
     },
     "execution_count": 24,
     "metadata": {},
     "output_type": "execute_result"
    }
   ],
   "source": [
    "reviews.head(2)"
   ]
  },
  {
   "cell_type": "code",
   "execution_count": 25,
   "metadata": {},
   "outputs": [
    {
     "data": {
      "text/html": [
       "<div>\n",
       "<style scoped>\n",
       "    .dataframe tbody tr th:only-of-type {\n",
       "        vertical-align: middle;\n",
       "    }\n",
       "\n",
       "    .dataframe tbody tr th {\n",
       "        vertical-align: top;\n",
       "    }\n",
       "\n",
       "    .dataframe thead th {\n",
       "        text-align: right;\n",
       "    }\n",
       "</style>\n",
       "<table border=\"1\" class=\"dataframe\">\n",
       "  <thead>\n",
       "    <tr style=\"text-align: right;\">\n",
       "      <th></th>\n",
       "      <th>Review</th>\n",
       "      <th>...</th>\n",
       "    </tr>\n",
       "  </thead>\n",
       "  <tbody>\n",
       "    <tr>\n",
       "      <th>0</th>\n",
       "      <td>Wow... Loved this place.</td>\n",
       "      <td>...</td>\n",
       "    </tr>\n",
       "    <tr>\n",
       "      <th>1</th>\n",
       "      <td>Crust is not good.</td>\n",
       "      <td>...</td>\n",
       "    </tr>\n",
       "  </tbody>\n",
       "</table>\n",
       "<p>2 rows × 2 columns</p>\n",
       "</div>"
      ],
      "text/plain": [
       "                     Review  ...\n",
       "0  Wow... Loved this place.  ...\n",
       "1        Crust is not good.  ...\n",
       "\n",
       "[2 rows x 2 columns]"
      ]
     },
     "execution_count": 25,
     "metadata": {},
     "output_type": "execute_result"
    }
   ],
   "source": [
    "resturant.head(2)"
   ]
  },
  {
   "cell_type": "code",
   "execution_count": 26,
   "metadata": {},
   "outputs": [],
   "source": [
    "reviews['Liked'] = -1\n",
    "reviews['Liked'].loc[reviews['Review'] == 5.0] = 1\n",
    "reviews['Liked'].loc[reviews['Review'] < 5.0] = 0\n",
    "reviews['Liked'].loc[reviews['Recommends'] == True] = 1\n",
    "reviews['Liked'].loc[reviews['Recommends'] == False] = 0"
   ]
  },
  {
   "cell_type": "code",
   "execution_count": 27,
   "metadata": {},
   "outputs": [],
   "source": [
    "reviews['Review'] = reviews['Review Text']"
   ]
  },
  {
   "cell_type": "code",
   "execution_count": 28,
   "metadata": {},
   "outputs": [
    {
     "data": {
      "text/html": [
       "<div>\n",
       "<style scoped>\n",
       "    .dataframe tbody tr th:only-of-type {\n",
       "        vertical-align: middle;\n",
       "    }\n",
       "\n",
       "    .dataframe tbody tr th {\n",
       "        vertical-align: top;\n",
       "    }\n",
       "\n",
       "    .dataframe thead th {\n",
       "        text-align: right;\n",
       "    }\n",
       "</style>\n",
       "<table border=\"1\" class=\"dataframe\">\n",
       "  <thead>\n",
       "    <tr style=\"text-align: right;\">\n",
       "      <th></th>\n",
       "      <th>Review</th>\n",
       "      <th>...</th>\n",
       "    </tr>\n",
       "  </thead>\n",
       "  <tbody>\n",
       "    <tr>\n",
       "      <th>0</th>\n",
       "      <td>Friendly staff, good food and homely environme...</td>\n",
       "      <td>...</td>\n",
       "    </tr>\n",
       "    <tr>\n",
       "      <th>1</th>\n",
       "      <td>Well...The Food was Good___Intrerior design is...</td>\n",
       "      <td>...</td>\n",
       "    </tr>\n",
       "    <tr>\n",
       "      <th>2</th>\n",
       "      <td>The man who is foodie like me for him arabian ...</td>\n",
       "      <td>...</td>\n",
       "    </tr>\n",
       "    <tr>\n",
       "      <th>3</th>\n",
       "      <td>ordered pizza and they were unable to serve th...</td>\n",
       "      <td>...</td>\n",
       "    </tr>\n",
       "    <tr>\n",
       "      <th>4</th>\n",
       "      <td>This place is too much comfortable &amp; food is d...</td>\n",
       "      <td>...</td>\n",
       "    </tr>\n",
       "  </tbody>\n",
       "</table>\n",
       "<p>5 rows × 2 columns</p>\n",
       "</div>"
      ],
      "text/plain": [
       "                                              Review  ...\n",
       "0  Friendly staff, good food and homely environme...  ...\n",
       "1  Well...The Food was Good___Intrerior design is...  ...\n",
       "2  The man who is foodie like me for him arabian ...  ...\n",
       "3  ordered pizza and they were unable to serve th...  ...\n",
       "4  This place is too much comfortable & food is d...  ...\n",
       "\n",
       "[5 rows x 2 columns]"
      ]
     },
     "execution_count": 28,
     "metadata": {},
     "output_type": "execute_result"
    }
   ],
   "source": [
    "editedReview = pd.DataFrame()\n",
    "editedReview['Review'] = reviews['Review']\n",
    "editedReview['Liked'] = reviews['Liked']\n",
    "editedReview.head() "
   ]
  },
  {
   "cell_type": "code",
   "execution_count": 132,
   "metadata": {},
   "outputs": [],
   "source": [
    "sentiment = []\n",
    "for item in editedReview['Review']:\n",
    "    analysis = TextBlob(item)\n",
    "    if analysis.sentiment.polarity > 0: \n",
    "        sentiment.append('positive')\n",
    "    elif analysis.sentiment.polarity == 0: \n",
    "        sentiment.append('neutral')\n",
    "    else: \n",
    "        sentiment.append('negative')"
   ]
  },
  {
   "cell_type": "code",
   "execution_count": 73,
   "metadata": {},
   "outputs": [
    {
     "data": {
      "text/plain": [
       "16597"
      ]
     },
     "execution_count": 73,
     "metadata": {},
     "output_type": "execute_result"
    }
   ],
   "source": [
    "len(sentiment)"
   ]
  },
  {
   "cell_type": "code",
   "execution_count": 133,
   "metadata": {},
   "outputs": [],
   "source": [
    "editedReview['Sentiment'] = sentiment"
   ]
  },
  {
   "cell_type": "code",
   "execution_count": 134,
   "metadata": {},
   "outputs": [],
   "source": [
    "editedReview['Sentiment'].loc[editedReview['Sentiment'] == 'positive'] = 1\n",
    "editedReview['Sentiment'].loc[editedReview['Sentiment'] == 'negative'] = 0"
   ]
  },
  {
   "cell_type": "code",
   "execution_count": 135,
   "metadata": {},
   "outputs": [
    {
     "data": {
      "text/html": [
       "<div>\n",
       "<style scoped>\n",
       "    .dataframe tbody tr th:only-of-type {\n",
       "        vertical-align: middle;\n",
       "    }\n",
       "\n",
       "    .dataframe tbody tr th {\n",
       "        vertical-align: top;\n",
       "    }\n",
       "\n",
       "    .dataframe thead th {\n",
       "        text-align: right;\n",
       "    }\n",
       "</style>\n",
       "<table border=\"1\" class=\"dataframe\">\n",
       "  <thead>\n",
       "    <tr style=\"text-align: right;\">\n",
       "      <th></th>\n",
       "      <th>Review</th>\n",
       "      <th>Liked</th>\n",
       "      <th>Sentiment</th>\n",
       "    </tr>\n",
       "  </thead>\n",
       "  <tbody>\n",
       "    <tr>\n",
       "      <th>0</th>\n",
       "      <td>Friendly staff, good food and homely environme...</td>\n",
       "      <td>1</td>\n",
       "      <td>1</td>\n",
       "    </tr>\n",
       "    <tr>\n",
       "      <th>1</th>\n",
       "      <td>Well...The Food was Good___Intrerior design is...</td>\n",
       "      <td>1</td>\n",
       "      <td>1</td>\n",
       "    </tr>\n",
       "  </tbody>\n",
       "</table>\n",
       "</div>"
      ],
      "text/plain": [
       "                                              Review  Liked Sentiment\n",
       "0  Friendly staff, good food and homely environme...      1         1\n",
       "1  Well...The Food was Good___Intrerior design is...      1         1"
      ]
     },
     "execution_count": 135,
     "metadata": {},
     "output_type": "execute_result"
    }
   ],
   "source": [
    "editedReview.head(2)"
   ]
  },
  {
   "cell_type": "code",
   "execution_count": 136,
   "metadata": {},
   "outputs": [],
   "source": [
    "real = editedReview['Liked'].to_list()"
   ]
  },
  {
   "cell_type": "code",
   "execution_count": 137,
   "metadata": {},
   "outputs": [],
   "source": [
    "predict = editedReview['Sentiment'].to_list()"
   ]
  },
  {
   "cell_type": "code",
   "execution_count": 111,
   "metadata": {},
   "outputs": [
    {
     "data": {
      "text/plain": [
       "16597"
      ]
     },
     "execution_count": 111,
     "metadata": {},
     "output_type": "execute_result"
    }
   ],
   "source": [
    "len(real)"
   ]
  },
  {
   "cell_type": "code",
   "execution_count": 112,
   "metadata": {},
   "outputs": [
    {
     "data": {
      "text/plain": [
       "16597"
      ]
     },
     "execution_count": 112,
     "metadata": {},
     "output_type": "execute_result"
    }
   ],
   "source": [
    "len(predict)"
   ]
  },
  {
   "cell_type": "code",
   "execution_count": 138,
   "metadata": {},
   "outputs": [
    {
     "name": "stdout",
     "output_type": "stream",
     "text": [
      "the score is :11079  the accuracy rate is: 0.667530276556004\n"
     ]
    }
   ],
   "source": [
    "score = 0\n",
    "i = 0\n",
    "for i in range(len(predict)):\n",
    "    if predict[i] == real[i]:\n",
    "        score += 1\n",
    "\n",
    "print(\"the score is :\" + str(score) + \"  the accuracy rate is: \" + str(score/len(predict)))"
   ]
  },
  {
   "cell_type": "code",
   "execution_count": 118,
   "metadata": {},
   "outputs": [
    {
     "data": {
      "text/plain": [
       "16596"
      ]
     },
     "execution_count": 118,
     "metadata": {},
     "output_type": "execute_result"
    }
   ],
   "source": [
    "i"
   ]
  },
  {
   "cell_type": "code",
   "execution_count": 171,
   "metadata": {},
   "outputs": [
    {
     "name": "stderr",
     "output_type": "stream",
     "text": [
      "[nltk_data] Downloading package stopwords to\n",
      "[nltk_data]     C:\\Users\\admin\\AppData\\Roaming\\nltk_data...\n",
      "[nltk_data]   Package stopwords is already up-to-date!\n",
      "[nltk_data] Downloading package wordnet to\n",
      "[nltk_data]     C:\\Users\\admin\\AppData\\Roaming\\nltk_data...\n",
      "[nltk_data]   Package wordnet is already up-to-date!\n"
     ]
    },
    {
     "data": {
      "text/plain": [
       "True"
      ]
     },
     "execution_count": 171,
     "metadata": {},
     "output_type": "execute_result"
    }
   ],
   "source": [
    "import nltk\n",
    "nltk.download('stopwords')\n",
    "nltk.download('wordnet')"
   ]
  },
  {
   "cell_type": "code",
   "execution_count": 172,
   "metadata": {},
   "outputs": [],
   "source": [
    "stop_words = set(stopwords.words('english'))"
   ]
  },
  {
   "cell_type": "code",
   "execution_count": 173,
   "metadata": {},
   "outputs": [],
   "source": [
    "editedReview['Review'] = editedReview['Review'].str.split()"
   ]
  },
  {
   "cell_type": "code",
   "execution_count": 174,
   "metadata": {},
   "outputs": [],
   "source": [
    "tokensList = []\n",
    "tokens = []\n",
    "for line in editedReview['Review']:\n",
    "  tokens = line\n",
    "  table = str.maketrans('😜😊' + punctuation,'                                  ', '')\n",
    "  result = []\n",
    "  for word in tokens:\n",
    "    word = word.lower()\n",
    "    l = word.translate(table)\n",
    "    result = result + l.split(\" \")\n",
    "  tokens =[word.translate(table) for word in result]\n",
    "  table = str.maketrans('','', punctuation)\n",
    "  tokens =[word.translate(table) for word in tokens]\n",
    "  tokens = [word for word in tokens if word.isalpha()]\n",
    "    # filter out stopwords\n",
    "  tokens = [word for word in tokens if not word in stop_words]\n",
    "  tokensList.append(tokens)"
   ]
  },
  {
   "cell_type": "code",
   "execution_count": 175,
   "metadata": {},
   "outputs": [],
   "source": [
    "editedReview['ReviewTokenize'] = tokensList"
   ]
  },
  {
   "cell_type": "code",
   "execution_count": 176,
   "metadata": {},
   "outputs": [
    {
     "data": {
      "text/html": [
       "<div>\n",
       "<style scoped>\n",
       "    .dataframe tbody tr th:only-of-type {\n",
       "        vertical-align: middle;\n",
       "    }\n",
       "\n",
       "    .dataframe tbody tr th {\n",
       "        vertical-align: top;\n",
       "    }\n",
       "\n",
       "    .dataframe thead th {\n",
       "        text-align: right;\n",
       "    }\n",
       "</style>\n",
       "<table border=\"1\" class=\"dataframe\">\n",
       "  <thead>\n",
       "    <tr style=\"text-align: right;\">\n",
       "      <th></th>\n",
       "      <th>Review</th>\n",
       "      <th>Liked</th>\n",
       "      <th>ReviewTokenize</th>\n",
       "    </tr>\n",
       "  </thead>\n",
       "  <tbody>\n",
       "    <tr>\n",
       "      <th>0</th>\n",
       "      <td>[Friendly, staff,, good, food, and, homely, en...</td>\n",
       "      <td>1</td>\n",
       "      <td>[friendly, staff, good, food, homely, environm...</td>\n",
       "    </tr>\n",
       "    <tr>\n",
       "      <th>1</th>\n",
       "      <td>[Well...The, Food, was, Good___Intrerior, desi...</td>\n",
       "      <td>1</td>\n",
       "      <td>[well, food, good, intrerior, design, nice, en...</td>\n",
       "    </tr>\n",
       "    <tr>\n",
       "      <th>2</th>\n",
       "      <td>[The, man, who, is, foodie, like, me, for, him...</td>\n",
       "      <td>1</td>\n",
       "      <td>[man, foodie, like, arabian, master, nice, pla...</td>\n",
       "    </tr>\n",
       "    <tr>\n",
       "      <th>3</th>\n",
       "      <td>[ordered, pizza, and, they, were, unable, to, ...</td>\n",
       "      <td>0</td>\n",
       "      <td>[ordered, pizza, unable, serve, ordered, set, ...</td>\n",
       "    </tr>\n",
       "    <tr>\n",
       "      <th>4</th>\n",
       "      <td>[This, place, is, too, much, comfortable, &amp;, f...</td>\n",
       "      <td>0</td>\n",
       "      <td>[place, much, comfortable, food, delicious, ev...</td>\n",
       "    </tr>\n",
       "  </tbody>\n",
       "</table>\n",
       "</div>"
      ],
      "text/plain": [
       "                                              Review  Liked  \\\n",
       "0  [Friendly, staff,, good, food, and, homely, en...      1   \n",
       "1  [Well...The, Food, was, Good___Intrerior, desi...      1   \n",
       "2  [The, man, who, is, foodie, like, me, for, him...      1   \n",
       "3  [ordered, pizza, and, they, were, unable, to, ...      0   \n",
       "4  [This, place, is, too, much, comfortable, &, f...      0   \n",
       "\n",
       "                                      ReviewTokenize  \n",
       "0  [friendly, staff, good, food, homely, environm...  \n",
       "1  [well, food, good, intrerior, design, nice, en...  \n",
       "2  [man, foodie, like, arabian, master, nice, pla...  \n",
       "3  [ordered, pizza, unable, serve, ordered, set, ...  \n",
       "4  [place, much, comfortable, food, delicious, ev...  "
      ]
     },
     "execution_count": 176,
     "metadata": {},
     "output_type": "execute_result"
    }
   ],
   "source": [
    "editedReview.head()"
   ]
  },
  {
   "cell_type": "code",
   "execution_count": 225,
   "metadata": {},
   "outputs": [
    {
     "data": {
      "text/html": [
       "<div>\n",
       "<style scoped>\n",
       "    .dataframe tbody tr th:only-of-type {\n",
       "        vertical-align: middle;\n",
       "    }\n",
       "\n",
       "    .dataframe tbody tr th {\n",
       "        vertical-align: top;\n",
       "    }\n",
       "\n",
       "    .dataframe thead th {\n",
       "        text-align: right;\n",
       "    }\n",
       "</style>\n",
       "<table border=\"1\" class=\"dataframe\">\n",
       "  <thead>\n",
       "    <tr style=\"text-align: right;\">\n",
       "      <th></th>\n",
       "      <th>Review</th>\n",
       "      <th>Liked</th>\n",
       "    </tr>\n",
       "  </thead>\n",
       "  <tbody>\n",
       "    <tr>\n",
       "      <th>0</th>\n",
       "      <td>Wow... Loved this place.</td>\n",
       "      <td>1</td>\n",
       "    </tr>\n",
       "    <tr>\n",
       "      <th>1</th>\n",
       "      <td>Crust is not good.</td>\n",
       "      <td>0</td>\n",
       "    </tr>\n",
       "    <tr>\n",
       "      <th>2</th>\n",
       "      <td>Not tasty and the texture was just nasty.</td>\n",
       "      <td>0</td>\n",
       "    </tr>\n",
       "    <tr>\n",
       "      <th>3</th>\n",
       "      <td>Stopped by during the late May bank holiday of...</td>\n",
       "      <td>1</td>\n",
       "    </tr>\n",
       "    <tr>\n",
       "      <th>4</th>\n",
       "      <td>The selection on the menu was great and so wer...</td>\n",
       "      <td>1</td>\n",
       "    </tr>\n",
       "  </tbody>\n",
       "</table>\n",
       "</div>"
      ],
      "text/plain": [
       "                                              Review  Liked\n",
       "0                           Wow... Loved this place.      1\n",
       "1                                 Crust is not good.      0\n",
       "2          Not tasty and the texture was just nasty.      0\n",
       "3  Stopped by during the late May bank holiday of...      1\n",
       "4  The selection on the menu was great and so wer...      1"
      ]
     },
     "execution_count": 225,
     "metadata": {},
     "output_type": "execute_result"
    }
   ],
   "source": [
    "editedResturant = resturant.copy()\n",
    "editedResturant.head()"
   ]
  },
  {
   "cell_type": "code",
   "execution_count": 226,
   "metadata": {},
   "outputs": [],
   "source": [
    "sentiment1 = []\n",
    "for item in editedResturant['Review']:\n",
    "    analysis = TextBlob(item)\n",
    "    if analysis.sentiment.polarity > 0: \n",
    "        sentiment1.append('positive')\n",
    "    elif analysis.sentiment.polarity == 0: \n",
    "        sentiment1.append('neutral')\n",
    "    else: \n",
    "        sentiment1.append('negative')"
   ]
  },
  {
   "cell_type": "code",
   "execution_count": 227,
   "metadata": {},
   "outputs": [],
   "source": [
    "editedResturant['Sentiment'] = sentiment1"
   ]
  },
  {
   "cell_type": "code",
   "execution_count": 228,
   "metadata": {},
   "outputs": [
    {
     "data": {
      "text/html": [
       "<div>\n",
       "<style scoped>\n",
       "    .dataframe tbody tr th:only-of-type {\n",
       "        vertical-align: middle;\n",
       "    }\n",
       "\n",
       "    .dataframe tbody tr th {\n",
       "        vertical-align: top;\n",
       "    }\n",
       "\n",
       "    .dataframe thead th {\n",
       "        text-align: right;\n",
       "    }\n",
       "</style>\n",
       "<table border=\"1\" class=\"dataframe\">\n",
       "  <thead>\n",
       "    <tr style=\"text-align: right;\">\n",
       "      <th></th>\n",
       "      <th>Review</th>\n",
       "      <th>Liked</th>\n",
       "      <th>Sentiment</th>\n",
       "    </tr>\n",
       "  </thead>\n",
       "  <tbody>\n",
       "    <tr>\n",
       "      <th>0</th>\n",
       "      <td>Wow... Loved this place.</td>\n",
       "      <td>1</td>\n",
       "      <td>positive</td>\n",
       "    </tr>\n",
       "    <tr>\n",
       "      <th>1</th>\n",
       "      <td>Crust is not good.</td>\n",
       "      <td>0</td>\n",
       "      <td>negative</td>\n",
       "    </tr>\n",
       "    <tr>\n",
       "      <th>2</th>\n",
       "      <td>Not tasty and the texture was just nasty.</td>\n",
       "      <td>0</td>\n",
       "      <td>negative</td>\n",
       "    </tr>\n",
       "    <tr>\n",
       "      <th>3</th>\n",
       "      <td>Stopped by during the late May bank holiday of...</td>\n",
       "      <td>1</td>\n",
       "      <td>positive</td>\n",
       "    </tr>\n",
       "    <tr>\n",
       "      <th>4</th>\n",
       "      <td>The selection on the menu was great and so wer...</td>\n",
       "      <td>1</td>\n",
       "      <td>positive</td>\n",
       "    </tr>\n",
       "    <tr>\n",
       "      <th>5</th>\n",
       "      <td>Now I am getting angry and I want my damn pho.</td>\n",
       "      <td>0</td>\n",
       "      <td>negative</td>\n",
       "    </tr>\n",
       "    <tr>\n",
       "      <th>6</th>\n",
       "      <td>Honeslty it didn't taste THAT fresh.)</td>\n",
       "      <td>0</td>\n",
       "      <td>positive</td>\n",
       "    </tr>\n",
       "    <tr>\n",
       "      <th>7</th>\n",
       "      <td>The potatoes were like rubber and you could te...</td>\n",
       "      <td>0</td>\n",
       "      <td>neutral</td>\n",
       "    </tr>\n",
       "    <tr>\n",
       "      <th>8</th>\n",
       "      <td>The fries were great too.</td>\n",
       "      <td>1</td>\n",
       "      <td>positive</td>\n",
       "    </tr>\n",
       "    <tr>\n",
       "      <th>9</th>\n",
       "      <td>A great touch.</td>\n",
       "      <td>1</td>\n",
       "      <td>positive</td>\n",
       "    </tr>\n",
       "    <tr>\n",
       "      <th>10</th>\n",
       "      <td>Service was very prompt.</td>\n",
       "      <td>1</td>\n",
       "      <td>positive</td>\n",
       "    </tr>\n",
       "    <tr>\n",
       "      <th>11</th>\n",
       "      <td>Would not go back.</td>\n",
       "      <td>0</td>\n",
       "      <td>neutral</td>\n",
       "    </tr>\n",
       "    <tr>\n",
       "      <th>12</th>\n",
       "      <td>The cashier had no care what so ever on what I...</td>\n",
       "      <td>0</td>\n",
       "      <td>neutral</td>\n",
       "    </tr>\n",
       "    <tr>\n",
       "      <th>13</th>\n",
       "      <td>I tried the Cape Cod ravoli, chicken, with cra...</td>\n",
       "      <td>1</td>\n",
       "      <td>negative</td>\n",
       "    </tr>\n",
       "    <tr>\n",
       "      <th>14</th>\n",
       "      <td>I was disgusted because I was pretty sure that...</td>\n",
       "      <td>0</td>\n",
       "      <td>negative</td>\n",
       "    </tr>\n",
       "    <tr>\n",
       "      <th>15</th>\n",
       "      <td>I was shocked because no signs indicate cash o...</td>\n",
       "      <td>0</td>\n",
       "      <td>negative</td>\n",
       "    </tr>\n",
       "    <tr>\n",
       "      <th>16</th>\n",
       "      <td>Highly recommended.</td>\n",
       "      <td>1</td>\n",
       "      <td>positive</td>\n",
       "    </tr>\n",
       "    <tr>\n",
       "      <th>17</th>\n",
       "      <td>Waitress was a little slow in service.</td>\n",
       "      <td>0</td>\n",
       "      <td>negative</td>\n",
       "    </tr>\n",
       "    <tr>\n",
       "      <th>18</th>\n",
       "      <td>This place is not worth your time, let alone V...</td>\n",
       "      <td>0</td>\n",
       "      <td>negative</td>\n",
       "    </tr>\n",
       "    <tr>\n",
       "      <th>19</th>\n",
       "      <td>did not like at all.</td>\n",
       "      <td>0</td>\n",
       "      <td>neutral</td>\n",
       "    </tr>\n",
       "  </tbody>\n",
       "</table>\n",
       "</div>"
      ],
      "text/plain": [
       "                                               Review  Liked Sentiment\n",
       "0                            Wow... Loved this place.      1  positive\n",
       "1                                  Crust is not good.      0  negative\n",
       "2           Not tasty and the texture was just nasty.      0  negative\n",
       "3   Stopped by during the late May bank holiday of...      1  positive\n",
       "4   The selection on the menu was great and so wer...      1  positive\n",
       "5      Now I am getting angry and I want my damn pho.      0  negative\n",
       "6               Honeslty it didn't taste THAT fresh.)      0  positive\n",
       "7   The potatoes were like rubber and you could te...      0   neutral\n",
       "8                           The fries were great too.      1  positive\n",
       "9                                      A great touch.      1  positive\n",
       "10                           Service was very prompt.      1  positive\n",
       "11                                 Would not go back.      0   neutral\n",
       "12  The cashier had no care what so ever on what I...      0   neutral\n",
       "13  I tried the Cape Cod ravoli, chicken, with cra...      1  negative\n",
       "14  I was disgusted because I was pretty sure that...      0  negative\n",
       "15  I was shocked because no signs indicate cash o...      0  negative\n",
       "16                                Highly recommended.      1  positive\n",
       "17             Waitress was a little slow in service.      0  negative\n",
       "18  This place is not worth your time, let alone V...      0  negative\n",
       "19                               did not like at all.      0   neutral"
      ]
     },
     "execution_count": 228,
     "metadata": {},
     "output_type": "execute_result"
    }
   ],
   "source": [
    "editedResturant.head(20)"
   ]
  },
  {
   "cell_type": "code",
   "execution_count": 229,
   "metadata": {},
   "outputs": [],
   "source": [
    "editedResturant['Sentiment'].loc[editedResturant['Sentiment'] == 'positive'] = 1\n",
    "editedResturant['Sentiment'].loc[editedResturant['Sentiment'] == 'negative'] = 0"
   ]
  },
  {
   "cell_type": "code",
   "execution_count": 230,
   "metadata": {},
   "outputs": [],
   "source": [
    "real1 = editedResturant['Liked'].to_list()"
   ]
  },
  {
   "cell_type": "code",
   "execution_count": 231,
   "metadata": {},
   "outputs": [],
   "source": [
    "predict1 = editedResturant['Sentiment'].to_list()"
   ]
  },
  {
   "cell_type": "code",
   "execution_count": 233,
   "metadata": {},
   "outputs": [
    {
     "name": "stdout",
     "output_type": "stream",
     "text": [
      "the score is :616  the accuracy rate is: 0.616\n"
     ]
    }
   ],
   "source": [
    "score = 0\n",
    "i = 0\n",
    "for i in range(len(predict1)):\n",
    "    if predict1[i] == real1[i]:\n",
    "        score += 1\n",
    "\n",
    "print(\"the score is :\" + str(score) + \"  the accuracy rate is: \" + str(score/len(predict1)))"
   ]
  },
  {
   "cell_type": "code",
   "execution_count": 222,
   "metadata": {},
   "outputs": [],
   "source": [
    "editedResturant['Review'] = editedResturant['Review'].str.split()"
   ]
  },
  {
   "cell_type": "code",
   "execution_count": 179,
   "metadata": {},
   "outputs": [
    {
     "data": {
      "text/html": [
       "<div>\n",
       "<style scoped>\n",
       "    .dataframe tbody tr th:only-of-type {\n",
       "        vertical-align: middle;\n",
       "    }\n",
       "\n",
       "    .dataframe tbody tr th {\n",
       "        vertical-align: top;\n",
       "    }\n",
       "\n",
       "    .dataframe thead th {\n",
       "        text-align: right;\n",
       "    }\n",
       "</style>\n",
       "<table border=\"1\" class=\"dataframe\">\n",
       "  <thead>\n",
       "    <tr style=\"text-align: right;\">\n",
       "      <th></th>\n",
       "      <th>Review</th>\n",
       "      <th>Liked</th>\n",
       "      <th>ReviewTokenize</th>\n",
       "    </tr>\n",
       "  </thead>\n",
       "  <tbody>\n",
       "    <tr>\n",
       "      <th>0</th>\n",
       "      <td>[Wow..., Loved, this, place.]</td>\n",
       "      <td>1</td>\n",
       "      <td>[wow, loved, place]</td>\n",
       "    </tr>\n",
       "    <tr>\n",
       "      <th>1</th>\n",
       "      <td>[Crust, is, not, good.]</td>\n",
       "      <td>0</td>\n",
       "      <td>[crust, good]</td>\n",
       "    </tr>\n",
       "    <tr>\n",
       "      <th>2</th>\n",
       "      <td>[Not, tasty, and, the, texture, was, just, nas...</td>\n",
       "      <td>0</td>\n",
       "      <td>[tasty, texture, nasty]</td>\n",
       "    </tr>\n",
       "    <tr>\n",
       "      <th>3</th>\n",
       "      <td>[Stopped, by, during, the, late, May, bank, ho...</td>\n",
       "      <td>1</td>\n",
       "      <td>[stopped, late, may, bank, holiday, rick, stev...</td>\n",
       "    </tr>\n",
       "    <tr>\n",
       "      <th>4</th>\n",
       "      <td>[The, selection, on, the, menu, was, great, an...</td>\n",
       "      <td>1</td>\n",
       "      <td>[selection, menu, great, prices]</td>\n",
       "    </tr>\n",
       "  </tbody>\n",
       "</table>\n",
       "</div>"
      ],
      "text/plain": [
       "                                              Review  Liked  \\\n",
       "0                      [Wow..., Loved, this, place.]      1   \n",
       "1                            [Crust, is, not, good.]      0   \n",
       "2  [Not, tasty, and, the, texture, was, just, nas...      0   \n",
       "3  [Stopped, by, during, the, late, May, bank, ho...      1   \n",
       "4  [The, selection, on, the, menu, was, great, an...      1   \n",
       "\n",
       "                                      ReviewTokenize  \n",
       "0                                [wow, loved, place]  \n",
       "1                                      [crust, good]  \n",
       "2                            [tasty, texture, nasty]  \n",
       "3  [stopped, late, may, bank, holiday, rick, stev...  \n",
       "4                   [selection, menu, great, prices]  "
      ]
     },
     "execution_count": 179,
     "metadata": {},
     "output_type": "execute_result"
    }
   ],
   "source": [
    "tokensList = []\n",
    "tokens = []\n",
    "for line in editedResturant['Review']:\n",
    "  tokens = line\n",
    "  table = str.maketrans('😜😊' + punctuation,'                                  ', '')\n",
    "  result = []\n",
    "  for word in tokens:\n",
    "    word = word.lower()\n",
    "    l = word.translate(table)\n",
    "    result = result + l.split(\" \")\n",
    "  tokens =[word.translate(table) for word in result]\n",
    "  table = str.maketrans('','', punctuation)\n",
    "  tokens =[word.translate(table) for word in tokens]\n",
    "  tokens = [word for word in tokens if word.isalpha()]\n",
    "    # filter out stopwords\n",
    "  tokens = [word for word in tokens if not word in stop_words]\n",
    "  tokensList.append(tokens)\n",
    "editedResturant['ReviewTokenize'] = tokensList\n",
    "editedResturant.head()"
   ]
  },
  {
   "cell_type": "code",
   "execution_count": 184,
   "metadata": {},
   "outputs": [],
   "source": [
    "# Step - d : Remove Stop words, Non-Numeric and perfom Word Stemming/Lemmenting.\n",
    "# WordNetLemmatizer requires Pos tags to understand if the word is noun or verb or adjective etc. By default it is set to Noun\n",
    "tag_map = defaultdict(lambda : wn.NOUN)\n",
    "tag_map['J'] = wn.ADJ\n",
    "tag_map['V'] = wn.VERB\n",
    "tag_map['R'] = wn.ADV"
   ]
  },
  {
   "cell_type": "code",
   "execution_count": 185,
   "metadata": {},
   "outputs": [],
   "source": [
    "for index,entry in enumerate(editedReview['ReviewTokenize']):\n",
    "    # Declaring Empty List to store the words that follow the rules for this step\n",
    "    Final_words = []\n",
    "    # Initializing WordNetLemmatizer()\n",
    "    word_Lemmatized = WordNetLemmatizer()\n",
    "    # pos_tag function below will provide the 'tag' i.e if the word is Noun(N) or Verb(V) or something else.\n",
    "    for word, tag in pos_tag(entry):\n",
    "        word_Final = word_Lemmatized.lemmatize(word,tag_map[tag[0]])\n",
    "        Final_words.append(word_Final)\n",
    "    # The final processed set of words for each iteration will be stored in 'text_final'\n",
    "    editedReview.loc[index,'text_final'] = str(Final_words)"
   ]
  },
  {
   "cell_type": "code",
   "execution_count": 186,
   "metadata": {
    "scrolled": true
   },
   "outputs": [
    {
     "data": {
      "text/html": [
       "<div>\n",
       "<style scoped>\n",
       "    .dataframe tbody tr th:only-of-type {\n",
       "        vertical-align: middle;\n",
       "    }\n",
       "\n",
       "    .dataframe tbody tr th {\n",
       "        vertical-align: top;\n",
       "    }\n",
       "\n",
       "    .dataframe thead th {\n",
       "        text-align: right;\n",
       "    }\n",
       "</style>\n",
       "<table border=\"1\" class=\"dataframe\">\n",
       "  <thead>\n",
       "    <tr style=\"text-align: right;\">\n",
       "      <th></th>\n",
       "      <th>Review</th>\n",
       "      <th>Liked</th>\n",
       "      <th>ReviewTokenize</th>\n",
       "      <th>text_final</th>\n",
       "    </tr>\n",
       "  </thead>\n",
       "  <tbody>\n",
       "    <tr>\n",
       "      <th>0</th>\n",
       "      <td>[Friendly, staff,, good, food, and, homely, en...</td>\n",
       "      <td>1</td>\n",
       "      <td>[friendly, staff, good, food, homely, environm...</td>\n",
       "      <td>['friendly', 'staff', 'good', 'food', 'homely'...</td>\n",
       "    </tr>\n",
       "    <tr>\n",
       "      <th>1</th>\n",
       "      <td>[Well...The, Food, was, Good___Intrerior, desi...</td>\n",
       "      <td>1</td>\n",
       "      <td>[well, food, good, intrerior, design, nice, en...</td>\n",
       "      <td>['well', 'food', 'good', 'intrerior', 'design'...</td>\n",
       "    </tr>\n",
       "  </tbody>\n",
       "</table>\n",
       "</div>"
      ],
      "text/plain": [
       "                                              Review  Liked  \\\n",
       "0  [Friendly, staff,, good, food, and, homely, en...      1   \n",
       "1  [Well...The, Food, was, Good___Intrerior, desi...      1   \n",
       "\n",
       "                                      ReviewTokenize  \\\n",
       "0  [friendly, staff, good, food, homely, environm...   \n",
       "1  [well, food, good, intrerior, design, nice, en...   \n",
       "\n",
       "                                          text_final  \n",
       "0  ['friendly', 'staff', 'good', 'food', 'homely'...  \n",
       "1  ['well', 'food', 'good', 'intrerior', 'design'...  "
      ]
     },
     "execution_count": 186,
     "metadata": {},
     "output_type": "execute_result"
    }
   ],
   "source": [
    "editedReview.head(2)"
   ]
  },
  {
   "cell_type": "code",
   "execution_count": 189,
   "metadata": {},
   "outputs": [
    {
     "data": {
      "text/plain": [
       "\"['friendly', 'staff', 'good', 'food', 'homely', 'environment']\""
      ]
     },
     "execution_count": 189,
     "metadata": {},
     "output_type": "execute_result"
    }
   ],
   "source": [
    "editedReview['text_final'][0]"
   ]
  },
  {
   "cell_type": "code",
   "execution_count": 192,
   "metadata": {},
   "outputs": [],
   "source": [
    "result = []\n",
    "for element in editedReview['ReviewTokenize']:\n",
    "    result.append(str(element))\n",
    "    \n",
    "editedReview['newReviewTokenize'] = result"
   ]
  },
  {
   "cell_type": "code",
   "execution_count": 181,
   "metadata": {},
   "outputs": [
    {
     "data": {
      "text/plain": [
       "pandas.core.series.Series"
      ]
     },
     "execution_count": 181,
     "metadata": {},
     "output_type": "execute_result"
    }
   ],
   "source": [
    "type(editedReview['ReviewTokenize'])"
   ]
  },
  {
   "cell_type": "code",
   "execution_count": 193,
   "metadata": {},
   "outputs": [],
   "source": [
    "Train_X, Test_X, Train_Y, Test_Y = model_selection.train_test_split(editedReview['newReviewTokenize'],editedReview['Liked'],test_size=0.3)"
   ]
  },
  {
   "cell_type": "code",
   "execution_count": 194,
   "metadata": {},
   "outputs": [],
   "source": [
    "Tfidf_vect = TfidfVectorizer(max_features=5000)\n",
    "Tfidf_vect.fit(editedReview['newReviewTokenize'])\n",
    "Train_X_Tfidf = Tfidf_vect.transform(Train_X)\n",
    "Test_X_Tfidf = Tfidf_vect.transform(Test_X)"
   ]
  },
  {
   "cell_type": "code",
   "execution_count": 42,
   "metadata": {},
   "outputs": [
    {
     "name": "stdout",
     "output_type": "stream",
     "text": [
      "{'friendly': 1527, 'staff': 4257, 'good': 1628, 'food': 1477, 'homely': 1799, 'environment': 1288, 'well': 4810, 'design': 1064, 'nice': 2983, 'soo': 4202, 'quite': 3622, 'background': 311, 'music': 2895, 'give': 1606, 'man': 2654, 'foodie': 1480, 'like': 2516, 'arabian': 206, 'master': 2711, 'place': 3400, 'quality': 3604, 'specially': 4226, 'behaviour': 409, 'suitable': 4334, 'price': 3539, 'awesome': 294, 'word': 4851, 'order': 3140, 'pizza': 3390, 'unable': 4624, 'serve': 4004, 'set': 4015, 'menu': 2757, 'take': 4391, 'one': 3103, 'hour': 1837, 'quatity': 3609, 'poor': 3466, 'please': 3425, 'develop': 1073, 'customer': 965, 'surely': 4355, 'come': 805, 'enjoy': 1274, 'friend': 1525, 'experience': 1354, 'pathetic': 3306, 'propose': 3570, 'go': 1620, 'concern': 847, 'much': 2878, 'comfortable': 808, 'delicious': 1038, 'every': 1319, 'item': 2045, 'testy': 4454, 'best': 429, 'important': 1932, 'thing': 4487, 'behavior': 408, 'enough': 1278, 'reasonable': 3694, 'service': 4008, 'system': 4377, 'everything': 1323, 'great': 1651, 'welcome': 4808, 'atmosphere': 264, 'check': 685, 'second': 3962, 'home': 1797, 'mine': 2783, 'feel': 1422, 'frequent': 1515, 'relax': 3739, 'manner': 2667, 'frankly': 1505, 'attitude': 272, 'course': 916, 'fresh': 1518, 'deliver': 1043, 'ahead': 76, 'lot': 2563, 'warm': 4779, 'wish': 4837, 'undoubtedly': 4640, 'interior': 2020, 'decoration': 1014, 'unique': 4648, 'tasty': 4417, 'little': 2534, 'bit': 462, 'spicy': 4239, 'guy': 1680, 'love': 2570, 'offer': 3071, 'behave': 405, 'refer': 3718, 'try': 4598, 'cheese': 689, 'cream': 934, 'pasta': 3299, 'totally': 4562, 'worth': 4859, 'variety': 4709, 'meal': 2729, 'pizzas': 3397, 'nb': 2942, 'already': 114, 'owe': 3204, 'treat': 4581, 'trust': 4595, 'option': 3136, 'yummy': 4913, 'niece': 2988, 'also': 116, 'eat': 1224, 'family': 1394, 'dinner': 1117, 'bbq': 378, 'chicken': 706, 'naan': 2908, 'believe': 412, 'tell': 4436, 'utterly': 4687, 'disgust': 1139, 'core': 899, 'never': 2965, 'rather': 3674, 'restaurant': 3790, 'bad': 313, 'bland': 471, 'hell': 1737, 'taste': 4411, 'boil': 490, 'piece': 3379, 'rubber': 3871, 'almost': 109, 'smell': 4158, 'know': 2332, 'day': 992, 'something': 4192, 'painful': 3230, 'plate': 3410, 'parent': 3271, 'include': 1953, 'though': 4497, 'make': 2639, 'long': 2557, 'wait': 4762, 'part': 3281, 'sure': 4354, 'horrific': 1819, 'khabare': 2231, 'valo': 4700, 'testi': 4452, 'amader': 124, 'kore': 2360, 'dilo': 1109, 'perfect': 3337, 'type': 4612, 'event': 1316, 'negative': 2953, 'issue': 2040, 'ground': 1660, 'floor': 1467, 'clean': 766, 'last': 2458, 'two': 4610, 'time': 4522, 'buddy': 558, 'think': 4488, 'really': 3690, 'different': 1100, 'party': 3287, 'hangout': 1702, 'lovely': 2575, 'friends': 1528, 'problem': 3550, 'hospitality': 1824, 'couple': 914, 'look': 2559, 'beautiful': 391, 'iloved': 1919, 'see': 3969, 'view': 4734, 'lalbag': 2445, 'kella': 2216, 'ever': 1318, 'meh': 2744, 'today': 4538, 'parcel': 3267, 'crispy': 943, 'fry': 1539, 'reach': 3679, 'house': 1838, 'start': 4268, 'possible': 3493, 'another': 160, 'many': 2675, 'case': 626, 'sometimes': 4194, 'combination': 801, 'hang': 1700, 'mouth': 2867, 'water': 4792, 'carry': 622, 'burger': 574, 'shop': 4091, 'old': 3095, 'town': 4569, 'inshallah': 1999, 'visit': 4740, 'frequently': 1516, 'regular': 3731, 'test': 4450, 'trustworthy': 4596, 'lalbagh': 2446, 'goood': 1632, 'bcz': 382, 'unlimited': 4654, 'change': 659, 'evry': 1327, 'opinion': 3130, 'keep': 2215, 'soup': 4215, 'steamed': 4278, 'rice': 3820, 'less': 2496, 'contain': 873, 'heavy': 1734, 'colour': 799, 'cause': 635, 'tym': 4611, 'tk': 4531, 'waste': 4788, 'close': 773, 'improve': 1939, 'first': 1450, 'unexpectedly': 4642, 'yumm': 4907, 'expect': 1349, 'way': 4796, 'fast': 1402, 'others': 3167, 'even': 1314, 'cost': 906, 'chawmin': 678, 'everyone': 1322, 'fun': 1550, 'chat': 674, 'birthday': 458, 'thanks': 4473, 'season': 3958, 'supreme': 4353, 'teste': 4451, 'gud': 1665, 'happy': 1707, 'average': 285, 'lil': 2519, 'slow': 4153, 'song': 4201, 'selection': 3978, 'celebrate': 639, 'frnd': 1531, 'birth': 457, 'pls': 3434, 'need': 2952, 'standard': 4265, 'mark': 2687, 'compare': 824, 'money': 2839, 'quantity': 3607, 'discount': 1134, 'various': 4710, 'could': 909, 'better': 432, 'super': 4342, 'rude': 3874, 'iftar': 1905, 'upgrade': 4665, 'simply': 4123, 'wanna': 4774, 'lollipop': 2553, 'beef': 399, 'amaze': 128, 'impressed': 1936, 'survice': 4365, 'thanx': 4476, 'gonna': 1626, 'miss': 2802, 'delivery': 1044, 'frm': 1530, 'nyc': 3048, 'mouthwatering': 2869, 'yummm': 4909, 'lunch': 2594, 'special': 4224, 'bhai': 440, 'decent': 1004, 'near': 2947, 'lal': 2444, 'waiter': 4764, 'free': 1509, 'atto': 273, 'faltu': 1391, 'khabar': 2229, 'ami': 143, 'amr': 153, 'frnds': 1532, 'ra': 3625, 'life': 2508, 'khai': 2240, 'nai': 2916, 'purai': 3594, 'fantastic': 1399, 'nothing': 3027, 'kono': 2347, 'rule': 3878, 'na': 2904, 'khub': 2282, 'kisu': 2317, 'bolar': 492, 'onek': 3104, 'vlo': 4747, 'say': 3938, 'mah': 2625, 'bari': 353, 'ghar': 1596, 'thr': 4500, 'abt': 10, 'lyk': 2605, 'young': 4903, 'brother': 545, 'vai': 4693, 'iz': 2047, 'tareq': 4406, 'owner': 3208, 'kichu': 2294, 'naah': 2906, 'jst': 2151, 'thnq': 4493, 'open': 3124, 'amazing': 130, 'side': 4111, 'excellent': 1334, 'nonsense': 3012, 'sky': 4148, 'high': 1751, 'king': 2310, 'soon': 4203, 'late': 2460, 'satisfy': 3924, 'loved': 2571, 'da': 972, 'ambience': 133, 'cosy': 908, 'healthy': 1726, 'gathering': 1572, 'use': 4675, 'favorite': 1410, 'three': 4502, 'absolute': 7, 'disappointment': 1129, 'dry': 1198, 'tasteless': 4415, 'charbroiled': 668, 'texture': 4456, 'top': 4559, 'reduce': 3716, 'size': 4138, 'hope': 1809, 'management': 2657, 'seriously': 4000, 'end': 1269, 'pay': 3313, 'put': 3602, 'advertisement': 54, 'week': 4804, 'buy': 588, 'get': 1593, 'mention': 2756, 'told': 4545, 'recently': 3702, 'deteriorate': 1071, 'badly': 315, 'seem': 3971, 'pre': 3520, 'cook': 886, 'flavour': 1463, 'portion': 3488, 'decrease': 1015, 'downstairs': 1183, 'instead': 2008, 'colleague': 794, 'big': 449, 'shout': 4097, 'md': 2728, 'mr': 2876, 'pear': 3322, 'work': 4852, 'expectation': 1350, 'except': 1335, 'iced': 1892, 'coffee': 787, 'latte': 2463, 'bitter': 464, 'neutral': 2964, 'provide': 3582, 'ambiance': 132, 'jamaican': 2066, 'grill': 1655, 'kinda': 2305, 'okay': 3089, 'hot': 1828, 'wing': 4834, 'among': 149, 'xd': 4880, 'overall': 3185, 'yeah': 4892, 'review': 3814, 'cafe': 591, 'bd': 383, 'gulshan': 1676, 'drink': 1192, 'gelam': 1576, 'ek': 1246, 'er': 1294, 'sathe': 3918, 'khaite': 2248, 'joner': 2137, 'pet': 3352, 'motamuti': 2854, 'vora': 4752, 'cilo': 754, 'bole': 494, 'nilam': 2994, 'share': 4052, 'platter': 3414, 'namer': 2922, 'ta': 4378, 'jar': 2076, 'accord': 20, 'description': 1058, 'pic': 3373, 'dawa': 990, 'tar': 4403, 'ar': 204, 'fancy': 1397, 'korar': 2352, 'amak': 126, 'jigesh': 2117, 'korlo': 2378, 'sir': 4130, 'ki': 2292, 'niben': 2981, 'bollam': 496, 'ase': 230, 'bollo': 497, 'blue': 483, 'mojito': 2830, 'jani': 2071, 'ekta': 1254, 'aro': 214, 'green': 1653, 'apple': 193, 'apnader': 173, 'jei': 2097, 'iccha': 1888, 'den': 1046, 'moddhe': 2816, 'sudhu': 4323, 'ei': 1241, 'sufficient': 4327, 'jonno': 2139, 'usual': 4679, 'sprite': 4247, 'minimum': 2788, 'bill': 451, 'somoy': 4198, 'dekhlam': 1030, 'total': 4561, 'howar': 1841, 'kotha': 2394, 'deke': 1025, 'ekjon': 1253, 'asole': 245, 'sorry': 4211, 'vul': 4756, 'maybe': 2724, 'pore': 3476, 'eshe': 1300, 'bola': 491, 'holo': 1794, 'bolte': 500, 'baki': 328, 'ene': 1271, 'dibo': 1094, 'age': 67, 'hoinai': 1781, 'misleading': 2800, 'information': 1980, 'amar': 127, 'rong': 3855, 'nite': 2997, 'bolsi': 499, 'dea': 993, 'disi': 1143, 'ekhn': 1251, 'korbo': 2356, 'tao': 4402, 'dise': 1137, 'korlam': 2376, 'clearly': 770, 'keno': 2219, 'mislead': 2799, 'thik': 4485, 'lage': 2436, 'extraordinary': 1369, 'ahmed': 77, 'assistant': 248, 'manager': 2658, 'ordered': 3142, 'rise': 3828, 'inside': 2000, 'disappointed': 1127, 'always': 122, 'back': 310, 'find': 1442, 'pricy': 3542, 'affordable': 60, 'worst': 4858, 'people': 3330, 'intend': 2015, 'seating': 3961, 'capacity': 609, 'congest': 858, 'maintain': 2630, 'privacy': 3546, 'employee': 1266, 'activity': 34, 'behaves': 407, 'attractive': 275, 'posh': 3490, 'overcome': 3188, 'lack': 2427, 'thank': 4471, 'bangladesh': 345, 'seat': 3960, 'space': 4220, 'movement': 2871, 'sweet': 4371, 'burn': 577, 'reply': 3764, 'suppose': 4352, 'smoky': 4166, 'flavor': 1461, 'mean': 2730, 'anyways': 170, 'mocha': 2812, 'vegetable': 4714, 'street': 4297, 'cart': 623, 'pretty': 3536, 'expensive': 1352, 'cheer': 688, 'ago': 73, 'con': 843, 'yes': 4896, 'ok': 3088, 'god': 1621, 'vry': 4755, 'decorate': 1012, 'worthy': 4862, 'liked': 2517, 'fried': 1524, 'melt': 2750, 'potato': 3499, 'smash': 4157, 'disturb': 1153, 'wash': 4783, 'room': 3859, 'oh': 3077, 'zone': 4918, 'disaster': 1131, 'ask': 241, 'several': 4022, 'phone': 3361, 'complaint': 834, 'must': 2899, 'juicy': 2158, 'korean': 2362, 'play': 3415, 'ongoing': 3106, 'style': 4312, 'along': 111, 'stuff': 4307, 'highly': 1753, 'recommend': 3707, 'lover': 2576, 'especially': 1303, 'alot': 113, 'aj': 81, 'dhanmondi': 1086, 'te': 4423, 'whole': 4824, 'jate': 2080, 'dei': 1024, 'breast': 537, 'gula': 1669, 'half': 1691, 'takeaway': 4392, 'niye': 2999, 'tast': 4410, 'ager': 70, 'theke': 4478, 'baje': 323, 'asche': 228, 'next': 2972, 'hobe': 1770, 'tooo': 4557, 'cheap': 681, 'kfc': 2227, 'local': 2544, 'joint': 2129, 'year': 4894, 'consistent': 867, 'small': 4155, 'uttara': 4685, 'branch': 532, 'nd': 2944, 'smoke': 4162, 'due': 1203, 'full': 1548, 'page': 3224, 'would': 4864, 'কম': 4950, 'alright': 115, 'spectacular': 4231, 'twice': 4609, 'mirpur': 2796, 'area': 209, 'tader': 4383, 'onk': 3108, 'inbox': 1948, 'por': 3474, 'din': 1113, 'amra': 154, 'kintu': 2313, 'tara': 4404, 'ti': 4513, 'naki': 2919, 'agei': 68, 'sesh': 4013, 'aita': 80, 'chilo': 719, 'os': 3159, 'nijerai': 2993, 'oder': 3067, 'otherwise': 3168, 'shob': 4079, 'risk': 3830, 'request': 3769, 'location': 2546, 'train': 4576, 'smile': 4160, 'impressive': 1938, 'grow': 1662, 'far': 1400, 'creamy': 935, 'drop': 1196, 'cold': 792, 'bread': 534, 'hard': 1709, 'stock': 4287, 'stale': 4262, 'disappoint': 1126, 'per': 3334, 'respect': 3782, 'round': 3868, 'bun': 570, 'middle': 2771, 'empty': 1267, 'fill': 1436, 'thick': 4482, 'quick': 3617, 'juice': 2155, 'care': 616, 'steam': 4277, 'exceptional': 1336, 'unbearable': 4630, 'international': 2023, 'franchise': 1504, 'sake': 3892, 'costly': 907, 'westin': 4812, 'raddison': 3626, 'kid': 2299, 'eid': 1242, 'terrible': 4447, 'may': 2723, 'bud': 557, 'enjoyed': 1276, 'veg': 4713, 'thumb': 4508, 'polish': 3459, 'bogo': 488, 'foods': 1483, 'original': 3156, 'mushroom': 2894, 'shape': 4050, 'garnish': 1569, 'front': 1534, 'concentrate': 844, 'rush': 3881, 'glass': 1612, 'guest': 1667, 'call': 597, 'upon': 4666, 'job': 2121, 'salad': 3894, 'increase': 1960, 'celebration': 640, 'book': 508, 'earlier': 1216, 'arrange': 217, 'cake': 593, 'point': 3448, 'personal': 3348, 'comment': 814, 'amount': 151, 'context': 878, 'wifi': 4830, 'password': 3297, 'xoss': 4881, 'personally': 3349, 'overrate': 3198, 'behaved': 406, 'yesterday': 4897, 'ifter': 1907, 'soft': 4180, 'package': 3218, 'reminder': 3753, 'sehri': 3973, 'although': 119, 'improvement': 1941, 'mash': 2701, 'potatoe': 3500, 'runny': 3880, 'pressure': 3535, 'pleasant': 3423, 'freeze': 1511, 'complain': 832, 'repeatedly': 3760, 'outlet': 3176, 'child': 710, 'supportive': 4351, 'definitely': 1020, 'wise': 4836, 'wasnt': 4785, 'iftari': 1906, 'ramadan': 3650, 'absolutely': 8, 'sort': 4212, 'shit': 4076, 'cheat': 683, 'actually': 36, 'usually': 4680, 'write': 4871, 'serious': 3999, 'level': 2500, 'criticism': 944, 'honestly': 1803, 'anything': 167, 'wherever': 4819, 'office': 3073, 'matter': 2720, 'physically': 3367, 'foodpanda': 1482, 'manage': 2656, 'friday': 1521, 'none': 3010, 'requirement': 3771, 'lots': 2564, 'term': 4446, 'favourite': 1412, 'beat': 390, 'entry': 1285, 'security': 3968, 'parking': 3276, 'pricey': 3540, 'quiet': 3620, 'greet': 1654, 'enter': 1280, 'pohela': 3447, 'suggest': 4330, 'unit': 4649, 'sale': 3898, 'code': 784, 'taka': 4388, 'chain': 653, 'signature': 4114, 'guard': 1664, 'eager': 1214, 'tip': 4525, 'idea': 1897, 'guide': 1668, 'park': 3275, 'baby': 309, 'rotten': 3864, 'egg': 1240, 'yaak': 4885, 'happen': 1704, 'irresponsible': 2034, 'unexpected': 4641, 'disgusting': 1140, 'bank': 347, 'campaign': 600, 'professional': 3554, 'handle': 1698, 'fb': 1414, 'represent': 3766, 'brand': 533, 'olive': 3096, 'oil': 3083, 'smokey': 4164, 'tender': 4443, 'perfectly': 3339, 'outside': 3179, 'generally': 1581, 'right': 3824, 'decor': 1011, 'dedicate': 1016, 'smoker': 4163, 'balcony': 332, 'tried': 4588, 'four': 1501, 'salt': 3901, 'spice': 4238, 'thin': 4486, 'crust': 951, 'chef': 695, 'learn': 2479, 'kiwi': 2322, 'chiller': 715, 'syrup': 4376, 'single': 4128, 'upto': 4671, 'suck': 4320, 'city': 759, 'ill': 1917, 'mannered': 2668, 'pane': 3247, 'new': 2967, 'forward': 1498, 'star': 4266, 'indeed': 1965, 'dhaka': 1082, 'valentine': 4697, 'particularly': 3285, 'unnecessary': 4656, 'sandwich': 3906, 'talk': 4394, 'credit': 939, 'card': 615, 'promotional': 3563, 'coupon': 915, 'trained': 4577, 'rest': 3789, 'wrong': 4872, 'prawn': 3515, 'poisoning': 3451, 'afterwards': 66, 'sick': 4110, 'butter': 585, 'bt': 551, 'slowly': 4154, 'become': 396, 'low': 2579, 'tonight': 4555, 'question': 3614, 'reserve': 3774, 'rudely': 3875, 'reservation': 3773, 'pass': 3293, 'challenge': 657, 'want': 4775, 'ppl': 3508, 'night': 2989, 'business': 581, 'damn': 982, 'com': 800, 'starter': 4269, 'surprised': 4357, 'person': 3347, 'dish': 1141, 'someone': 4191, 'proper': 3566, 'lesson': 2497, 'let': 2498, 'degrade': 1022, 'value': 4704, 'numerous': 3039, 'occasion': 3061, 'thoroughly': 4496, 'table': 4380, 'without': 4839, 'detail': 1070, 'whether': 4820, 'easily': 1220, 'unparalleled': 4657, 'grab': 1644, 'heart': 1729, 'dont': 1171, 'probably': 3549, 'trash': 4579, 'lol': 2552, 'hospitable': 1822, 'charboiled': 667, 'paris': 3274, 'read': 3681, 'story': 4292, 'sooooo': 4206, 'cooked': 887, 'understand': 4639, 'inform': 1978, 'properly': 3567, 'available': 282, 'saturday': 3927, 'till': 4520, 'notice': 3028, 'truth': 4597, 'busy': 583, 'traffic': 4575, 'prior': 3544, 'profit': 3556, 'speechless': 4232, 'saw': 3937, 'experienced': 1355, 'horrible': 1817, 'grand': 1646, 'final': 1440, 'december': 1002, 'stand': 4264, 'main': 2628, 'shahid': 4034, 'vip': 4736, 'box': 526, 'ticket': 4514, 'hotline': 1834, 'smoothie': 4168, 'ur': 4672, 'overprice': 3196, 'insist': 2001, 'certain': 645, 'range': 3660, 'rob': 3843, 'receive': 3699, 'cashier': 630, 'argument': 212, 'complimentary': 840, 'consider': 863, 'beggar': 402, 'beg': 401, 'live': 2535, 'abroad': 5, 'whatever': 4814, 'charge': 670, 'atleast': 262, 'gushan': 1679, 'loud': 2565, 'etc': 1309, 'prefer': 3524, 'guess': 1666, 'actual': 35, 'whose': 4826, 'fall': 1388, 'wa': 4760, 'sft': 4028, 'sit': 4133, 'arrangement': 218, 'least': 2480, 'bailey': 319, 'road': 3839, 'felt': 1428, 'robbery': 3845, 'ruti': 3882, 'vaji': 4696, 'unless': 4652, 'awful': 296, 'beverage': 433, 'frappe': 1506, 'everytime': 1324, 'number': 3038, 'verify': 4722, 'store': 4291, 'deny': 1047, 'menue': 2758, 'solve': 4187, 'ther': 4480, 'client': 772, 'walk': 4769, 'towards': 4567, 'stop': 4290, 'literally': 2532, 'cannot': 604, 'ran': 3656, 'ingredient': 1982, 'run': 3879, 'else': 1260, 'completely': 838, 'ignorant': 1910, 'doubt': 1181, 'vat': 4712, 'honest': 1802, 'ordinary': 3144, 'premium': 3527, 'still': 4283, 'current': 961, 'force': 1488, 'annoy': 159, 'expression': 1363, 'multiple': 2887, 'respond': 3784, 'tissue': 4529, 'counter': 912, 'minute': 2793, 'return': 3811, 'turn': 4607, 'volume': 4750, 'note': 3025, 'server': 4006, 'process': 3551, 'fact': 1379, 'relatively': 3738, 'cutlery': 969, 'condition': 851, 'spoon': 4243, 'feeling': 1423, 'reflect': 3720, 'class': 763, 'claim': 761, 'anytime': 168, 'picture': 3377, 'necessary': 2951, 'gentle': 1585, 'differs': 1102, 'serf': 3997, 'remember': 3751, 'around': 216, 'double': 1180, 'clear': 769, 'fraud': 1507, 'might': 2772, 'authority': 279, 'consideration': 864, 'face': 1376, 'ate': 261, 'ruin': 3877, 'rip': 3827, 'basically': 365, 'kindly': 2306, 'true': 4592, 'meat': 2734, 'raw': 3677, 'cheddar': 686, 'char': 664, 'আজ': 4923, 'সব': 4990, 'আর': 4925, 'এই': 4931, 'south': 4217, 'deco': 1010, 'logo': 2548, 'everybody': 1320, 'bet': 430, 'forget': 1491, 'overly': 3194, 'bite': 463, 'overpriced': 3197, 'apart': 172, 'advise': 56, 'push': 3601, 'valuable': 4703, 'advice': 55, 'hence': 1741, 'wont': 4844, 'peace': 3318, 'golden': 1624, 'combo': 803, 'wedge': 4803, 'forgot': 1492, 'knowledge': 2333, 'prepare': 3529, 'mixed': 2807, 'neither': 2959, 'found': 1500, 'hardly': 1710, 'cud': 955, 'hesitate': 1745, 'spend': 4235, 'satisfactory': 3922, 'irritate': 2035, 'dough': 1182, 'pancake': 3244, 'die': 1097, 'barely': 351, 'recipe': 3705, 'anyway': 169, 'acceptable': 16, 'classy': 765, 'grt': 1663, 'humble': 1858, 'dis': 1124, 'khassi': 2255, 'dissatisfied': 1149, 'mind': 2781, 'blow': 481, 'regularly': 3732, 'goog': 1630, 'realy': 3691, 'shrimp': 4099, 'earth': 1219, 'manu': 2672, 'tasting': 4416, 'dat': 987, 'hv': 1873, 'normal': 3016, 'modhe': 2820, 'website': 4802, 'development': 1074, 'dear': 997, 'mam': 2652, 'salam': 3896, 'pleasure': 3430, 'opportunity': 3132, 'introduce': 2026, 'organization': 3151, 'lumextech': 2593, 'solution': 4186, 'ltd': 2583, 'computer': 842, 'university': 4650, 'repute': 3768, 'skilled': 4146, 'team': 4426, 'hassle': 1713, 'web': 4801, 'competitive': 830, 'satisfaction': 3921, 'cater': 633, 'ensure': 1279, 'consist': 865, 'capable': 608, 'rich': 3821, 'project': 3558, 'simple': 4121, 'base': 357, 'portal': 3486, 'kinds': 2308, 'company': 821, 'relationship': 3736, 'contact': 872, 'fix': 1456, 'meeting': 2742, 'show': 4098, 'attach': 267, 'kind': 2304, 'continue': 880, 'success': 4316, 'regard': 3727, 'islam': 2037, 'officer': 3074, 'lake': 2442, 'kalabagan': 2194, 'cell': 641, 'gooood': 1633, 'ready': 3684, 'member': 2751, 'wow': 4866, 'wud': 4878, 'recomend': 3706, 'rate': 3673, 'step': 4280, 'brilliant': 540, 'min': 2779, 'do': 1164, 'wonderful': 4842, 'italian': 2041, 'asad': 226, 'pricing': 3541, 'describe': 1057, 'heritage': 1743, 'fine': 1443, 'dining': 1116, 'delicacy': 1036, 'real': 3686, 'deal': 996, 'list': 2529, 'moment': 2832, 'individual': 1969, 'didnt': 1096, 'equipment': 1293, 'couldnt': 910, 'disappointing': 1128, 'awsum': 301, 'vibe': 4730, 'dere': 1055, 'satisfied': 3923, 'praiseworthy': 3512, 'fabulous': 1375, 'car': 613, 'truly': 4594, 'grateful': 1648, 'bomb': 501, 'superb': 4343, 'light': 2512, 'jus': 2165, 'served': 4005, 'ice': 1890, 'rubbish': 3873, 'lay': 2472, 'spacious': 4221, 'country': 913, 'leave': 2481, 'hygienic': 1882, 'fatafati': 1405, 'joss': 2143, 'ab': 0, 'everyday': 1321, 'lousy': 2568, 'training': 4578, 'edit': 1234, 'since': 4124, 'add': 38, 'cool': 891, 'rank': 3661, 'honey': 1804, 'mustard': 2900, 'hat': 1714, 'dessert': 1068, 'appreciate': 196, 'feed': 1420, 'instantly': 2007, 'uncle': 4634, 'listen': 2530, 'whats': 4815, 'non': 3009, 'revisit': 3816, 'bring': 541, 'desi': 1063, 'masala': 2700, 'yummi': 4908, 'spending': 4236, 'yammi': 4890, 'jatrabari': 2081, 'এর': 4940, 'passing': 3294, 'besi': 426, 'jodi': 2123, 'amn': 147, 'gulo': 1675, 'icche': 1889, 'protidin': 3577, 'choose': 739, 'suggestion': 4331, 'interest': 2017, 'wonderfull': 4843, 'exactly': 1329, 'gorgeous': 1637, 'gather': 1571, 'photo': 3362, 'sell': 3983, 'pad': 3222, 'thai': 4461, 'noodle': 3013, 'mohammadpur': 2822, 'resturent': 3804, 'finish': 1445, 'tnx': 4533, 'neat': 2950, 'similar': 4119, 'either': 1245, 'ac': 13, 'bother': 518, 'explain': 1359, 'tremendous': 4583, 'door': 1172, 'lemon': 2493, 'personnel': 3350, 'conscious': 862, 'focus': 1473, 'innovative': 1991, 'roof': 3857, 'summer': 4336, 'rainy': 3633, 'spaghetti': 4222, 'salty': 3903, 'vomit': 4751, 'observe': 3055, 'eating': 1228, 'lame': 2448, 'im': 1920, 'quickly': 3619, 'nicely': 2984, 'outdoor': 3173, 'fan': 1396, 'post': 3496, 'smooth': 4167, 'recommended': 3710, 'gd': 1573, 'moreover': 2845, 'awsome': 300, 'wd': 4797, 'sha': 4029, 'allah': 104, 'preety': 3523, 'restuarant': 3800, 'soooo': 4205, 'loyal': 2581, 'luck': 2586, 'restaurent': 3792, 'resonable': 3781, 'woww': 4867, 'osam': 3162, 'explore': 1361, 'ofcourse': 3070, 'visited': 4741, 'outstanding': 3180, 'strawberry': 4296, 'shake': 4037, 'priority': 3545, 'rage': 3628, 'policy': 3458, 'wast': 4786, 'warmth': 4780, 'enjoyment': 1277, 'admirable': 47, 'bless': 474, 'dirty': 1123, 'toilet': 4542, 'delay': 1033, 'filling': 1438, 'kora': 2351, 'dorkar': 1175, 'gorom': 1638, 'choto': 743, 'akta': 92, 'injoy': 1986, 'chill': 714, 'peaple': 3321, 'nabil': 2909, 'homemade': 1800, 'pastry': 3304, 'cup': 959, 'strong': 4302, 'kick': 2297, 'laglo': 2438, 'এখন': 4936, 'মতন': 4979, 'tha': 4459, 'silo': 4116, 'apnara': 175, 'korta': 2386, 'dosas': 1179, 'welcoming': 4809, 'within': 4838, 'short': 4093, 'dosa': 1178, 'lazawab': 2475, 'concept': 846, 'limitation': 2523, 'compromise': 841, 'thats': 4477, 'hesitation': 1746, 'freely': 1510, 'choiceable': 735, 'unknown': 4651, 'karahi': 2199, 'curry': 963, 'chole': 738, 'alu': 121, 'paratha': 3264, 'mostly': 2850, 'hyderabadi': 1877, 'wid': 4827, 'previous': 3537, 'anyone': 166, 'afford': 59, 'coz': 924, 'anywhere': 171, 'beside': 427, 'dnt': 1163, 'authentic': 277, 'indian': 1967, 'huge': 1855, 'demand': 1045, 'rock': 3846, 'fnf': 1472, 'rating': 3675, 'wife': 4829, 'fuchka': 1542, 'mix': 2806, 'delecious': 1034, 'yummyyy': 4914, 'despite': 1067, 'tiny': 4524, 'effort': 1239, 'tasteful': 4414, 'itz': 2046, 'foodz': 1484, 'chola': 737, 'quicker': 3618, 'faul': 1407, 'yammy': 4891, 'kothay': 2398, 'doi': 1167, 'fuska': 1558, 'large': 2455, 'kub': 2416, 'khabarer': 2232, 'aktu': 94, 'hole': 1790, 'hoto': 1835, 'tomato': 4549, 'capsicum': 611, 'poriman': 3480, 'diyen': 1160, 'ektu': 1255, 'boro': 514, 'onak': 3101, 'এক': 4932, 'bosar': 516, 'arektu': 210, 'vhalo': 4726, 'hoy': 1843, 'সবই': 4991, 'onnnk': 3112, 'hote': 1831, 'ee': 1236, 'baaje': 305, 'um': 4621, 'sry': 4256, 'chowmein': 747, 'lose': 2561, 'perfection': 3338, 'appreciation': 197, 'nachos': 2911, 'beyond': 436, 'rampura': 3653, 'create': 936, 'hoye': 1845, 'dekhe': 1028, 'sobar': 4175, 'akbar': 87, 'jawa': 2082, 'uchit': 4614, 'video': 4732, 'taco': 4381, 'ashe': 236, 'dekhi': 1029, 'korte': 2388, 'naa': 2905, 'karon': 2201, 'temon': 4437, 'oitar': 3087, 'eto': 1310, 'pari': 3273, 'ni': 2976, 'pray': 3517, 'sob': 4173, 'uncooked': 4637, 'moto': 2862, 'ak': 85, 'osadharon': 3160, 'ai': 78, 'khelam': 2267, 'guli': 1674, 'khubi': 2283, 'disgraceful': 1138, 'careful': 617, 'biriyani': 455, 'hydrabadi': 1878, 'mutton': 2902, 'traditional': 4574, 'serving': 4010, 'chinese': 721, 'cuisine': 956, 'reason': 3693, 'dine': 1114, 'discipline': 1133, 'obviously': 3060, 'waiters': 4765, 'act': 31, 'clue': 777, 'away': 292, 'communicate': 818, 'hosting': 1827, 'ceremony': 644, 'fully': 1549, 'musty': 2901, 'wander': 4773, 'bloody': 480, 'surround': 4361, 'plan': 3404, 'holiday': 1793, 'date': 988, 'february': 1419, 'complete': 837, 'passion': 3295, 'reception': 3703, 'extraordinarily': 1368, 'importantly': 1933, 'dal': 980, 'afgani': 62, 'percel': 3335, 'packet': 3221, 'achar': 26, 'chatni': 676, 'sincere': 4125, 'tidy': 4515, 'malibagh': 2650, 'shantinagar': 4049, 'qualityfull': 3606, 'impress': 1935, 'রকম': 4984, 'nt': 3036, 'student': 4305, 'wonton': 4846, 'third': 4490, 'ato': 265, 'motamoti': 2853, 'name': 2921, 'complementary': 836, 'wrap': 4869, 'chili': 712, 'vanilla': 4706, 'chocolate': 731, 'mineral': 2784, 'munna': 2891, 'extremely': 1371, 'cordial': 897, 'succulent': 4319, 'immediate': 1924, 'require': 3770, 'yummmy': 4912, 'furnish': 1554, 'tht': 4507, 'wood': 4847, 'briyani': 542, 'সকল': 4988, 'alhamdulillah': 101, 'mighty': 2773, 'delight': 1040, 'thnx': 4494, 'captain': 612, 'cheesy': 693, 'easy': 1223, 'bacon': 312, 'solid': 4185, 'patty': 3311, 'strip': 4300, 'balance': 330, 'sauce': 3928, 'lettuce': 2499, 'slice': 4149, 'crisp': 942, 'whenever': 4817, 'shimanto': 4070, 'squire': 4251, 'dhanmondhi': 1085, 'pounder': 3503, 'moderate': 2818, 'crowd': 947, 'asked': 242, 'bottle': 520, 'deserve': 1060, 'unbelievable': 4632, 'quarter': 3608, 'hungry': 1866, 'budget': 559, 'jalapeno': 2064, 'garlic': 1568, 'mess': 2761, 'cry': 952, 'ambient': 134, 'polite': 3460, 'decently': 1005, 'marinate': 2686, 'wear': 4799, 'pas': 3290, 'recent': 3701, 'mirjafar': 2795, 'buffalo': 560, 'future': 1559, 'comer': 806, 'pure': 3598, 'burgar': 573, 'blowing': 482, 'surprise': 4356, 'school': 3949, 'asset': 247, 'french': 1514, 'tummy': 4603, 'kitkat': 2320, 'famous': 1395, 'royal': 3870, 'excelent': 1332, 'begin': 403, 'journey': 2148, 'reputation': 3767, 'heaven': 1732, 'naga': 2912, 'product': 3553, 'line': 2526, 'prove': 3581, 'rooftop': 3858, 'goodness': 1629, 'পর': 4972, 'হয়': 4998, 'ওই': 4944, 'ইট': 4927, 'অল': 4920, 'square': 4249, 'extra': 1367, 'world': 4854, 'goop': 1635, 'basta': 370, 'oven': 3183, 'bake': 325, 'yet': 4898, 'stomach': 4288, 'sector': 3966, 'barbecue': 349, 'blend': 473, 'finally': 1441, 'remain': 3748, 'incomplete': 1957, 'weather': 4800, 'common': 817, 'eve': 1313, 'teaser': 4428, 'girl': 1604, 'harass': 1708, 'watch': 4791, 'preference': 3525, 'visitor': 4743, 'jerk': 2104, 'chow': 744, 'mein': 2747, 'der': 1054, 'safe': 3885, 'risky': 3831, 'openly': 3126, 'tease': 4427, 'utter': 4686, 'avoid': 287, 'safety': 3886, 'ignore': 1911, 'hate': 1715, 'support': 4350, 'victim': 4731, 'woman': 4840, 'momos': 2834, 'yo': 4899, 'shame': 4044, 'host': 1826, 'potential': 3502, 'bullshit': 569, 'momo': 2833, 'air': 79, 'crazy': 933, 'fortunately': 1497, 'effective': 1237, 'amuse': 155, 'accurate': 23, 'presentation': 3532, 'wari': 4778, 'lounge': 2567, 'insha': 1997, 'chance': 658, 'eagerly': 1215, 'hygiene': 1881, 'opening': 3125, 'valoi': 4702, 'lagse': 2439, 'yamme': 4889, 'omg': 3099, 'continuously': 881, 'display': 1145, 'mojar': 2828, 'center': 642, 'soda': 4178, 'mistake': 2803, 'piss': 3385, 'unhygienic': 4647, 'self': 3980, 'tea': 4424, 'hoile': 1779, 'hoito': 1784, 'fuck': 1543, 'consumer': 871, 'shell': 4065, 'responsibility': 3786, 'often': 3076, 'hakka': 1689, 'baily': 320, 'pleased': 3426, 'mega': 2743, 'dumpling': 1208, 'kulfi': 2418, 'invite': 2030, 'saim': 3889, 'congratulation': 860, 'nahid': 2915, 'newly': 2969, 'used': 4676, 'hunger': 1864, 'corn': 901, 'narrow': 2927, 'noisy': 3007, 'banani': 337, 'maximum': 2722, 'peer': 3323, 'disappoints': 1130, 'bhaiya': 441, 'corporate': 903, 'togethers': 4540, 'classic': 764, 'bdt': 385, 'oily': 3084, 'soggy': 4181, 'onion': 3107, 'burnt': 578, 'watery': 4795, 'sour': 4216, 'rubbery': 3872, 'plat': 3409, 'convince': 885, 'fault': 1408, 'cube': 953, 'attempt': 268, 'magic': 2620, 'successful': 4317, 'five': 1455, 'wrapped': 4870, 'splendid': 4241, 'facebook': 1377, 'mongolian': 2840, 'incomparable': 1956, 'however': 1842, 'bazar': 376, 'rare': 3665, 'exquisite': 1364, 'roll': 3851, 'promise': 3559, 'refrigerator': 3724, 'puke': 3587, 'loose': 2560, 'motion': 2860, 'furthermore': 1556, 'rat': 3671, 'iftaar': 1904, 'nayan': 2938, 'consistently': 868, 'plentiful': 3432, 'crab': 926, 'ginger': 1603, 'mishty': 2798, 'eita': 1244, 'ichcha': 1894, 'korbe': 2354, 'son': 4200, 'six': 4137, 'lychee': 2603, 'choice': 734, 'sober': 4176, 'specialy': 4227, 'plater': 3411, 'nic': 2982, 'glitch': 1614, 'tolerate': 4546, 'help': 1739, 'department': 1049, 'currently': 962, 'folk': 1474, 'fulfil': 1546, 'facility': 1378, 'hidden': 1749, 'eatable': 1225, 'digest': 1105, 'freshly': 1519, 'leftover': 2485, 'yogurt': 4900, 'exorbitant': 1346, 'cozy': 925, 'helpful': 1740, 'freak': 1508, 'decide': 1006, 'discussion': 1136, 'fr': 1502, 'hav': 1717, 'lov': 2569, 'ws': 4874, 'chaos': 662, 'shud': 4100, 'meant': 2732, 'khair': 2246, 'surprisingly': 4359, 'reluctant': 3747, 'grade': 1645, 'difficult': 1103, 'consume': 870, 'sip': 4129, 'strongly': 4303, 'improved': 1940, 'zero': 4917, 'smelly': 4159, 'lie': 2507, 'cut': 967, 'inquire': 1993, 'chilli': 716, 'fusion': 1557, 'perhaps': 3343, 'seafood': 3956, 'certainly': 646, 'blockbuster': 478, 'wanton': 4777, 'role': 3850, 'win': 4832, 'fish': 1452, 'squid': 4250, 'cashewnut': 629, 'send': 3987, 'prompt': 3564, 'action': 32, 'professionalism': 3555, 'horlicks': 1815, 'state': 4270, 'art': 223, 'rain': 3630, 'sumptuous': 4337, 'nightmare': 2990, 'accommodation': 18, 'difference': 1099, 'eatery': 1227, 'refill': 3719, 'answer': 161, 'pick': 3375, 'hung': 1863, 'hear': 1727, 'decline': 1009, 'unfortunately': 4644, 'bunch': 571, 'plant': 3406, 'block': 477, 'cigarette': 752, 'noise': 3006, 'entire': 1282, 'indoor': 1971, 'throw': 4506, 'differentiate': 1101, 'desire': 1065, 'hunan': 1861, 'chilly': 718, 'sooo': 4204, 'skewer': 4144, 'outta': 3181, 'bowl': 525, 'cashew': 628, 'hmm': 1766, 'investment': 2029, 'dissapointing': 1148, 'wanted': 4776, 'veggie': 4716, 'temperature': 4438, 'enjoyable': 1275, 'teast': 4429, 'sometime': 4193, 'excess': 1338, 'sugar': 4328, 'match': 2714, 'adult': 51, 'confirm': 853, 'evening': 1315, 'weekend': 4805, 'jumbo': 2162, 'additional': 42, 'noddle': 3005, 'appetizer': 191, 'general': 1580, 'shall': 4041, 'moja': 2826, 'khan': 2251, 'worker': 4853, 'kothai': 2395, 'lekha': 2492, 'afternoon': 65, 'odd': 3066, 'pm': 3440, 'alternate': 117, 'parser': 3280, 'refuse': 3726, 'fly': 1470, 'roughly': 3867, 'somewhat': 4195, 'cleanliness': 768, 'carefully': 618, 'stay': 4273, 'online': 3110, 'crave': 930, 'amazingly': 131, 'ohh': 3078, 'lv': 2602, 'gv': 1684, 'mom': 2831, 'nvr': 3044, 'minus': 2792, 'hit': 1764, 'munch': 2889, 'reasonably': 3695, 'bhalo': 442, 'character': 666, 'groom': 1658, 'glad': 1610, 'shaa': 4030, 'luv': 2597, 'launch': 2467, 'winner': 4835, 'contest': 877, 'sue': 4325, 'ꮋꭺkkꭺ': 4999, 'lengthy': 2495, 'sense': 3989, 'বড়': 4977, 'previously': 3538, 'mainly': 2629, 'offering': 3072, 'corner': 902, 'cuz': 970, 'absent': 6, 'nowadays': 3033, 'judge': 2154, 'desert': 1059, 'mosquito': 2849, 'noticed': 3030, 'fav': 1409, 'dst': 1199, 'alam': 97, 'peaceful': 3319, 'abundant': 11, 'halka': 1693, 'immediately': 1925, 'joy': 2149, 'sound': 4214, 'crowdy': 948, 'irritated': 2036, 'teeth': 4432, 'red': 3713, 'everywhere': 1325, 'crunchy': 949, 'shingara': 4071, 'greasy': 1650, 'hop': 1808, 'in': 1945, 'courteous': 918, 'recall': 3697, 'hd': 1723, 'control': 882, 'ultimately': 4620, 'popular': 3472, 'provider': 3583, 'motivate': 2861, 'thier': 4484, 'sign': 4113, 'modde': 2815, 'chul': 750, 'loss': 2562, 'scope': 3950, 'whatsoever': 4816, 'inclusive': 1954, 'exact': 1328, 'chewy': 702, 'nut': 3041, 'seven': 4020, 'nephew': 2960, 'lageni': 2437, 'tai': 4387, 'vallagse': 4699, 'beshi': 425, 'follow': 1475, 'circulate': 758, 'later': 2462, 'nobody': 3003, 'batter': 375, 'fu': 1541, 'chunk': 751, 'stair': 4260, 'notify': 3031, 'supper': 4346, 'cooperative': 896, 'eaten': 1226, 'shudhu': 4101, 'bondho': 503, 'kitchen': 2319, 'concentration': 845, 'venture': 4720, 'realize': 3689, 'industry': 1973, 'superior': 4345, 'past': 3298, 'frustrate': 1537, 'pain': 3229, 'notch': 3024, 'un': 4623, 'directly': 1122, 'foodbank': 1478, 'apology': 182, 'black': 468, 'pepper': 3331, 'penny': 3329, 'warp': 4781, 'therefore': 4481, 'skip': 4147, 'mouthful': 2868, 'burst': 579, 'palate': 3238, 'revise': 3815, 'obsessed': 3056, 'optimum': 3135, 'thn': 4491, 'okk': 3093, 'internal': 2022, 'touch': 4564, 'soothe': 4209, 'sadly': 3884, 'hire': 1760, 'hair': 1687, 'hurry': 1868, 'restutant': 3807, 'competitor': 831, 'noon': 3014, 'dn': 1162, 'josh': 2142, 'awesomeness': 295, 'unnecessarily': 4655, 'yakk': 4887, 'feedback': 1421, 'hopefully': 1811, 'elegant': 1258, 'cooking': 889, 'commendable': 813, 'stick': 4281, 'move': 2870, 'id': 1896, 'deep': 1018, 'hurt': 1869, 'pocket': 3446, 'fail': 1381, 'meet': 2741, 'london': 2555, 'basis': 368, 'heard': 1728, 'bucket': 556, 'load': 2539, 'stun': 4310, 'oyster': 3212, 'dissapointed': 1147, 'nevertheless': 2966, 'expand': 1348, 'news': 2970, 'month': 2841, 'praise': 3511, 'receiver': 3700, 'availability': 281, 'glaze': 1613, 'status': 4272, 'typical': 4613, 'eastern': 1222, 'lips': 2528, 'tongue': 4554, 'throat': 4504, 'loveeee': 2573, 'exterior': 1366, 'remind': 3752, 'authenticity': 278, 'particular': 3284, 'insanely': 1995, 'attention': 270, 'setup': 4019, 'message': 2762, 'await': 288, 'gotta': 1643, 'relative': 3737, 'compliment': 839, 'shohel': 4089, 'shajib': 4036, 'immaculate': 1923, 'ideal': 1898, 'besh': 424, 'inexpensive': 1975, 'osthir': 3166, 'tree': 4582, 'payment': 3316, 'dmoney': 1161, 'secure': 3967, 'group': 1661, 'account': 22, 'cash': 627, 'hazard': 1720, 'yam': 4888, 'steak': 4274, 'body': 487, 'em': 1261, 'strange': 4294, 'upper': 4669, 'situation': 4136, 'yuck': 4905, 'arrive': 221, 'modify': 2821, 'shut': 4104, 'sirloin': 4131, 'bento': 418, 'spring': 4246, 'generator': 1582, 'electricity': 1257, 'yum': 4906, 'co': 778, 'operative': 3129, 'shitty': 4078, 'combine': 802, 'ya': 4882, 'limit': 2522, 'lighting': 2513, 'limitless': 2525, 'evn': 1326, 'hated': 1716, 'regret': 3730, 'wasted': 4789, 'resturant': 3802, 'tough': 4565, 'drinking': 1193, 'anybody': 164, 'sudden': 4321, 'settle': 4018, 'sausage': 3929, 'plzz': 3439, 'stake': 4261, 'daughter': 989, 'wrost': 4873, 'le': 2477, 'comparison': 826, 'garbage': 1566, 'anymore': 165, 'seheri': 3972, 'obostha': 3054, 'manus': 2673, 'kano': 2197, 'je': 2093, 'ekhane': 1250, 'jay': 2084, 'chaisi': 655, 'jaitam': 2061, 'limited': 2524, 'paisa': 3232, 'form': 1494, 'generous': 1583, 'joghonno': 2126, 'orderd': 3141, 'husband': 1870, 'thinking': 4489, 'uncomfortable': 4635, 'pineapple': 3381, 'epic': 1290, 'highlight': 1752, 'orange': 3138, 'punish': 3592, 'specious': 4230, 'fab': 1374, 'amex': 142, 'embarrass': 1262, 'via': 4729, 'aesthetic': 57, 'factor': 1380, 'originality': 3157, 'conversation': 884, 'flaw': 1465, 'able': 3, 'mini': 2785, 'mum': 2888, 'watermelon': 4794, 'bcoz': 381, 'reduces': 3717, 'sad': 3883, 'creative': 937, 'matha': 2717, 'nosto': 3021, 'sauted': 3932, 'bar': 348, 'owsm': 3209, 'insufficient': 2010, 'health': 1725, 'hype': 1883, 'somehow': 4190, 'deserves': 1061, 'bone': 505, 'drumstick': 1197, 'mild': 2775, 'papaya': 3257, 'shock': 4083, 'flavours': 1464, 'heat': 1731, 'esp': 1301, 'likable': 2515, 'notable': 3023, 'likely': 2518, 'trouble': 4591, 'alongside': 112, 'sea': 3955, 'head': 1724, 'inconvenience': 1959, 'azan': 303, 'appreciable': 195, 'chk': 727, 'thakle': 4466, 'thake': 4465, 'diye': 1159, 'crew': 940, 'knife': 2329, 'clam': 762, 'enviroment': 1287, 'coke': 789, 'organic': 3148, 'track': 4571, 'bonus': 507, 'convenient': 883, 'interesting': 2019, 'section': 3965, 'september': 3994, 'agree': 74, 'congested': 859, 'boys': 529, 'uncommon': 4636, 'loudly': 2566, 'excite': 1340, 'responsible': 3787, 'medium': 2739, 'innovation': 1990, 'exotic': 1347, 'playlist': 3418, 'slightly': 4152, 'root': 3860, 'wonder': 4841, 'accept': 15, 'dedication': 1017, 'blood': 479, 'overwhelm': 3199, 'hanging': 1701, 'suddenly': 4322, 'together': 4539, 'uff': 4618, 'sei': 3975, 'pailam': 3228, 'nia': 2977, 'adda': 39, 'dewar': 1078, 'jnno': 2120, 'maker': 2640, 'abr': 4, 'mona': 2836, 'dam': 981, 'onujai': 3118, 'khrp': 2281, 'placement': 3402, 'emon': 1264, 'dite': 1155, 'parlam': 3277, 'bang': 341, 'buck': 555, 'mil': 2774, 'ekdom': 1249, 'residence': 3777, 'meatball': 2735, 'tandoori': 4397, 'americano': 141, 'di': 1089, 'depend': 1050, 'জন': 4959, 'mayonnaise': 2726, 'pizzar': 3395, 'paisi': 3233, 'american': 139, 'kashmiri': 2204, 'efficient': 1238, 'pizzza': 3399, 'konta': 2349, 'kon': 2346, 'bujha': 566, 'chawa': 677, 'oitao': 3086, 'hobar': 1769, 'patla': 3309, 'pepperoni': 3332, 'scrumptious': 3953, 'exclude': 1341, 'prize': 3548, 'duper': 1210, 'pizzaa': 3391, 'pleasent': 3427, 'calm': 598, 'comfy': 810, 'cheesey': 692, 'berger': 421, 'oops': 3122, 'plz': 3438, 'guyes': 1681, 'la': 2420, 'mexicana': 2765, 'deya': 1080, 'ghonta': 1598, 'hoise': 1782, 'balanced': 331, 'waited': 4763, 'এসব': 4943, 'topping': 4560, 'fanta': 1398, 'sofa': 4179, 'oreo': 3147, 'amaging': 125, 'khane': 2252, 'kar': 2198, 'concrete': 849, 'triangle': 4585, 'nature': 2935, 'kebab': 2209, 'escape': 1298, 'lakeside': 2443, 'walkway': 4770, 'boti': 519, 'khichuri': 2273, 'rainfall': 3632, 'loving': 2577, 'chair': 654, 'wooden': 4849, 'tool': 4556, 'thought': 4498, 'nacho': 2910, 'renovate': 3756, 'knew': 2328, 'cap': 606, 'broken': 544, 'expire': 1358, 'remove': 3755, 'break': 535, 'luscious': 2596, 'lavish': 2470, 'session': 4014, 'pop': 3468, 'usul': 4681, 'odered': 3068, 'overload': 3193, 'achari': 27, 'scene': 3945, 'idk': 1902, 'horrify': 1820, 'cockroach': 781, 'tel': 4434, 'oshadharon': 3163, 'yeammy': 4893, 'cz': 971, 'worthwhile': 4861, 'baal': 306, 'niyechilam': 3000, 'snack': 4170, 'ja': 2048, 'kemon': 2217, 'bepar': 419, 'kheyal': 2270, 'korben': 2355, 'kabar': 2176, 'kabab': 2174, 'korsilam': 2385, 'gravy': 1649, 'pani': 3249, 'rakha': 3641, 'undercooked': 4638, 'diffrent': 1104, 'natural': 2933, 'beauty': 393, 'fmly': 1471, 'charming': 672, 'faluda': 1392, 'upset': 4670, 'yellow': 4895, 'extreme': 1370, 'inshaallah': 1998, 'chowmin': 748, 'seperate': 3993, 'kacchi': 2180, 'roast': 3841, 'tikka': 4518, 'firni': 1449, 'jarda': 2078, 'borhani': 512, 'discover': 1135, 'brought': 546, 'raisin': 3635, 'nowhere': 3034, 'nan': 2923, 'guys': 1682, 'marking': 2691, 'normally': 3017, 'biriani': 453, 'bore': 511, 'count': 911, 'unlike': 4653, 'kach': 2184, 'cant': 605, 'resist': 3779, 'yaaak': 4884, 'marvelous': 2698, 'shoud': 4096, 'alkaderia': 103, 'neighbourhood': 2958, 'express': 1362, 'paper': 3258, 'chelo': 696, 'thanda': 4470, 'lagto': 2441, 'minimize': 2787, 'present': 3531, 'khilgaon': 2276, 'sizzle': 4140, 'gate': 1570, 'attend': 269, 'marriage': 2693, 'impression': 1937, 'mood': 2843, 'washroom': 4784, 'telapoka': 4435, 'flour': 1468, 'junk': 2164, 'hotel': 1832, 'orchid': 3139, 'teach': 4425, 'minimal': 2786, 'একদম': 4935, 'freinds': 1513, 'unprofessional': 4659, 'dumb': 1207, 'jekhane': 2099, 'rakhen': 3646, 'diya': 1158, 'basabo': 355, 'kom': 2343, 'takay': 4390, 'emn': 1263, 'ktha': 2414, 'kra': 2405, 'cordially': 898, 'craze': 932, 'chip': 724, 'diabetic': 1091, 'pitha': 3387, 'shahi': 4033, 'malai': 2646, 'pathao': 3305, 'puri': 3599, 'inconsistent': 1958, 'chaap': 650, 'luchis': 2585, 'shamlao': 4048, 'brain': 531, 'chaa': 649, 'cha': 648, 'lassi': 2457, 'as': 224, 'chap': 663, 'এরকম': 4941, 'bangla': 344, 'poster': 3497, 'funny': 1553, 'dislike': 1144, 'childhood': 711, 'movie': 2872, 'truely': 4593, 'maintenance': 2633, 'ekdm': 1248, 'gola': 1622, 'duitai': 1206, 'etto': 1311, 'ajaira': 82, 'upor': 4667, 'market': 2689, 'strategy': 4295, 'abar': 1, 'jabo': 2051, 'onno': 3113, 'rokom': 3848, 'poribesh': 3479, 'bashar': 360, 'kothin': 2399, 'মন': 4980, 'মত': 4978, 'fulfill': 1547, 'বলব': 4975, 'wall': 4771, 'cleaning': 767, 'era': 1295, 'kortese': 2389, 'akash': 86, 'fair': 1382, 'btw': 554, 'gross': 1659, 'lemonade': 2494, 'nicer': 2985, 'tomorrow': 4550, 'individually': 1970, 'combos': 804, 'sunset': 4341, 'exist': 1345, 'venue': 4721, 'perspective': 3351, 'benefit': 416, 'result': 3808, 'leisure': 2491, 'puran': 3595, 'dhakar': 1083, 'fake': 1387, 'starbucks': 4267, 'plug': 3436, 'milkshake': 2778, 'biscuit': 460, 'suffer': 4326, 'poison': 3450, 'bean': 387, 'wastage': 4787, 'gonzorolla': 1627, 'sub': 4313, 'hungrynaki': 1867, 'decker': 1008, 'idiot': 1900, 'quit': 3621, 'variation': 4708, 'struggle': 4304, 'jiboneo': 2114, 'niche': 2986, 'dewa': 1077, 'bolbo': 493, 'nijeder': 2991, 'nobab': 3002, 'mone': 2838, 'enviornment': 1286, 'pink': 3383, 'plus': 3437, 'satisfying': 3925, 'excellence': 1333, 'mannerism': 2669, 'bexi': 435, 'dia': 1090, 'chiken': 708, 'nay': 2937, 'jeta': 2106, 'kache': 2187, 'lagche': 2435, 'kine': 2309, 'ashchi': 235, 'attract': 274, 'khali': 2250, 'mon': 2835, 'chai': 651, 'entertainment': 1281, 'যত': 4982, 'legese': 2490, 'margarita': 2683, 'kheye': 2271, 'honorable': 1806, 'korechilam': 2367, 'thakto': 4467, 'mne': 2810, 'hbe': 1722, 'porota': 3485, 'jdi': 2092, 'otirikto': 3169, 'inch': 1951, 'search': 3957, 'icon': 1895, 'crush': 950, 'loyalty': 2582, 'boy': 527, 'flavorful': 1462, 'sits': 4135, 'beautifully': 392, 'bull': 568, 'dare': 983, 'insult': 2011, 'infront': 1981, 'hand': 1696, 'halal': 1690, 'cover': 921, 'petty': 3353, 'mango': 2664, 'stall': 4263, 'medical': 2737, 'favourites': 1413, 'overcook': 3189, 'সময়': 4993, 'bear': 388, 'comparing': 825, 'superbly': 4344, 'narayanganj': 2926, 'marketing': 2690, 'stupid': 4311, 'bashundhara': 362, 'http': 1851, 'www': 4879, 'massive': 2710, 'soya': 4219, 'odor': 3069, 'mir': 2794, 'bug': 562, 'human': 1857, 'replace': 3761, 'ihv': 1912, 'pelam': 3325, 'kokhono': 2340, 'pai': 3227, 'nw': 3045, 'jamuna': 2068, 'bellow': 413, 'operation': 3128, 'interms': 2021, 'brunch': 549, 'panda': 3246, 'fire': 1447, 'int': 2013, 'dead': 994, 'fool': 1485, 'finger': 1444, 'bird': 452, 'inedible': 1974, 'pc': 3317, 'uddin': 4616, 'rider': 3822, 'approach': 198, 'eventually': 1317, 'pack': 3217, 'forth': 1496, 'confused': 856, 'senior': 3988, 'silent': 4115, 'exchange': 1339, 'confusion': 857, 'eye': 1372, 'public': 3584, 'interested': 2018, 'khulna': 2289, 'satmasjid': 3926, 'blame': 470, 'alternative': 118, 'addition': 41, 'shabby': 4031, 'fiery': 1432, 'paltan': 3241, 'father': 1406, 'unprofessionalism': 4660, 'hi': 1748, 'chkn': 728, 'rastar': 3669, 'fat': 1404, 'jaoa': 2073, 'gondho': 1625, 'appear': 186, 'distance': 1151, 'separate': 3991, 'dom': 1169, 'shawarma': 4057, 'shawrma': 4060, 'willing': 4831, 'thalis': 4469, 'village': 4735, 'establish': 1305, 'nagar': 2913, 'ghulo': 1600, 'contains': 875, 'fride': 1522, 'jai': 2057, 'oi': 3080, 'shobar': 4081, 'ache': 28, 'cute': 968, 'refreshment': 3723, 'chay': 679, 'okhane': 3092, 'sobai': 4174, 'bhv': 448, 'official': 3075, 'restuarent': 3801, 'exclusive': 1342, 'sevices': 4025, 'speciality': 4225, 'breakfast': 536, 'sai': 3888, 'collection': 796, 'ke': 2208, 'ace': 25, 'chilling': 717, 'friendliness': 1526, 'genuine': 1588, 'forever': 1490, 'inc': 1949, 'mozzarella': 2874, 'ball': 333, 'admit': 49, 'collect': 795, 'udon': 4617, 'blissful': 475, 'kee': 2212, 'mao': 2676, 'koshto': 2391, 'nise': 2996, 'manush': 2674, 'rekhe': 3733, 'notun': 3032, 'hok': 1786, 'catch': 632, 'biryani': 459, 'polaw': 3456, 'tasted': 4413, 'takeout': 4393, 'dust': 1211, 'historical': 1762, 'rony': 3856, 'jahangir': 2055, 'mehdi': 2746, 'proud': 3579, 'plce': 3422, 'modern': 2819, 'overcrowded': 3191, 'resident': 3778, 'property': 3568, 'rent': 3758, 'mane': 2661, 'history': 1763, 'mother': 2857, 'ereas': 1296, 'fort': 1495, 'river': 3833, 'born': 513, 'glorious': 1618, 'address': 43, 'নয়': 4970, 'plece': 3431, 'masqui': 2707, 'ilike': 1916, 'endless': 1270, 'possitive': 3495, 'magnificent': 2623, 'kiser': 2315, 'memorable': 2753, 'build': 564, 'memory': 2754, 'mughol': 2883, 'একজন': 4934, 'korce': 2357, 'শত': 4986, 'শহর': 4987, 'bag': 317, 'rajdhani': 3638, 'বছর': 4974, 'sundor': 4338, 'তখন': 4964, 'কত': 4949, 'সহ': 4995, 'behind': 410, 'occupy': 3063, 'biriany': 454, 'bst': 550, 'owao': 3203, 'maje': 2635, 'poribes': 3478, 'dr': 1185, 'akti': 93, 'vir': 4737, 'jonne': 2138, 'tobe': 4537, 'korle': 2377, 'meye': 2766, 'kortesilo': 2390, 'prblm': 3519, 'amder': 136, 'onekei': 3105, 'parena': 3270, 'steaks': 4276, 'poutine': 3504, 'arrival': 220, 'texas': 4455, 'select': 3977, 'tomahawk': 4548, 'skeptic': 4142, 'weight': 4806, 'tum': 4602, 'tastebud': 4412, 'depict': 1051, 'diner': 1115, 'bustle': 582, 'energy': 1272, 'ribeye': 3819, 'marble': 2681, 'steakhouse': 4275, 'gesture': 1592, 'nearly': 2949, 'mins': 2790, 'smoking': 4165, 'import': 1930, 'woodchips': 4848, 'mixture': 2808, 'slight': 4151, 'dark': 985, 'tv': 4608, 'thickness': 4483, 'knowledgeable': 2334, 'woodhouse': 4850, 'positive': 3492, 'havent': 1719, 'hue': 1853, 'sister': 4132, 'recommendation': 3709, 'tight': 4517, 'glitter': 1615, 'rarely': 3666, 'tire': 4527, 'hey': 1747, 'dissatisfy': 1150, 'sauteed': 3933, 'deliciousness': 1039, 'sauses': 3930, 'asap': 227, 'accompany': 19, 'weak': 4798, 'doneness': 1170, 'beaf': 386, 'mint': 2791, 'possibly': 3494, 'fit': 1453, 'rib': 3818, 'preparation': 3528, 'mexican': 2764, 'hook': 1807, 'আপ': 4924, 'অফ': 4919, 'লবন': 4985, 'সস': 4994, 'worse': 4857, 'porterhouse': 3487, 'ultimate': 4619, 'kinte': 2311, 'partam': 3282, 'motherchod': 2858, 'prime': 3543, 'join': 2128, 'frozen': 1535, 'sentence': 3990, 'period': 3345, 'incredible': 1962, 'nervous': 2961, 'lady': 2431, 'hold': 1788, 'refresh': 3721, 'cola': 790, 'besides': 428, 'attentive': 271, 'savoury': 3936, 'appetiser': 188, 'speak': 4223, 'latter': 2464, 'incident': 1952, 'orient': 3153, 'west': 4811, 'grilled': 1656, 'bye': 590, 'serloin': 4001, 'potatoes': 3501, 'banasree': 338, 'panna': 3253, 'fruit': 1536, 'raita': 3636, 'salads': 3895, 'charm': 671, 'playzone': 3419, 'remarkable': 3750, 'foodbuzz': 1479, 'accommodate': 17, 'apologize': 181, 'jam': 2065, 'punctual': 3591, 'bottom': 521, 'nonetheless': 3011, 'useless': 4677, 'playground': 3416, 'lacchi': 2426, 'making': 2644, 'suger': 4329, 'experince': 1357, 'intentionally': 2016, 'input': 1992, 'update': 4664, 'buzz': 589, 'cofee': 785, 'technical': 4431, 'patient': 3308, 'lasagna': 2456, 'roti': 3862, 'save': 3934, 'managment': 2659, 'vacation': 4692, 'gem': 1579, 'region': 3729, 'assure': 253, 'paste': 3303, 'initial': 1983, 'larb': 2454, 'gai': 1562, 'advertised': 53, 'kheasi': 2266, 'heavenly': 1733, 'alhumdulillah': 102, 'garden': 1567, 'compete': 828, 'angry': 156, 'girlfriend': 1605, 'biye': 465, 'naam': 2907, 'coming': 812, 'baire': 321, 'khawa': 2257, 'vabe': 4689, 'asha': 231, 'kori': 2375, 'rakhben': 3643, 'island': 2038, 'sat': 3915, 'frndz': 1533, 'chopsuey': 742, 'ushul': 4678, 'awkward': 297, 'specific': 4228, 'mismanagement': 2801, 'chew': 701, 'arabiata': 207, 'poisha': 3449, 'definately': 1019, 'mashroom': 2705, 'pull': 3588, 'morning': 2846, 'whereas': 4818, 'café': 592, 'downtown': 1184, 'flake': 1458, 'flame': 1459, 'unbelievably': 4633, 'queue': 3615, 'basundhara': 371, 'lick': 2506, 'phenomenal': 3359, 'duck': 1201, 'sample': 3905, 'salsa': 3900, 'quesadilla': 3612, 'cucumber': 954, 'tehari': 4433, 'mayo': 2725, 'sala': 3893, 'comparable': 822, 'fajitas': 1386, 'bcos': 380, 'throughout': 4505, 'jucy': 2153, 'craving': 931, 'subway': 4315, 'addict': 40, 'pawa': 3312, 'kno': 2330, 'quote': 3624, 'college': 797, 'reunion': 3812, 'adequate': 44, 'bogus': 489, 'educate': 1235, 'feature': 1417, 'যখন': 4981, 'এমন': 4939, 'legece': 2488, 'bhooter': 444, 'lately': 2461, 'toh': 4541, 'kharap': 2254, 'ajke': 84, 'bakery': 327, 'dokan': 1168, 'moton': 2864, 'manei': 2662, 'duo': 1209, 'hoyeche': 1846, 'surprising': 4358, 'dim': 1110, 'gaan': 1561, 'jeno': 2103, 'apu': 202, 'tukra': 4600, 'kima': 2302, 'tona': 4552, 'tuni': 4606, 'catering': 634, 'worry': 4856, 'tiffin': 4516, 'mashaallah': 2703, 'communication': 819, 'bhuna': 447, 'machher': 2613, 'kofta': 2337, 'token': 4543, 'magical': 2621, 'seek': 3970, 'bhortas': 446, 'ammu': 146, 'vorta': 4754, 'khete': 2269, 'ranna': 3662, 'ekhon': 1252, 'uthe': 4683, 'hothat': 1833, 'murshida': 2893, 'apur': 203, 'pager': 3225, 'nam': 2920, 'knock': 2331, 'dilam': 1106, 'loitta': 2550, 'chingri': 722, 'shutki': 4105, 'peye': 3356, 'chilam': 709, 'dye': 1213, 'khushi': 2291, 'gift': 1602, 'hishebe': 1761, 'vuna': 4759, 'pochondo': 3445, 'korse': 2382, 'bangali': 342, 'korchi': 2358, 'mukh': 2885, 'khudi': 2285, 'korey': 2374, 'geche': 1574, 'koreche': 2364, 'konodin': 2348, 'dua': 1200, 'roilo': 3847, 'jorda': 2141, 'jotno': 2145, 'rokomer': 3849, 'eta': 1307, 'jara': 2077, 'tarpor': 4408, 'ese': 1299, 'motoi': 2863, 'ney': 2973, 'kivabe': 2321, 'bou': 522, 'bhorta': 445, 'fd': 1415, 'khaya': 2261, 'korlum': 2379, 'bondhu': 504, 'rahman': 3629, 'tay': 4421, 'responsive': 3788, 'protita': 3578, 'hocchilo': 1773, 'suru': 4362, 'pot': 3498, 'korechen': 2365, 'toooo': 4558, 'shuvo': 4106, 'kamona': 2196, 'vaiya': 4695, 'shathe': 4055, 'selo': 3986, 'sahi': 3887, 'thanku': 4474, 'khaber': 2235, 'kicu': 2298, 'রইল': 4983, 'morog': 2847, 'polau': 3455, 'macher': 2612, 'ata': 259, 'ne': 2945, 'pagol': 3226, 'hoe': 1774, 'nea': 2946, 'boli': 495, 'jhal': 2111, 'krce': 2408, 'ajk': 83, 'zarda': 4916, 'kothao': 2396, 'payesh': 3315, 'apnr': 179, 'apni': 178, 'atooo': 266, 'khele': 2268, 'nijer': 2992, 'porjonto': 3483, 'joto': 2146, 'korsi': 2384, 'akdom': 88, 'sheta': 4068, 'khaini': 2245, 'korechilm': 2368, 'gular': 1673, 'kosto': 2392, 'ওর': 4946, 'এত': 4938, 'pao': 3254, 'jabe': 2049, 'asa': 225, 'amon': 148, 'rakben': 3640, 'plsssss': 3435, 'unader': 4626, 'bebohar': 394, 'infact': 1976, 'basar': 356, 'hoice': 1777, 'hoyna': 1847, 'korece': 2363, 'samne': 3904, 'korei': 2370, 'rapture': 3663, 'burgerio': 575, 'vegetarian': 4715, 'buger': 563, 'jasimuddin': 2079, 'motijheel': 2859, 'blast': 472, 'killer': 2301, 'koro': 2381, 'taratari': 4405, 'white': 4822, 'coleslaw': 793, 'similarity': 4120, 'iits': 1914, 'awsm': 299, 'wowwww': 4868, 'club': 776, 'ludo': 2591, 'pocha': 3443, 'murgir': 2892, 'mangsho': 2665, 'banai': 335, 'jon': 2135, 'mukhe': 2886, 'ora': 3137, 'bolse': 498, 'pura': 3593, 'duita': 1205, 'fele': 1425, 'aschi': 229, 'giye': 1607, 'boshe': 517, 'kew': 2225, 'niyei': 3001, 'ashche': 234, 'kete': 2223, 'gelo': 1578, 'ashlo': 237, 'vulei': 4758, 'gese': 1590, 'jodio': 2124, 'deyar': 1081, 'khujtesi': 2287, 'chilona': 720, 'gulao': 1672, 'takar': 4389, 'unsatisfied': 4661, 'খবর': 4952, 'upcoming': 4663, 'out': 3171, 'comfortably': 809, 'sevice': 4024, 'readymade': 3685, 'loaf': 2540, 'dress': 1191, 'hearty': 1730, 'blunt': 485, 'outrageous': 3178, 'mejo': 2748, 'ons': 3115, 'commercial': 815, 'doesnt': 1165, 'operate': 3127, 'sesame': 4012, 'massala': 2709, 'active': 33, 'smart': 4156, 'mock': 2813, 'gossip': 1640, 'moinul': 2824, 'nine': 2995, 'chart': 673, 'pina': 3380, 'colada': 791, 'promo': 3560, 'coconut': 783, 'milk': 2777, 'major': 2637, 'version': 4725, 'gulab': 1670, 'jamun': 2067, 'cheesecake': 690, 'successfully': 4318, 'bengali': 417, 'admire': 48, 'measure': 2733, 'peyala': 3355, 'trip': 4589, 'cooler': 892, 'brief': 538, 'pleasantly': 3424, 'casual': 631, 'layer': 2473, 'drank': 1186, 'explanation': 1360, 'fajita': 1385, 'proportion': 3569, 'plain': 3403, 'cookie': 888, 'drastically': 1187, 'kala': 2193, 'brownie': 547, 'nutella': 3042, 'liver': 2537, 'cheapest': 682, 'cappuccino': 610, 'comfort': 807, 'ow': 3202, 'গত': 4954, 'hug': 1854, 'thrice': 4503, 'meaty': 2736, 'teriyaki': 4445, 'mosty': 2851, 'sized': 4139, 'layout': 2474, 'query': 3611, 'kalabhuna': 2195, 'spoil': 4242, 'velvet': 4718, 'window': 4833, 'choco': 730, 'fuel': 1545, 'que': 3610, 'stingy': 4284, 'kaala': 2172, 'organize': 3152, 'outlook': 3177, 'deshi': 1062, 'cramp': 928, 'shorbot': 4092, 'cinnamon': 756, 'tanduri': 4399, 'nun': 3040, 'koray': 2353, 'চরম': 4958, 'plc': 3421, 'spent': 4237, 'becillay': 395, 'marshmallow': 2694, 'wide': 4828, 'peri': 3344, 'confuse': 855, 'playgrund': 3417, 'osm': 3164, 'mia': 2769, 'familiar': 1393, 'pen': 3327, 'correct': 905, 'shamelessly': 4046, 'flood': 1466, 'inspector': 2003, 'specifically': 4229, 'chilies': 713, 'dimly': 1111, 'lit': 2531, 'lurk': 2595, 'divine': 1157, 'asian': 240, 'tour': 4566, 'nostalgic': 3020, 'coolest': 893, 'building': 565, 'lobster': 2543, 'sung': 4339, 'si': 4108, 'program': 3557, 'admin': 46, 'decade': 1000, 'svc': 4368, 'hopeful': 1810, 'khaoa': 2253, 'dhonnobad': 1087, 'precious': 3521, 'gold': 1623, 'sharif': 4053, 'sing': 4126, 'plenty': 3433, 'fritter': 1529, 'terribly': 4448, 'gloria': 1617, 'jean': 2094, 'north': 3018, 'decision': 1007, 'makhni': 2642, 'daily': 978, 'relate': 3734, 'fvrt': 1560, 'bought': 523, 'drip': 1194, 'spill': 4240, 'press': 3534, 'replacement': 3762, 'জয়': 4961, 'hubby': 1852, 'caramel': 614, 'beloved': 415, 'outdated': 3172, 'shameless': 4045, 'beter': 431, 'coffe': 786, 'prosperity': 3571, 'diet': 1098, 'pie': 3378, 'br': 530, 'income': 1955, 'khuje': 2286, 'alwz': 123, 'shittiest': 4077, 'revamp': 3813, 'chit': 725, 'visible': 4739, 'soooooo': 4207, 'perception': 3336, 'straight': 4293, 'lyf': 2604, 'fillet': 1437, 'knw': 2336, 'meaning': 2731, 'dory': 1177, 'stuffed': 4308, 'tiramisu': 4526, 'flash': 1460, 'harmful': 1712, 'restriction': 3797, 'hustle': 1871, 'গরম': 4955, 'worthless': 4860, 'bangladeshi': 346, 'lucky': 2589, 'inner': 1989, 'machiato': 2614, 'lollipops': 2554, 'cross': 945, 'mug': 2880, 'utmost': 4684, 'lovedyourservice': 2572, 'loveforgloriajean': 2574, 'altogether': 120, 'vabi': 4690, 'alone': 110, 'espresso': 1304, 'shot': 4095, 'dilicious': 1108, 'ramsey': 3654, 'omelette': 3098, 'fell': 1426, 'partner': 3286, 'kudos': 2417, 'hello': 1738, 'lazy': 2476, 'receipt': 3698, 'locate': 2545, 'assume': 252, 'raise': 3634, 'salat': 3897, 'magrib': 2624, 'unavailable': 4629, 'respective': 3783, 'iffter': 1903, 'jantam': 2072, 'gjc': 1609, 'thx': 4512, 'blueberry': 484, 'english': 1273, 'hint': 1758, 'canadian': 601, 'accent': 14, 'practice': 3509, 'macadamia': 2608, 'fond': 1476, 'refreshing': 3722, 'aroma': 215, 'hazelnut': 1721, 'rakhche': 3644, 'luxury': 2601, 'pancakes': 3245, 'lastly': 2459, 'feb': 1418, 'th': 4458, 'cousin': 920, 'early': 1217, 'inspire': 2004, 'tag': 4384, 'berry': 422, 'basmati': 369, 'informal': 1979, 'longer': 2558, 'batch': 372, 'australia': 276, 'sum': 4335, 'muffin': 2879, 'mama': 2653, 'lichi': 2505, 'barista': 354, 'delighted': 1041, 'anniversary': 157, 'thursday': 4510, 'origin': 3155, 'coffees': 788, 'el': 1256, 'perfecto': 3340, 'kiss': 2316, 'unusual': 4662, 'constantly': 869, 'repeat': 3759, 'jeans': 2095, 'unacceptable': 4625, 'keen': 2214, 'depth': 1053, 'yummmm': 4910, 'male': 2649, 'female': 1429, 'argue': 211, 'imprv': 1943, 'freshness': 1520, 'khaile': 2243, 'উপর': 4930, 'এরপর': 4942, 'পথ': 4971, 'awasome': 291, 'jone': 2136, 'performance': 3342, 'grind': 1657, 'equally': 1292, 'al': 95, 'especial': 1302, 'luk': 2592, 'expense': 1351, 'objective': 3052, 'paradise': 3262, 'boycott': 528, 'kace': 2183, 'komano': 2344, 'earn': 1218, 'wtf': 4876, 'restora': 3794, 'mana': 2655, 'jaina': 2060, 'serum': 4002, 'etar': 1308, 'kina': 2303, 'eder': 1231, 'chara': 665, 'bhaat': 439, 'ferot': 1430, 'paben': 3214, 'holeo': 1791, 'koren': 2371, 'valoe': 4701, 'parle': 3278, 'hotam': 1829, 'separately': 3992, 'someday': 4189, 'waffle': 4761, 'awosome': 298, 'pele': 3326, 'jucie': 2152, 'prothomdin': 3575, 'pora': 3475, 'aste': 255, 'cheye': 703, 'korechilo': 2369, 'tim': 4521, 'tandori': 4398, 'popeye': 3470, 'kindness': 2307, 'lok': 2551, 'khule': 2288, 'dekhle': 1031, 'btr': 552, 'ba': 304, 'jete': 2107, 'herb': 1742, 'kiptami': 2314, 'jail': 2059, 'buffet': 561, 'dorado': 1173, 'shaheb': 4032, 'soothing': 4210, 'alfredo': 99, 'ii': 1913, 'restourant': 3796, 'click': 771, 'foot': 1487, 'ekbar': 1247, 'lege': 2487, 'kheyechi': 2272, 'khainai': 2244, 'verry': 4724, 'paoa': 3255, 'vist': 4744, 'holew': 1792, 'koyek': 2403, 'sotti': 4213, 'function': 1551, 'khb': 2262, 'partyr': 3288, 'teasty': 4430, 'resturants': 3803, 'presented': 3533, 'maintains': 2632, 'surved': 4364, 'exceptionally': 1337, 'julian': 2159, 'servant': 4003, 'nearby': 2948, 'imagine': 1922, 'serene': 3996, 'হল': 4997, 'nxt': 3046, 'sunny': 4340, 'kisui': 2318, 'daam': 974, 'aswome': 258, 'dacoration': 975, 'kpr': 2404, 'social': 4177, 'corporative': 904, 'aslo': 244, 'bashundhora': 363, 'saute': 3931, 'secret': 3964, 'oto': 3170, 'nah': 2914, 'sudu': 4324, 'khawai': 2258, 'ring': 3825, 'mountain': 2865, 'dew': 1076, 'bashi': 361, 'purchase': 3597, 'ketchup': 2222, 'bajay': 322, 'somebody': 4188, 'overwhelmed': 3200, 'supplier': 4348, 'oriental': 3154, 'oviously': 3201, 'network': 2963, 'kothaw': 2397, 'sekhane': 3976, 'seta': 4016, 'salmon': 3899, 'dori': 1174, 'decorated': 1013, 'selective': 3979, 'reality': 3688, 'beguni': 404, 'excuse': 1343, 'pakora': 3234, 'label': 2423, 'comparatively': 823, 'papri': 3259, 'dohi': 1166, 'dahi': 976, 'raj': 3637, 'kachori': 2189, 'masal': 2699, 'phuchka': 3366, 'conjusted': 861, 'interrior': 2024, 'দই': 4966, 'mediocre': 2738, 'idiotic': 1901, 'unhappy': 4645, 'nasi': 2928, 'urban': 4673, 'scale': 3943, 'opposite': 3133, 'goreng': 1636, 'timely': 4523, 'spot': 4244, 'ইন': 4928, 'mashallah': 2704, 'nazib': 2939, 'restorent': 3795, 'cheep': 687, 'ibrahim': 1886, 'obosta': 3053, 'hoi': 1775, 'khailam': 2242, 'gulai': 1671, 'owesome': 3205, 'কখনও': 4948, 'vule': 4757, 'gesi': 1591, 'crap': 929, 'stone': 4289, 'khawar': 2259, 'noshto': 3019, 'experiment': 1356, 'prepared': 3530, 'haha': 1686, 'afterall': 64, 'wouldnt': 4865, 'net': 2962, 'july': 2160, 'dint': 1118, 'impossible': 1934, 'keu': 2224, 'khabe': 2233, 'nf': 2974, 'scream': 3951, 'allow': 107, 'favorites': 1411, 'firstly': 1451, 'yummmmmmy': 4911, 'sandwitch': 3907, 'panini': 3251, 'vore': 4753, 'tmn': 4532, 'korechi': 2366, 'khbr': 2264, 'আচরণ': 4922, 'ghor': 1599, 'tangy': 4401, 'hopefulyy': 1812, 'reasoable': 3692, 'jobab': 2122, 'porjay': 3482, 'hy': 1874, 'dhore': 1088, 'okey': 3091, 'response': 3785, 'kebabs': 2210, 'lebanese': 2482, 'east': 1221, 'subtle': 4314, 'complement': 835, 'arab': 205, 'shish': 4074, 'condiment': 850, 'schedule': 3948, 'homeland': 1798, 'surreal': 4360, 'customar': 964, 'robber': 3844, 'tbh': 4422, 'tradition': 4573, 'calamari': 594, 'flower': 1469, 'inn': 1988, 'আরও': 4926, 'horrendous': 1816, 'kababs': 2175, 'hummus': 1860, 'agin': 71, 'amd': 135, 'shwarma': 4107, 'lamb': 2447, 'sharma': 4054, 'khabsa': 2238, 'assortment': 251, 'hommos': 1801, 'justice': 2166, 'arabic': 208, 'swarma': 4370, 'bel': 411, 'kafta': 2190, 'assort': 249, 'appetite': 190, 'palace': 3235, 'romantic': 3854, 'adorable': 50, 'yaa': 4883, 'opt': 3134, 'kabseh': 2179, 'malaysia': 2647, 'spell': 4234, 'kuala': 2415, 'mindblowing': 2782, 'malaysian': 2648, 'approximately': 200, 'keema': 2213, 'initially': 1984, 'mince': 2780, 'watering': 4793, 'drive': 1195, 'somewhere': 4196, 'experiance': 1353, 'hospitalize': 1825, 'luxurious': 2600, 'importance': 1931, 'draw': 1188, 'commitment': 816, 'realise': 3687, 'cancel': 602, 'unpleasant': 4658, 'fear': 1416, 'gooooood': 1634, 'array': 219, 'terrific': 4449, 'politely': 3461, 'booking': 509, 'সফট': 4989, 'pleasurable': 3429, 'ha': 1685, 'bed': 398, 'initiative': 1985, 'ordr': 3145, 'kortam': 2387, 'jemon': 2102, 'koreo': 2372, 'dey': 1079, 'tahole': 4386, 'apon': 183, 'wsm': 4875, 'maccoffee': 2610, 'dream': 1190, 'license': 2504, 'lab': 2422, 'pizzeria': 3398, 'sbarro': 3940, 'hut': 1872, 'mota': 2852, 'kase': 2203, 'kre': 2409, 'kacha': 2185, 'atar': 260, 'mto': 2877, 'jbe': 2091, 'chop': 740, 'tarka': 4407, 'simplicity': 4122, 'thali': 4468, 'absurd': 9, 'india': 1966, 'dhakay': 1084, 'vhuna': 4727, 'sohel': 4183, 'বলল': 4976, 'feezy': 1424, 'honor': 1805, 'bla': 467, 'palak': 3236, 'paneer': 3248, 'color': 798, 'ashtesi': 239, 'jafrani': 2054, 'rakhe': 3645, 'bora': 510, 'cheating': 684, 'tang': 4400, 'hare': 1711, 'lime': 2521, 'rakhse': 3648, 'jane': 2070, 'ses': 4011, 'amer': 138, 'rlly': 3835, 'coca': 780, 'fizz': 1457, 'careless': 619, 'hoia': 1776, 'dice': 1095, 'ditam': 1154, 'assured': 254, 'pickle': 3376, 'container': 874, 'handi': 1697, 'survive': 4366, 'hilarious': 1754, 'kill': 2300, 'leg': 2486, 'lucknow': 2587, 'lucknowi': 2588, 'noticeable': 3029, 'tax': 4420, 'hill': 1755, 'qty': 3603, 'jhol': 2112, 'genuinely': 1589, 'sandy': 3908, 'supplement': 4347, 'thus': 4511, 'across': 30, 'ridiculous': 3823, 'hydarabadi': 1876, 'shockingly': 4085, 'daal': 973, 'saltless': 3902, 'buttery': 586, 'ratio': 3676, 'aristocratic': 213, 'link': 2527, 'figure': 1434, 'ramzan': 3655, 'ala': 96, 'jilapi': 2118, 'weird': 4807, 'invalid': 2027, 'publish': 3585, 'halim': 1692, 'wallet': 4772, 'incredibly': 1963, 'masha': 2702, 'parata': 3263, 'scent': 3947, 'makhani': 2641, 'mughal': 2882, 'jeera': 2096, 'inception': 1950, 'consistency': 866, 'tremendously': 4584, 'edible': 1233, 'misty': 2805, 'jeye': 2109, 'falooda': 1389, 'jelly': 2101, 'aswell': 257, 'ten': 4441, 'fight': 1433, 'chittagong': 726, 'tge': 4457, 'niachilam': 2979, 'filthy': 1439, 'dai': 977, 'onkkhon': 3109, 'niache': 2978, 'irrelevant': 2033, 'gecilam': 1575, 'khaiya': 2249, 'korchilo': 2359, 'naile': 2918, 'khaichi': 2241, 'hajar': 1688, 'hoiche': 1778, 'frustrating': 1538, 'shallow': 4042, 'masroom': 2708, 'overhyped': 3192, 'eats': 1229, 'court': 917, 'hr': 1849, 'hypocrite': 1884, 'stuffing': 4309, 'hero': 1744, 'faith': 1384, 'khuchra': 2284, 'courtesy': 919, 'tiredness': 4528, 'integrants': 2014, 'matir': 2718, 'ordinarily': 3143, 'obstacle': 3058, 'ignorable': 1909, 'newbie': 2968, 'hundred': 1862, 'capability': 607, 'customize': 966, 'unara': 4628, 'streetfood': 4298, 'travel': 4580, 'beforehand': 400, 'kal': 2192, 'dariye': 984, 'cilam': 753, 'kheal': 2265, 'mela': 2749, 'japanese': 2075, 'app': 184, 'umai': 4622, 'soy': 4218, 'af': 58, 'establishment': 1306, 'whilst': 4821, 'left': 2484, 'banana': 336, 'katsu': 2205, 'belly': 414, 'devil': 1075, 'maki': 2643, 'loin': 2549, 'sushi': 4367, 'sydney': 4375, 'culinary': 957, 'satiate': 3920, 'avail': 280, 'horribly': 1818, 'tempura': 4440, 'drawback': 1189, 'deceive': 1001, 'supply': 4349, 'sashimi': 3913, 'california': 596, 'exceed': 1331, 'impeccable': 1929, 'rainbow': 3631, 'tuna': 4604, 'delicate': 1037, 'thankyou': 4475, 'icecream': 1891, 'intimate': 2025, 'octopus': 3065, 'visa': 4738, 'promotion': 3562, 'station': 4271, 'wasabi': 4782, 'entree': 1284, 'yr': 4904, 'weston': 4813, 'palton': 3242, 'tom': 4547, 'wonthon': 4845, 'testless': 4453, 'jibone': 2113, 'haveli': 1718, 'lightning': 2514, 'tah': 4385, 'bright': 539, 'reshmi': 3776, 'legeche': 2489, 'obstha': 3059, 'ageo': 69, 'prai': 3510, 'paser': 3291, 'setar': 4017, 'moteo': 2856, 'hoyni': 1848, 'caring': 620, 'mony': 2842, 'rough': 3866, 'pan': 3243, 'paan': 3213, 'kaatlaam': 2173, 'dile': 1107, 'taw': 4419, 'popularity': 3473, 'deri': 1056, 'holam': 1787, 'sizzler': 4141, 'jaigai': 2058, 'jol': 2133, 'relevant': 3743, 'panir': 3252, 'amk': 145, 'khay': 2260, 'hye': 1879, 'kixu': 2323, 'thaka': 4463, 'ken': 2218, 'gain': 1563, 'position': 3491, 'maan': 2607, 'shundor': 4103, 'yummyyyy': 4915, 'amongst': 150, 'arrogant': 222, 'shocked': 4084, 'bf': 437, 'atlst': 263, 'wat': 4790, 'gloomy': 1616, 'bangkok': 343, 'relly': 3746, 'hygenic': 1880, 'servic': 4007, 'overcharge': 3187, 'singer': 4127, 'mocktails': 2814, 'holder': 1789, 'musical': 2896, 'shisha': 4075, 'oregano': 3146, 'powder': 3505, 'invest': 2028, 'bday': 384, 'blah': 469, 'করস': 4951, 'refund': 3725, 'shortage': 4094, 'destination': 1069, 'amiable': 144, 'khadok': 2239, 'central': 643, 'bashabo': 359, 'hall': 1694, 'poysa': 3507, 'obak': 3049, 'poro': 3484, 'afghani': 63, 'matro': 2719, 'candy': 603, 'hungrill': 1865, 'owsome': 3210, 'involve': 2032, 'joyful': 2150, 'hmmmm': 1767, 'chini': 723, 'akhane': 89, 'indifferent': 1968, 'carrot': 621, 'random': 3658, 'nutshell': 3043, 'entrance': 1283, 'equal': 1291, 'edge': 1232, 'qui': 3616, 'ample': 152, 'packed': 3220, 'nehari': 2955, 'guyz': 1683, 'delightful': 1042, 'theme': 4479, 'rara': 3664, 'apps': 201, 'margherita': 2685, 'alll': 105, 'darun': 986, 'renowned': 3757, 'finishing': 1446, 'erokom': 1297, 'emotional': 1265, 'partiality': 3283, 'iteams': 2044, 'palatable': 3237, 'desk': 1066, 'amdr': 137, 'pare': 3268, 'accustom': 24, 'choi': 733, 'preferred': 3526, 'chui': 749, 'চই': 4956, 'pale': 3239, 'plastic': 3408, 'basin': 367, 'determine': 1072, 'planning': 3405, 'monday': 2837, 'replied': 3763, 'kool': 2350, 'mara': 2679, 'maira': 2634, 'mojer': 2829, 'howa': 1840, 'shei': 4062, 'baked': 326, 'lebu': 2483, 'gh': 1595, 'jeita': 2098, 'ber': 420, 'sheita': 4063, 'appeliano': 187, 'perform': 3341, 'hindi': 1757, 'lava': 2469, 'secondly': 3963, 'mistakenly': 2804, 'musician': 2897, 'chess': 698, 'degree': 1023, 'furniture': 1555, 'adjust': 45, 'becomes': 397, 'tular': 4601, 'jaygay': 2088, 'eikhane': 1243, 'jaite': 2062, 'ohhh': 3079, 'upore': 4668, 'fitfat': 1454, 'vitore': 4746, 'shodorghat': 4086, 'moon': 2844, 'bal': 329, 'chi': 704, 'conditioner': 852, 'power': 3506, 'jokhon': 2132, 'reading': 3683, 'mashrum': 2706, 'ooze': 3123, 'visiting': 4742, 'kachchi': 2186, 'nawab': 2936, 'kacci': 2182, 'badam': 314, 'avg': 286, 'kacchis': 2181, 'kolkata': 2342, 'jafran': 2053, 'saslik': 3914, 'sibling': 4109, 'khir': 2279, 'kachi': 2188, 'sharbat': 4051, 'giant': 1601, 'packaging': 3219, 'ml': 2809, 'roam': 3840, 'mesmerize': 2760, 'cine': 755, 'raju': 3639, 'shahriar': 4035, 'trick': 4586, 'beware': 434, 'pi': 3368, 'lively': 2536, 'faisal': 1383, 'mannerless': 2670, 'টক': 4962, 'deoar': 1048, 'krp': 2412, 'khup': 2290, 'nibe': 2980, 'karap': 2200, 'dekha': 1026, 'kmne': 2326, 'bahire': 318, 'উইথ': 4929, 'band': 340, 'nostow': 3022, 'valid': 4698, 'noce': 3004, 'marvellous': 2697, 'alert': 98, 'keo': 2220, 'jerry': 2105, 'nothaing': 3026, 'cheaf': 680, 'cartoon': 624, 'sajano': 3890, 'jekono': 2100, 'parfect': 3272, 'kn': 2327, 'ay': 302, 'pochonder': 3444, 'jayga': 2086, 'ashbo': 233, 'assorted': 250, 'screen': 3952, 'fudge': 1544, 'messy': 2763, 'identical': 1899, 'swift': 4372, 'cupcake': 960, 'tempt': 4439, 'peanut': 3320, 'chocolatey': 732, 'moist': 2825, 'luvd': 2598, 'polash': 3454, 'tong': 4553, 'cooperation': 895, 'pool': 3464, 'relaxing': 3742, 'suit': 4333, 'lonely': 2556, 'unfortunate': 4643, 'insect': 1996, 'yougo': 4902, 'language': 2451, 'title': 4530, 'ton': 4551, 'maintaining': 2631, 'rasturent': 3670, 'york': 4901, 'skeptical': 4143, 'basil': 366, 'leaf': 2478, 'delectable': 1035, 'extend': 1365, 'national': 2931, 'joke': 2130, 'stretch': 4299, 'got': 1641, 'nei': 2956, 'kichuri': 2296, 'apndr': 176, 'rakhar': 3642, 'bhoj': 443, 'mere': 2759, 'stir': 4286, 'patronage': 3310, 'proudly': 3580, 'aware': 290, 'thailand': 4462, 'proof': 3565, 'satay': 3916, 'sticky': 4282, 'sprout': 4248, 'stinky': 4285, 'ad': 37, 'eligible': 1259, 'pepsi': 3333, 'bound': 524, 'basic': 364, 'bash': 358, 'direct': 1120, 'soak': 4172, 'sim': 4118, 'par': 3261, 'prawns': 3516, 'obsolutely': 3057, 'disappoinment': 1125, 'snapper': 4171, 'reminds': 3754, 'june': 2163, 'hotter': 1836, 'sooooooo': 4208, 'shobcheye': 4082, 'grass': 1647, 'hover': 1839, 'cricket': 941, 'disrespectful': 1146, 'insulted': 2012, 'selfies': 3982, 'seasoning': 3959, 'dip': 1119, 'cum': 958, 'piaju': 3369, 'fare': 1401, 'randomly': 3659, 'apparently': 185, 'onto': 3116, 'madol': 2617, 'community': 820, 'craft': 927, 'thnks': 4492, 'দম': 4967, 'apner': 177, 'board': 486, 'সবসময়': 4992, 'jazz': 2090, 'waitress': 4768, 'regardless': 3728, 'risotto': 3832, 'pollo': 3463, 'cocktail': 782, 'remains': 3749, 'afgan': 61, 'poka': 3452, 'objection': 3051, 'somocha': 4197, 'holy': 1796, 'smoothy': 4169, 'popeyes': 3471, 'swallow': 4369, 'lagbe': 2433, 'microwave': 2770, 'astonish': 256, 'boneless': 506, 'unhealthy': 4646, 'react': 3680, 'mar': 2678, 'bro': 543, 'neighborhood': 2957, 'savory': 3935, 'vary': 4711, 'thakbe': 4464, 'koy': 2402, 'tend': 4442, 'hide': 1750, 'tricky': 4587, 'usa': 4674, 'pudding': 3586, 'khaben': 2234, 'barbeque': 350, 'verity': 4723, 'oww': 3211, 'organised': 3150, 'ability': 2, 'circle': 757, 'ut': 4682, 'korma': 2380, 'bathroom': 373, 'shaw': 4056, 'gentleman': 1586, 'accordingly': 21, 'majority': 2638, 'example': 1330, 'severely': 4023, 'france': 1503, 'continental': 879, 'competition': 829, 'ny': 3047, 'game': 1565, 'private': 3547, 'seller': 3984, 'protein': 3573, 'content': 876, 'shelf': 4064, 'photographs': 3363, 'site': 4134, 'mugda': 2881, 'cowboy': 923, 'whooper': 4825, 'tnxx': 4534, 'cheeseroom': 691, 'barger': 352, 'gently': 1587, 'camera': 599, 'cow': 922, 'bos': 515, 'dude': 1202, 'krle': 2410, 'paowa': 3256, 'akhn': 90, 'speedy': 4233, 'chaile': 652, 'eo': 1289, 'magna': 2622, 'preetom': 3522, 'occasionally': 3062, 'thousand': 4499, 'inadequate': 1946, 'shb': 4061, 'icca': 1887, 'kaj': 2191, 'krben': 2406, 'krte': 2413, 'oikhane': 3081, 'obbosoi': 3050, 'krbo': 2407, 'closing': 774, 'mad': 2616, 'appropriate': 199, 'gladly': 1611, 'restaurat': 3791, 'dui': 1204, 'depress': 1052, 'nazmul': 2940, 'jeto': 2108, 'phn': 3360, 'ro': 3837, 'hobena': 1771, 'dekhben': 1027, 'jothesto': 2144, 'oikhaner': 3082, 'nasty': 2930, 'recommendable': 3708, 'piza': 3388, 'dishonest': 1142, 'resemble': 3772, 'hectic': 1735, 'hotat': 1830, 'chaomin': 661, 'lagtese': 2440, 'mosola': 2848, 'pastas': 3301, 'khob': 2280, 'onnk': 3111, 'jawar': 2083, 'hoilo': 1780, 'resolve': 3780, 'খরচ': 4953, 'একই': 4933, 'rakhena': 3647, 'fork': 1493, 'vocal': 4748, 'foul': 1499, 'marka': 2688, 'moyla': 2873, 'asle': 243, 'parba': 3265, 'waitor': 4766, 'duty': 1212, 'chessy': 700, 'servicing': 4009, 'laugh': 2466, 'literary': 2533, 'jogghonno': 2125, 'banay': 339, 'gent': 1584, 'vanga': 4705, 'membership': 2752, 'nail': 2917, 'kmn': 2325, 'jan': 2069, 'italiano': 2042, 'steel': 4279, 'hamza': 1695, 'veneziana': 4719, 'cherry': 697, 'lovly': 2578, 'google': 1631, 'map': 2677, 'bfc': 438, 'kept': 2221, 'exhaust': 1344, 'lifetime': 2510, 'piatto': 3370, 'diben': 1093, 'ratatouille': 3672, 'দল': 4968, 'motel': 2855, 'kawsar': 2207, 'bllm': 476, 'bunker': 572, 'decency': 1003, 'kabsa': 2178, 'kasba': 2202, 'switch': 4374, 'gele': 1577, 'khabo': 2236, 'mile': 2776, 'nazrul': 2941, 'shirajul': 4073, 'allover': 106, 'vaia': 4694, 'scenery': 3946, 'hoya': 1844, 'taltola': 4395, 'baze': 377, 'jole': 2134, 'shalar': 4040, 'nh': 2975, 'relaxation': 3740, 'orio': 3158, 'vanish': 4707, 'ovens': 3184, 'pace': 3216, 'lilbit': 2520, 'baji': 324, 'shoe': 4087, 'illiterate': 1918, 'kung': 2419, 'restro': 3798, 'surve': 4363, 'ijust': 1915, 'advance': 52, 'complained': 833, 'parmesan': 3279, 'shawarmas': 4059, 'pastar': 3300, 'onader': 3100, 'onara': 3102, 'khabr': 2237, 'kaaj': 2171, 'bon': 502, 'appetit': 189, 'felse': 1427, 'debit': 998, 'machine': 2615, 'own': 3206, 'europa': 1312, 'luchi': 2584, 'painting': 3231, 'anthro': 163, 'reader': 3682, 'ma': 2606, 'button': 587, 'phd': 3358, 'apologise': 180, 'row': 3869, 'aweful': 293, 'native': 2932, 'sd': 3954, 'shamim': 4047, 'bus': 580, 'image': 1921, 'pizzahut': 3392, 'triple': 4590, 'jigatola': 2116, 'announce': 158, 'pabo': 3215, 'max': 2721, 'এখনও': 4937, 'avenue': 284, 'justify': 2168, 'ludicrous': 2590, 'negligence': 2954, 'del': 1032, 'mobile': 2811, 'record': 3712, 'khilgoan': 2277, 'ramna': 3652, 'kokhon': 2339, 'birokto': 456, 'jaben': 2050, 'mi': 2768, 'casa': 625, 'butcher': 584, 'chick': 705, 'faster': 1403, 'ol': 3094, 'sex': 4026, 'ramen': 3651, 'mode': 2817, 'comic': 811, 'happiness': 1706, 'impasto': 1928, 'tad': 4382, 'munchies': 2890, 'পরও': 4973, 'hangouts': 1703, 'magazine': 2619, 'manhattan': 2666, 'silver': 4117, 'chowdhury': 746, 'pun': 3589, 'thumbs': 4509, 'thankful': 4472, 'apnar': 174, 'rakhun': 3649, 'bttr': 553, 'resturnant': 3806, 'iteam': 2043, 'puray': 3596, 'ovab': 3182, 'lifer': 2509, 'selling': 3985, 'polao': 3453, 'rizq': 3834, 'happily': 1705, 'oita': 3085, 'ante': 162, 'picchi': 3374, 'komay': 2345, 'shawarmaking': 4058, 'tamarind': 4396, 'nc': 2943, 'hopeless': 1813, 'plaza': 3420, 'hospital': 1823, 'maner': 2663, 'ontoto': 3117, 'কই': 4947, 'vab': 4688, 'jacche': 2052, 'korsen': 2383, 'relishon': 3745, 'ship': 4072, 'hoiye': 1785, 'kokono': 2341, 'baton': 374, 'rouge': 3865, 'redecorate': 3715, 'reddish': 3714, 'scatter': 3944, 'wuackku': 4877, 'marattok': 2680, 'worm': 4855, 'lift': 2511, 'overcrowd': 3190, 'gfc': 1594, 'chle': 729, 'rana': 3657, 'sara': 3911, 'pissed': 3386, 'jfp': 2110, 'choke': 736, 'slide': 4150, 'coat': 779, 'rasel': 3667, 'ecstacy': 1230, 'fridge': 1523, 'ghee': 1597, 'mate': 2715, 'juiciest': 2157, 'roshogolla': 3861, 'gorur': 1639, 'sight': 4112, 'margharita': 2684, 'rom': 3853, 'pran': 3513, 'vita': 4745, 'pizzalavita': 3394, 'liar': 2503, 'land': 2450, 'thok': 4495, 'achhe': 29, 'jony': 2140, 'bishal': 461, 'imressive': 1944, 'unappetizing': 4627, 'funky': 1552, 'sui': 4332, 'mai': 2626, 'reserved': 3775, 'portray': 3489, 'dimsum': 1112, 'march': 2682, 'toast': 4535, 'resto': 3793, 'direction': 1121, 'unbeatable': 4631, 'recommending': 3711, 'dec': 999, 'gun': 1678, 'encourage': 1268, 'processing': 3552, 'poorly': 3467, 'relation': 3735, 'foreign': 1489, 'apply': 194, 'lav': 2468, 'vabte': 4691, 'hocche': 1772, 're': 3678, 'promote': 3561, 'nsu': 3035, 'fryday': 1540, 'insta': 2006, 'mee': 2740, 'pashe': 3292, 'waitors': 4767, 'jokhn': 2131, 'calamary': 595, 'cloud': 775, 'tso': 4599, 'nasir': 2929, 'naturally': 2934, 'maid': 2627, 'tokyo': 4544, 'restroom': 3799, 'japan': 2074, 'labour': 2424, 'handsome': 1699, 'juma': 2161, 'osaka': 3161, 'nanban': 2924, 'tataki': 4418, 'knowns': 2335, 'overpower': 3195, 'compensate': 827, 'skill': 4145, 'hip': 1759, 'chopstick': 741, 'material': 2716, 'wost': 4863, 'tobay': 4536, 'masud': 2712, 'shift': 4069, 'deadline': 995, 'sham': 4043, 'smiley': 4161, 'sbbaro': 3941, 'disastrous': 1132, 'mohommadpur': 2823, 'staffed': 4258, 'shoggy': 4088, 'stromboli': 4301, 'poblano': 3442, 'taa': 4379, 'bigbite': 450, 'permanent': 3346, 'platinum': 3413, 'po': 3441, 'placee': 3401, 'totaly': 4563, 'lobon': 2542, 'selfie': 3981, 'organise': 3149, 'paren': 3269, 'sate': 3917, 'muhito': 2884, 'rio': 3826, 'ban': 334, 'imo': 1926, 'kichui': 2295, 'videos': 4733, 'heinous': 1736, 'ladies': 2430, 'palette': 3240, 'kota': 2393, 'liability': 2502, 'law': 2471, 'report': 3765, 'sexual': 4027, 'dibe': 1092, 'koto': 2400, 'niya': 2998, 'abuse': 12, 'shala': 4039, 'cc': 636, 'koira': 2338, 'rethink': 3810, 'crow': 946, 'pleasing': 3428, 'হত': 4996, 'confirmation': 854, 'ia': 1885, 'inappropriate': 1947, 'নজর': 4969, 'dorker': 1176, 'prayer': 3518, 'stage': 4259, 'hoa': 1768, 'ooo': 3121, 'cooky': 890, 'mach': 2611, 'reliable': 3744, 'padthai': 3223, 'platform': 3412, 'burgerology': 576, 'mysterious': 2903, 'inspite': 2005, 'qualityful': 3605, 'rezala': 3817, 'jaye': 2085, 'false': 1390, 'foood': 1486, 'qulity': 3623, 'beast': 389, 'panic': 3250, 'cheeze': 694, 'onnoder': 3114, 'nie': 2987, 'kg': 2228, 'lagce': 2434, 'kau': 2206, 'peyaju': 3354, 'goto': 1642, 'holud': 1795, 'protect': 3572, 'outer': 3174, 'sanqi': 3909, 'appetizing': 192, 'definitly': 1021, 'patience': 3307, 'cele': 638, 'krlo': 2411, 'agun': 75, 'paye': 3314, 'jiboner': 2115, 'ashamed': 232, 'sohag': 4182, 'vi': 4728, 'টপ': 4963, 'sajib': 3891, 'sehrir': 3974, 'pizz': 3389, 'manpower': 2671, 'townbest': 4570, 'piazza': 3371, 'masum': 2713, 'mehbub': 2745, 'phase': 3357, 'october': 3064, 'sc': 3942, 'shojib': 4090, 'okayish': 3090, 'roton': 3863, 'insane': 1994, 'freindly': 1512, 'greek': 1652, 'agn': 72, 'piazzas': 3372, 'ked': 2211, 'hospatility': 1821, 'spread': 4245, 'ditf': 1156, 'isnt': 2039, 'key': 2226, 'recieved': 3704, 'paprika': 3260, 'increating': 1961, 'khilga': 2274, 'resturenta': 3805, 'jak': 2063, 'almond': 108, 'আই': 4921, 'majestic': 2636, 'creativity': 938, 'pinewood': 3382, 'popcorn': 3469, 'cctv': 637, 'srsly': 4255, 'giyechilam': 1608, 'protest': 3574, 'mcafe': 2727, 'studio': 4306, 'photography': 3364, 'inviting': 2031, 'santana': 3910, 'overburger': 3186, 'injustice': 1987, 'porimane': 3481, 'khbar': 2263, 'parvez': 3289, 'indulge': 1972, 'distinct': 1152, 'firestone': 1448, 'avarage': 283, 'concert': 848, 'plase': 3407, 'onujayi': 3119, 'jinis': 2119, 'khabarar': 2230, 'proti': 3576, 'somtam': 4199, 'jayna': 2089, 'roach': 3838, 'inspect': 2002, 'lackings': 2429, 'napkins': 2925, 'peice': 3324, 'file': 1435, 'manda': 2660, 'amazed': 129, 'bizarre': 466, 'mart': 2696, 'minion': 2789, 'olpo': 3097, 'mojadar': 2827, 'hitted': 1765, 'volcano': 4749, 'jogonno': 2127, 'khate': 2256, 'shobai': 4080, 'misbehave': 2797, 'festival': 1431, 'pori': 3477, 'koresilam': 2373, 'soi': 4184, 'charcoal': 669, 'imp': 1927, 'sri': 4252, 'lankan': 2453, 'shukran': 4102, 'outlate': 3175, 'whoever': 4823, 'cityscape': 760, 'tower': 4568, 'relaxed': 3741, 'passionate': 3296, 'roaster': 3842, 'ওজন': 4945, 'norepinephrine': 3015, 'তরল': 4965, 'americana': 140, 'nom': 3008, 'fooding': 1481, 'latus': 2465, 'police': 3457, 'coriander': 900, 'hya': 1875, 'channel': 660, 'huh': 1856, 'lizard': 2538, 'tiktiki': 4519, 'purpose': 3600, 'pastay': 3302, 'rly': 3836, 'parbo': 3266, 'pizzainn': 3393, 'mentally': 2755, 'ashte': 238, 'pizzaria': 3396, 'quest': 3613, 'sarvice': 3912, 'jutar': 2170, 'oo': 3120, 'penne': 3328, 'icha': 1893, 'khilgao': 2275, 'lge': 2501, 'dakar': 979, 'cffe': 647, 'luved': 2599, 'retain': 3809, 'mall': 2651, 'lacked': 2428, 'chesse': 699, 'shemai': 4066, 'macaroni': 2609, 'sevenhill': 4021, 'alfresco': 100, 'fresco': 1517, 'punch': 3590, 'kicchu': 2293, 'khillgaon': 2278, 'lamonade': 2449, 'faaltu': 1373, 'improvise': 1942, 'cooper': 894, 'brulee': 548, 'rishta': 3829, 'serial': 3998, 'lobby': 2541, 'swim': 4373, 'sheraton': 4067, 'makkah': 2645, 'infinity': 1977, 'laga': 2432, 'hilsha': 1756, 'mousse': 2866, 'justified': 2167, 'newspaper': 2971, 'journalism': 2147, 'pratidin': 3514, 'awamilig': 289, 'mafia': 2618, 'chakaria': 656, 'mp': 2875, 'politics': 3462, 'জনক': 4960, 'glutton': 1619, 'photoshoot': 3365, 'চক': 4957, 'klk': 2324, 'khaise': 2247, 'ownbuilding': 3207, 'humbly': 1859, 'jaygata': 2087, 'login': 2547, 'veil': 4717, 'chief': 707, 'justthai': 2169, 'akhni': 91, 'sathy': 3919, 'srilankan': 4254, 'kottu': 2401, 'srilanka': 4253, 'lanka': 2452, 'hopper': 1814, 'igloo': 1908, 'nugget': 3037, 'ucit': 4615, 'sequence': 3995, 'lower': 2580, 'shakil': 4038, 'mfm': 2767, 'mussel': 2898, 'gummy': 1677, 'threaten': 4501, 'institution': 2009, 'chowder': 745, 'assault': 246, 'indah': 1964, 'marshmellow': 2695, 'yaba': 4886, 'rudolph': 3876, 'gambler': 1564, 'thaali': 4460, 'badshah': 316, 'dawat': 991, 'laal': 2421, 'laccha': 2425, 'tengri': 4444, 'chatney': 675, 'jahin': 2056, 'besan': 423, 'baba': 307, 'rafi': 3627, 'bcity': 379, 'trade': 4572, 'tase': 4409, 'babarafi': 308, 'ossam': 3165, 'kinto': 2312, 'tune': 4605, 'hoite': 1783, 'kabob': 2177, 'pipe': 3384, 'reausturant': 3696, 'poop': 3465, 'sayin': 3939, 'juiceco': 2156, 'hsc': 1850, 'rashed': 3668, 'rolla': 3852, 'marley': 2692, 'oporanho': 3131, 'bulgogi': 567, 'korea': 2361}\n"
     ]
    }
   ],
   "source": [
    "print(Tfidf_vect.vocabulary_)"
   ]
  },
  {
   "cell_type": "code",
   "execution_count": 195,
   "metadata": {},
   "outputs": [
    {
     "name": "stdout",
     "output_type": "stream",
     "text": [
      "Naive Bayes Accuracy Score ->  81.00401606425703\n"
     ]
    }
   ],
   "source": [
    "# fit the training dataset on the NB classifier\n",
    "Naive = naive_bayes.MultinomialNB()\n",
    "Naive.fit(Train_X_Tfidf,Train_Y)\n",
    "# predict the labels on validation dataset\n",
    "predictions_NB = Naive.predict(Test_X_Tfidf)\n",
    "# Use accuracy_score function to get the accuracy\n",
    "print(\"Naive Bayes Accuracy Score -> \",accuracy_score(predictions_NB, Test_Y)*100)"
   ]
  },
  {
   "cell_type": "code",
   "execution_count": 196,
   "metadata": {},
   "outputs": [
    {
     "data": {
      "text/plain": [
       "array([1, 0, 1, ..., 1, 1, 1], dtype=int64)"
      ]
     },
     "execution_count": 196,
     "metadata": {},
     "output_type": "execute_result"
    }
   ],
   "source": [
    "predictions_NB"
   ]
  },
  {
   "cell_type": "code",
   "execution_count": 197,
   "metadata": {},
   "outputs": [
    {
     "name": "stdout",
     "output_type": "stream",
     "text": [
      "SVM Accuracy Score ->  81.56626506024097\n"
     ]
    }
   ],
   "source": [
    "# Classifier - Algorithm - SVM\n",
    "# fit the training dataset on the classifier\n",
    "SVM = svm.SVC(C=1.0, kernel='linear', degree=3, gamma='auto')\n",
    "SVM.fit(Train_X_Tfidf,Train_Y)\n",
    "# predict the labels on validation dataset\n",
    "predictions_SVM = SVM.predict(Test_X_Tfidf)\n",
    "# Use accuracy_score function to get the accuracy\n",
    "print(\"SVM Accuracy Score -> \",accuracy_score(predictions_SVM, Test_Y)*100)"
   ]
  },
  {
   "cell_type": "code",
   "execution_count": 1,
   "metadata": {},
   "outputs": [
    {
     "name": "stdout",
     "output_type": "stream",
     "text": [
      "                                \n"
     ]
    }
   ],
   "source": [
    "print(' '*32)"
   ]
  },
  {
   "cell_type": "code",
   "execution_count": null,
   "metadata": {},
   "outputs": [],
   "source": []
  }
 ],
 "metadata": {
  "kernelspec": {
   "display_name": "Python 3",
   "language": "python",
   "name": "python3"
  },
  "language_info": {
   "codemirror_mode": {
    "name": "ipython",
    "version": 3
   },
   "file_extension": ".py",
   "mimetype": "text/x-python",
   "name": "python",
   "nbconvert_exporter": "python",
   "pygments_lexer": "ipython3",
   "version": "3.7.3"
  }
 },
 "nbformat": 4,
 "nbformat_minor": 2
}
